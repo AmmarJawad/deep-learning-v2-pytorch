{
 "cells": [
  {
   "cell_type": "markdown",
   "metadata": {},
   "source": [
    "# Neural networks with PyTorch\n",
    "\n",
    "Deep learning networks tend to be massive with dozens or hundreds of layers, that's where the term \"deep\" comes from. You can build one of these deep networks using only weight matrices as we did in the previous notebook, but in general it's very cumbersome and difficult to implement. PyTorch has a nice module `nn` that provides a nice way to efficiently build large neural networks."
   ]
  },
  {
   "cell_type": "code",
   "execution_count": 1,
   "metadata": {},
   "outputs": [],
   "source": [
    "# Import necessary packages\n",
    "\n",
    "%matplotlib inline\n",
    "%config InlineBackend.figure_format = 'retina'\n",
    "\n",
    "import numpy as np\n",
    "import torch\n",
    "\n",
    "import helper\n",
    "\n",
    "import matplotlib.pyplot as plt"
   ]
  },
  {
   "cell_type": "markdown",
   "metadata": {},
   "source": [
    "\n",
    "Now we're going to build a larger network that can solve a (formerly) difficult problem, identifying text in an image. Here we'll use the MNIST dataset which consists of greyscale handwritten digits. Each image is 28x28 pixels, you can see a sample below\n",
    "\n",
    "<img src='assets/mnist.png'>\n",
    "\n",
    "Our goal is to build a neural network that can take one of these images and predict the digit in the image.\n",
    "\n",
    "First up, we need to get our dataset. This is provided through the `torchvision` package. The code below will download the MNIST dataset, then create training and test datasets for us. Don't worry too much about the details here, you'll learn more about this later."
   ]
  },
  {
   "cell_type": "code",
   "execution_count": 2,
   "metadata": {},
   "outputs": [],
   "source": [
    "### Run this cell\n",
    "\n",
    "from torchvision import datasets, transforms\n",
    "\n",
    "# Define a transform to normalize the data\n",
    "transform = transforms.Compose([transforms.ToTensor(),\n",
    "                              transforms.Normalize((0.5,), (0.5,)),\n",
    "                              ])\n",
    "\n",
    "# Download and load the training data\n",
    "trainset = datasets.MNIST('~/.pytorch/MNIST_data/', download=True, train=True, transform=transform)\n",
    "trainloader = torch.utils.data.DataLoader(trainset, batch_size=64, shuffle=True)"
   ]
  },
  {
   "cell_type": "markdown",
   "metadata": {},
   "source": [
    "We have the training data loaded into `trainloader` and we make that an iterator with `iter(trainloader)`. Later, we'll use this to loop through the dataset for training, like\n",
    "\n",
    "```python\n",
    "for image, label in trainloader:\n",
    "    ## do things with images and labels\n",
    "```\n",
    "\n",
    "You'll notice I created the `trainloader` with a batch size of 64, and `shuffle=True`. The batch size is the number of images we get in one iteration from the data loader and pass through our network, often called a *batch*. And `shuffle=True` tells it to shuffle the dataset every time we start going through the data loader again. But here I'm just grabbing the first batch so we can check out the data. We can see below that `images` is just a tensor with size `(64, 1, 28, 28)`. So, 64 images per batch, 1 color channel, and 28x28 images."
   ]
  },
  {
   "cell_type": "code",
   "execution_count": 3,
   "metadata": {},
   "outputs": [
    {
     "name": "stdout",
     "output_type": "stream",
     "text": [
      "<class 'torch.Tensor'>\n",
      "torch.Size([64, 1, 28, 28])\n",
      "torch.Size([64])\n"
     ]
    }
   ],
   "source": [
    "dataiter = iter(trainloader)\n",
    "images, labels = dataiter.next()\n",
    "print(type(images))\n",
    "print(images.shape)\n",
    "print(labels.shape)"
   ]
  },
  {
   "cell_type": "markdown",
   "metadata": {},
   "source": [
    "This is what one of the images looks like. "
   ]
  },
  {
   "cell_type": "code",
   "execution_count": 4,
   "metadata": {},
   "outputs": [
    {
     "data": {
      "image/png": "[encoded data removed]",
      "text/plain": [
       "<Figure size 432x288 with 1 Axes>"
      ]
     },
     "metadata": {
      "image/png": {
       "height": 250,
       "width": 253
      },
      "needs_background": "light"
     },
     "output_type": "display_data"
    }
   ],
   "source": [
    "plt.imshow(images[1].numpy().squeeze(), cmap='Greys_r');"
   ]
  },
  {
   "cell_type": "markdown",
   "metadata": {},
   "source": [
    "First, let's try to build a simple network for this dataset using weight matrices and matrix multiplications. Then, we'll see how to do it using PyTorch's `nn` module which provides a much more convenient and powerful method for defining network architectures.\n",
    "\n",
    "The networks you've seen so far are called *fully-connected* or *dense* networks. Each unit in one layer is connected to each unit in the next layer. In fully-connected networks, the input to each layer must be a one-dimensional vector (which can be stacked into a 2D tensor as a batch of multiple examples). However, our images are 28x28 2D tensors, so we need to convert them into 1D vectors. Thinking about sizes, we need to convert the batch of images with shape `(64, 1, 28, 28)` to a have a shape of `(64, 784)`, 784 is 28 times 28. This is typically called *flattening*, we flattened the 2D images into 1D vectors.\n",
    "\n",
    "Previously you built a network with one output unit. Here we need 10 output units, one for each digit. We want our network to predict the digit shown in an image, so what we'll do is calculate probabilities that the image is of any one digit or class. This ends up being a discrete probability distribution over the classes (digits) that tells us the most likely class for the image. That means we need 10 output units for the 10 classes (digits). We'll see how to convert the network output into a probability distribution next.\n",
    "\n",
    "> **Exercise:** Flatten the batch of images `images`. Then build a multi-layer network with 784 input units, 256 hidden units, and 10 output units using random tensors for the weights and biases. For now, use a sigmoid activation for the hidden layer. Leave the output layer without an activation, we'll add one that gives us a probability distribution next."
   ]
  },
  {
   "cell_type": "code",
   "execution_count": 7,
   "metadata": {
    "collapsed": true
   },
   "outputs": [
    {
     "name": "stdout",
     "output_type": "stream",
     "text": [
      "tensor([[ 3.6998e+00, -9.8198e+00,  4.3861e+00,  6.2475e+00,  1.2901e+00,\n",
      "          7.4253e+00, -1.8461e+01, -2.4226e+00, -2.3527e+00, -8.0499e+00],\n",
      "        [-4.1545e+00, -3.9629e-01,  6.9119e-01,  1.3942e+01,  8.9729e+00,\n",
      "          2.5766e+00, -2.5426e+01,  5.1785e+00, -2.0050e+00, -6.3462e+00],\n",
      "        [ 3.6020e+00, -2.4238e+00, -2.8198e+00,  8.9667e+00,  7.5020e+00,\n",
      "         -3.5948e+00, -2.1513e+01,  1.2661e+01, -8.4048e+00, -1.7512e+01],\n",
      "        [ 8.5062e+00,  1.7079e+00, -7.5313e+00, -9.8142e-01, -4.1942e+00,\n",
      "         -3.6472e+00, -2.3235e+01,  4.1980e+00, -1.6049e+00, -2.1777e+00],\n",
      "        [ 7.3493e+00, -1.0458e+01, -9.7045e+00, -2.6669e-01,  6.3352e+00,\n",
      "          9.4671e+00, -2.1308e+01,  2.9303e+00, -6.6296e+00, -8.0301e+00],\n",
      "        [ 5.1447e+00, -5.5700e+00, -7.8038e+00,  1.9371e+01, -2.9022e+00,\n",
      "          1.0190e+01, -2.2946e+01, -1.2831e+00, -3.7082e+00, -1.2447e+01],\n",
      "        [ 4.5827e+00, -7.7141e+00, -2.5913e+00,  1.0364e+01, -1.3103e+00,\n",
      "         -8.7842e-02, -2.9812e+01,  6.8395e+00, -1.1024e+01, -4.9602e+00],\n",
      "        [ 4.9387e+00, -1.0886e+01,  1.0376e+01,  7.2744e+00, -1.1076e+00,\n",
      "          1.0981e+01, -2.6186e+01,  1.2081e+01, -2.1465e+00, -7.2576e+00],\n",
      "        [-8.1489e+00,  6.5624e+00, -4.2438e+00,  7.7735e+00, -2.9591e-01,\n",
      "         -1.6609e+00, -2.8450e+01,  9.7865e+00, -1.0833e+01, -5.3314e+00],\n",
      "        [ 7.6769e+00, -3.0573e+00,  5.7805e-01,  1.3501e+01,  4.2240e+00,\n",
      "         -1.4056e-01, -2.3859e+01,  4.4695e+00,  1.3801e+01, -1.1082e+01],\n",
      "        [-6.4448e+00, -1.1935e+01, -4.5124e-01,  8.6861e+00,  1.1825e+00,\n",
      "         -3.7721e-02, -3.3355e+01,  8.7640e+00, -2.4640e+00, -4.5808e+00],\n",
      "        [ 1.1276e+00, -3.2467e+00,  2.1400e-01,  9.4523e+00,  4.2385e+00,\n",
      "          3.4546e+00, -2.7755e+01,  4.5574e+00, -3.4624e+00, -1.3110e+01],\n",
      "        [ 7.8543e+00, -3.1574e+00, -1.8670e+00,  9.0574e+00, -9.0098e-01,\n",
      "          2.5588e+00, -2.7834e+01,  4.0207e+00, -6.8264e+00, -1.0630e+01],\n",
      "        [ 1.6255e+00, -1.2366e+01,  4.7201e-01,  1.1015e+01,  7.9239e+00,\n",
      "          8.6734e+00, -2.7358e+01,  6.8844e+00, -2.0215e+00, -1.1458e+00],\n",
      "        [ 6.8625e+00, -1.4541e+01, -9.1439e+00, -9.5800e-01,  3.8918e-01,\n",
      "          1.0265e+01, -1.4602e+01,  8.2258e+00, -9.1236e+00, -4.2187e+00],\n",
      "        [ 9.7826e-01,  1.2917e+00,  1.1989e+01,  8.5849e+00,  5.6479e+00,\n",
      "          8.7171e+00, -2.8649e+01,  1.1336e+01, -1.1334e+00, -7.5100e+00],\n",
      "        [ 1.1494e+01, -6.2883e+00,  2.5006e+00,  9.1097e+00,  2.0683e+00,\n",
      "          7.0025e+00, -2.7587e+01,  2.4578e+00, -2.7651e-01, -1.6912e+01],\n",
      "        [ 9.8678e+00, -6.9565e+00, -1.1151e+01,  1.0082e+01, -1.4111e+00,\n",
      "         -2.1467e+00, -3.1333e+01,  1.1532e-01, -5.7773e+00, -6.2946e+00],\n",
      "        [-2.5710e+00,  7.8105e-01, -2.0852e+00,  7.2221e+00,  2.2432e+00,\n",
      "          3.1297e-01, -3.4741e+01,  9.3905e+00, -4.4963e+00, -1.1752e+01],\n",
      "        [-7.6999e+00, -1.2044e+01, -9.7546e-01,  4.6009e+00,  1.2827e+01,\n",
      "          2.8728e+00, -2.1699e+01,  1.1903e+01, -1.1325e+01, -3.6723e+00],\n",
      "        [ 3.3962e+00, -4.3302e+00,  4.5462e+00,  9.5863e+00,  5.9109e+00,\n",
      "          1.0011e+01, -2.4960e+01,  1.0707e+01, -7.6598e+00, -4.5766e+00],\n",
      "        [ 1.8527e+00, -4.6720e+00, -1.9644e+00,  1.3794e+01, -2.4360e+00,\n",
      "          4.1371e+00, -2.2683e+01,  1.0220e+00, -1.3476e+01, -9.8675e+00],\n",
      "        [-3.1169e+00, -5.8595e-01, -4.3272e+00,  1.0269e+01,  2.1931e-01,\n",
      "          2.4333e+00, -2.7213e+01, -2.4704e+00, -6.5923e+00, -1.3251e+01],\n",
      "        [ 6.1412e+00, -1.1204e+01, -1.1560e+01,  6.7561e+00, -1.0438e+00,\n",
      "          4.6270e+00, -2.5812e+01, -7.0839e+00, -1.0330e+01, -1.3483e+01],\n",
      "        [ 4.7521e+00, -1.3974e+00,  1.6133e+00,  2.1291e+01,  6.8614e-01,\n",
      "          6.9804e+00, -2.6369e+01,  3.6799e+00,  3.7476e+00, -9.6267e+00],\n",
      "        [ 3.1608e+00, -6.8921e+00, -1.6245e+00,  1.0197e+01, -7.9619e-01,\n",
      "          8.4594e+00, -2.8004e+01,  1.0310e+01,  6.8674e-02, -7.7392e+00],\n",
      "        [-2.2436e+00, -1.2187e+01, -7.2205e+00,  7.3852e+00, -2.1831e+00,\n",
      "          1.3489e+00, -2.7035e+01,  1.2244e+01, -2.1124e+01, -1.2264e+01],\n",
      "        [ 4.5761e+00, -4.4461e-01,  1.5041e+00,  1.3478e+01,  5.1948e+00,\n",
      "          8.7530e+00, -2.5741e+01,  9.5037e+00, -8.8486e+00, -9.1622e+00],\n",
      "        [-2.1051e+00, -5.2305e+00, -5.0658e+00,  1.4395e+01,  8.4123e+00,\n",
      "          9.0810e+00, -2.3640e+01,  3.7463e+00, -7.0913e+00, -1.2558e+01],\n",
      "        [ 5.1053e+00, -1.2521e+01, -1.5971e+00,  9.5659e+00, -5.7309e-01,\n",
      "          5.9184e+00, -2.4426e+01,  2.2177e+00, -7.9639e+00, -1.0674e+01],\n",
      "        [ 9.5614e+00, -8.6265e+00, -1.4646e+00,  2.2733e+01,  6.5127e+00,\n",
      "          3.6508e+00, -2.5117e+01,  2.0789e+00, -9.7956e+00, -3.8870e+00],\n",
      "        [ 1.0047e+01, -1.3651e+01, -2.3050e+00,  6.9136e+00,  4.1181e-01,\n",
      "          4.8468e+00, -2.5977e+01, -1.9509e+00, -5.9299e+00, -8.2796e+00],\n",
      "        [ 8.0383e-01, -3.4989e+00, -1.2906e+00,  1.9532e+01,  5.0241e+00,\n",
      "          1.8368e+00, -3.4089e+01,  8.9626e+00, -6.2355e+00, -1.7977e+01],\n",
      "        [ 2.7555e+00, -1.1202e+01, -1.9277e+00,  1.0737e+01,  7.9953e+00,\n",
      "          3.9314e-01, -2.8639e+01, -1.4071e-01, -8.5206e-01, -1.1499e+01],\n",
      "        [-7.8976e-01, -4.3029e+00,  3.6401e+00,  9.9809e+00, -2.5966e+00,\n",
      "          1.8813e+00, -1.6308e+01,  2.9106e+00, -9.3448e+00, -1.6376e+01],\n",
      "        [ 3.3297e+00, -7.1267e+00,  1.3224e+01,  7.6364e-01,  8.5573e+00,\n",
      "          2.4243e+00, -1.5463e+01,  7.2179e+00, -7.0853e+00, -6.6206e+00],\n",
      "        [ 8.3367e+00, -1.1757e+01, -3.2934e+00,  1.0123e+01,  1.2273e+00,\n",
      "          9.4005e+00, -2.5277e+01,  6.9330e+00,  4.2919e+00,  2.2376e+00],\n",
      "        [-4.8882e+00,  9.7513e-01, -1.1132e+00,  9.2045e+00,  8.8711e+00,\n",
      "          1.4434e+01, -2.6204e+01,  1.4967e-01,  2.3267e+00, -1.9994e+01],\n",
      "        [-7.7442e-01, -1.1448e+01, -1.2962e+00,  1.0965e+01, -4.3636e-01,\n",
      "          2.2786e+00, -3.6678e+01,  8.0834e+00, -3.0131e-01, -7.2704e+00],\n",
      "        [ 9.2789e+00, -1.1513e+01, -5.7889e+00,  3.8799e+00,  5.1054e+00,\n",
      "          6.5286e+00, -2.6526e+01,  6.8858e+00, -9.7651e+00, -7.4241e+00],\n",
      "        [-3.2370e-01, -7.2236e+00,  3.2710e+00,  1.5790e+01,  2.9275e+00,\n",
      "          2.6203e+00, -2.5050e+01,  4.2125e+00, -5.3183e+00, -1.3138e+01],\n",
      "        [ 3.6555e+00, -1.9504e+00,  5.8989e+00,  1.0609e+01,  9.4213e+00,\n",
      "          3.4912e+00, -1.6023e+01,  1.2010e+01, -8.4520e+00, -2.1254e+01],\n",
      "        [-3.4974e+00, -6.2867e+00, -2.2414e+00,  8.4123e+00,  1.0301e+01,\n",
      "          1.0997e+01, -2.6313e+01,  9.7290e+00, -6.1396e+00, -9.7564e+00],\n",
      "        [ 8.7612e+00, -8.3738e+00, -6.3987e+00,  1.7015e+01,  1.5858e+00,\n",
      "          3.7791e+00, -2.0726e+01,  1.8311e+00, -1.4604e+00, -1.2691e+01],\n",
      "        [ 6.2755e+00, -1.0980e+01,  4.5335e-01,  1.3507e+01, -6.0533e+00,\n",
      "          7.8173e+00, -1.8110e+01,  2.1909e+00, -6.1258e+00, -1.7567e+00],\n",
      "        [ 1.3202e+01, -1.5202e+00,  2.1349e+00,  1.3559e+01,  2.9874e+00,\n",
      "         -5.3738e+00, -3.3748e+01,  7.7040e+00, -9.3592e+00, -2.9276e+00],\n",
      "        [ 8.5246e+00, -5.3070e+00, -1.6510e-01,  1.9958e+00, -4.0514e+00,\n",
      "          4.7612e+00, -2.0513e+01, -2.7025e+00,  1.1852e+00, -1.1824e+01],\n",
      "        [ 6.8549e+00, -8.6678e+00,  1.4327e+00,  1.4841e+01,  4.3738e+00,\n",
      "          1.3631e+00, -2.3675e+01,  5.3251e-01, -3.3207e+00, -1.9316e+01],\n",
      "        [-2.8165e+00, -1.6274e+01,  8.7968e+00,  5.6114e+00,  1.4825e+01,\n",
      "          3.5823e+00, -1.8101e+01,  2.2832e+00, -1.0198e+01, -9.0461e+00],\n",
      "        [ 9.7118e+00, -9.4619e+00, -8.0165e+00,  1.1485e+01,  3.6413e+00,\n",
      "          9.2516e+00, -2.5590e+01, -5.1080e-01, -1.1277e+01, -1.0408e+01],\n",
      "        [ 1.1663e+01, -3.9243e+00,  9.5506e+00,  1.3405e+01, -7.8335e-01,\n",
      "          7.5463e-01, -1.8190e+01,  4.6860e+00, -1.3260e+00, -4.3036e+00],\n",
      "        [ 3.4560e+00, -1.7289e+00,  2.0708e+00,  1.2604e+01,  1.6396e+01,\n",
      "          1.0211e+01, -2.3500e+01,  5.9730e+00, -6.7264e+00, -1.1593e+01],\n",
      "        [ 8.3013e+00, -4.5146e+00, -5.7440e+00,  7.9264e+00,  3.5194e+00,\n",
      "          4.3556e+00, -2.4385e+01,  1.3111e+01, -3.6419e+00, -1.2854e+01],\n",
      "        [ 5.3271e+00, -1.4690e+01,  5.9279e+00,  1.7102e+01,  7.0803e+00,\n",
      "          5.0879e+00, -2.4271e+01, -5.2940e-01, -4.6393e+00, -7.5932e+00],\n",
      "        [ 9.0947e-01, -6.4769e+00, -1.4079e+00, -5.8267e+00,  6.0522e+00,\n",
      "          5.8354e+00, -1.5868e+01,  7.5050e+00, -6.5643e+00, -1.5303e+01],\n",
      "        [ 7.9006e+00, -4.8860e+00, -5.6602e+00,  1.5246e+01,  6.3074e+00,\n",
      "          8.1700e+00, -2.6597e+01,  2.5594e+00, -3.0619e+00, -1.3119e+01],\n",
      "        [ 4.9226e+00, -7.3833e+00, -6.7624e-01,  5.3616e+00,  2.5198e+00,\n",
      "          6.6746e+00, -3.0519e+01,  6.3826e+00, -6.3318e+00, -1.0138e+01],\n",
      "        [ 2.9781e+00, -7.9974e+00, -2.8823e+00,  4.0731e+00,  3.8618e+00,\n",
      "          5.4809e+00, -2.4318e+01,  3.9256e+00,  2.7902e+00, -8.4974e+00],\n",
      "        [-8.9313e-03, -4.8104e+00,  5.1075e+00,  1.6322e+01,  1.4025e+00,\n",
      "          2.0470e+00, -2.3016e+01, -4.4780e+00, -3.8806e+00, -1.8188e+01],\n",
      "        [ 2.6104e+00, -1.2034e+01,  1.7747e+00,  3.0012e+00, -5.7029e+00,\n",
      "          1.5807e+01, -1.7490e+01,  6.9251e+00, -4.1645e-01,  1.4696e+00],\n",
      "        [ 6.4593e+00, -6.3406e+00,  3.2160e+00,  1.7569e+01,  3.0137e+00,\n",
      "          6.8498e+00, -2.6917e+01,  4.6239e+00,  9.8532e+00, -9.4656e+00],\n",
      "        [ 1.4143e+01, -1.5579e+01,  7.3248e-01,  7.6368e+00, -7.4681e+00,\n",
      "          1.0740e+01, -2.4727e+01, -1.0585e+01, -7.2891e+00, -6.6063e+00],\n",
      "        [ 5.3694e+00, -8.7551e+00, -5.0179e+00,  1.0615e+01,  3.1789e+00,\n",
      "         -3.6418e+00, -3.0438e+01,  1.3797e+00,  5.1980e-01, -1.0980e+01],\n",
      "        [ 1.1271e+00, -1.6701e+00, -2.8528e+00,  8.5344e+00,  1.2332e+00,\n",
      "          1.7139e+00, -2.3619e+01,  8.9984e+00, -2.1839e+01, -2.5640e+00]])\n"
     ]
    }
   ],
   "source": [
    "## Your solution\n",
    "\n",
    "def activation(x):\n",
    "    return 1/(1+torch.exp(-x))\n",
    "\n",
    "# Flatten the input images\n",
    "inputs = images.view(images.shape[0], -1)\n",
    "\n",
    "# Create parameters\n",
    "w1 = torch.randn(784, 256)\n",
    "b1 = torch.randn(256)\n",
    "\n",
    "w2 = torch.randn(256, 10)\n",
    "b2 = torch.randn(10)\n",
    "\n",
    "h = activation(torch.mm(inputs, w1) + b1)\n",
    "\n",
    "out = torch.mm(h, w2) + b2\n",
    "print(out)"
   ]
  },
  {
   "cell_type": "markdown",
   "metadata": {},
   "source": [
    "Now we have 10 outputs for our network. We want to pass in an image to our network and get out a probability distribution over the classes that tells us the likely class(es) the image belongs to. Something that looks like this:\n",
    "<img src='assets/image_distribution.png' width=500px>\n",
    "\n",
    "Here we see that the probability for each class is roughly the same. This is representing an untrained network, it hasn't seen any data yet so it just returns a uniform distribution with equal probabilities for each class.\n",
    "\n",
    "To calculate this probability distribution, we often use the [**softmax** function](https://en.wikipedia.org/wiki/Softmax_function). Mathematically this looks like\n",
    "\n",
    "$$\n",
    "\\Large \\sigma(x_i) = \\cfrac{e^{x_i}}{\\sum_k^K{e^{x_k}}}\n",
    "$$\n",
    "\n",
    "What this does is squish each input $x_i$ between 0 and 1 and normalizes the values to give you a proper probability distribution where the probabilites sum up to one.\n",
    "\n",
    "> **Exercise:** Implement a function `softmax` that performs the softmax calculation and returns probability distributions for each example in the batch. Note that you'll need to pay attention to the shapes when doing this. If you have a tensor `a` with shape `(64, 10)` and a tensor `b` with shape `(64,)`, doing `a/b` will give you an error because PyTorch will try to do the division across the columns (called broadcasting) but you'll get a size mismatch. The way to think about this is for each of the 64 examples, you only want to divide by one value, the sum in the denominator. So you need `b` to have a shape of `(64, 1)`. This way PyTorch will divide the 10 values in each row of `a` by the one value in each row of `b`. Pay attention to how you take the sum as well. You'll need to define the `dim` keyword in `torch.sum`. Setting `dim=0` takes the sum across the rows while `dim=1` takes the sum across the columns."
   ]
  },
  {
   "cell_type": "code",
   "execution_count": 8,
   "metadata": {
    "collapsed": true
   },
   "outputs": [
    {
     "name": "stdout",
     "output_type": "stream",
     "text": [
      "torch.Size([64, 10])\n",
      "tensor([1.0000, 1.0000, 1.0000, 1.0000, 1.0000, 1.0000, 1.0000, 1.0000, 1.0000,\n",
      "        1.0000, 1.0000, 1.0000, 1.0000, 1.0000, 1.0000, 1.0000, 1.0000, 1.0000,\n",
      "        1.0000, 1.0000, 1.0000, 1.0000, 1.0000, 1.0000, 1.0000, 1.0000, 1.0000,\n",
      "        1.0000, 1.0000, 1.0000, 1.0000, 1.0000, 1.0000, 1.0000, 1.0000, 1.0000,\n",
      "        1.0000, 1.0000, 1.0000, 1.0000, 1.0000, 1.0000, 1.0000, 1.0000, 1.0000,\n",
      "        1.0000, 1.0000, 1.0000, 1.0000, 1.0000, 1.0000, 1.0000, 1.0000, 1.0000,\n",
      "        1.0000, 1.0000, 1.0000, 1.0000, 1.0000, 1.0000, 1.0000, 1.0000, 1.0000,\n",
      "        1.0000])\n"
     ]
    }
   ],
   "source": [
    "def softmax(x):\n",
    "    ## TODO: Implement the softmax function here\n",
    "    return torch.exp(x)/torch.sum(torch.exp(x), dim=1).view(-1, 1)\n",
    "       \n",
    "# Here, out should be the output of the network in the previous excercise with shape (64,10)\n",
    "probabilities = softmax(out)\n",
    "\n",
    "# Does it have the right shape? Should be (64, 10)\n",
    "print(probabilities.shape)\n",
    "# Does it sum to 1?\n",
    "print(probabilities.sum(dim=1))"
   ]
  },
  {
   "cell_type": "markdown",
   "metadata": {},
   "source": [
    "## Building networks with PyTorch\n",
    "\n",
    "PyTorch provides a module `nn` that makes building networks much simpler. Here I'll show you how to build the same one as above with 784 inputs, 256 hidden units, 10 output units and a softmax output."
   ]
  },
  {
   "cell_type": "code",
   "execution_count": 9,
   "metadata": {
    "collapsed": true
   },
   "outputs": [],
   "source": [
    "from torch import nn"
   ]
  },
  {
   "cell_type": "code",
   "execution_count": 10,
   "metadata": {
    "collapsed": true
   },
   "outputs": [],
   "source": [
    "class Network(nn.Module):\n",
    "    def __init__(self):\n",
    "        super().__init__()\n",
    "        \n",
    "        # Inputs to hidden layer linear transformation\n",
    "        self.hidden = nn.Linear(784, 256)\n",
    "        # Output layer, 10 units - one for each digit\n",
    "        self.output = nn.Linear(256, 10)\n",
    "        \n",
    "        # Define sigmoid activation and softmax output \n",
    "        self.sigmoid = nn.Sigmoid()\n",
    "        self.softmax = nn.Softmax(dim=1)\n",
    "        \n",
    "    def forward(self, x):\n",
    "        # Pass the input tensor through each of our operations\n",
    "        x = self.hidden(x)\n",
    "        x = self.sigmoid(x)\n",
    "        x = self.output(x)\n",
    "        x = self.softmax(x)\n",
    "        \n",
    "        return x"
   ]
  },
  {
   "cell_type": "markdown",
   "metadata": {},
   "source": [
    "Let's go through this bit by bit.\n",
    "\n",
    "```python\n",
    "class Network(nn.Module):\n",
    "```\n",
    "\n",
    "Here we're inheriting from `nn.Module`. Combined with `super().__init__()` this creates a class that tracks the architecture and provides a lot of useful methods and attributes. It is mandatory to inherit from `nn.Module` when you're creating a class for your network. The name of the class itself can be anything.\n",
    "\n",
    "```python\n",
    "self.hidden = nn.Linear(784, 256)\n",
    "```\n",
    "\n",
    "This line creates a module for a linear transformation, $x\\mathbf{W} + b$, with 784 inputs and 256 outputs and assigns it to `self.hidden`. The module automatically creates the weight and bias tensors which we'll use in the `forward` method. You can access the weight and bias tensors once the network (`net`) is created with `net.hidden.weight` and `net.hidden.bias`.\n",
    "\n",
    "```python\n",
    "self.output = nn.Linear(256, 10)\n",
    "```\n",
    "\n",
    "Similarly, this creates another linear transformation with 256 inputs and 10 outputs.\n",
    "\n",
    "```python\n",
    "self.sigmoid = nn.Sigmoid()\n",
    "self.softmax = nn.Softmax(dim=1)\n",
    "```\n",
    "\n",
    "Here I defined operations for the sigmoid activation and softmax output. Setting `dim=1` in `nn.Softmax(dim=1)` calculates softmax across the columns.\n",
    "\n",
    "```python\n",
    "def forward(self, x):\n",
    "```\n",
    "\n",
    "PyTorch networks created with `nn.Module` must have a `forward` method defined. It takes in a tensor `x` and passes it through the operations you defined in the `__init__` method.\n",
    "\n",
    "```python\n",
    "x = self.hidden(x)\n",
    "x = self.sigmoid(x)\n",
    "x = self.output(x)\n",
    "x = self.softmax(x)\n",
    "```\n",
    "\n",
    "Here the input tensor `x` is passed through each operation a reassigned to `x`. We can see that the input tensor goes through the hidden layer, then a sigmoid function, then the output layer, and finally the softmax function. It doesn't matter what you name the variables here, as long as the inputs and outputs of the operations match the network architecture you want to build. The order in which you define things in the `__init__` method doesn't matter, but you'll need to sequence the operations correctly in the `forward` method.\n",
    "\n",
    "Now we can create a `Network` object."
   ]
  },
  {
   "cell_type": "code",
   "execution_count": 11,
   "metadata": {
    "collapsed": true
   },
   "outputs": [
    {
     "data": {
      "text/plain": [
       "Network(\n",
       "  (hidden): Linear(in_features=784, out_features=256, bias=True)\n",
       "  (output): Linear(in_features=256, out_features=10, bias=True)\n",
       "  (sigmoid): Sigmoid()\n",
       "  (softmax): Softmax()\n",
       ")"
      ]
     },
     "execution_count": 11,
     "metadata": {},
     "output_type": "execute_result"
    }
   ],
   "source": [
    "# Create the network and look at it's text representation\n",
    "model = Network()\n",
    "model"
   ]
  },
  {
   "cell_type": "markdown",
   "metadata": {},
   "source": [
    "You can define the network somewhat more concisely and clearly using the `torch.nn.functional` module. This is the most common way you'll see networks defined as many operations are simple element-wise functions. We normally import this module as `F`, `import torch.nn.functional as F`."
   ]
  },
  {
   "cell_type": "code",
   "execution_count": 12,
   "metadata": {
    "collapsed": true
   },
   "outputs": [],
   "source": [
    "import torch.nn.functional as F\n",
    "\n",
    "class Network(nn.Module):\n",
    "    def __init__(self):\n",
    "        super().__init__()\n",
    "        # Inputs to hidden layer linear transformation\n",
    "        self.hidden = nn.Linear(784, 256)\n",
    "        # Output layer, 10 units - one for each digit\n",
    "        self.output = nn.Linear(256, 10)\n",
    "        \n",
    "    def forward(self, x):\n",
    "        # Hidden layer with sigmoid activation\n",
    "        x = F.sigmoid(self.hidden(x))\n",
    "        # Output layer with softmax activation\n",
    "        x = F.softmax(self.output(x), dim=1)\n",
    "        \n",
    "        return x"
   ]
  },
  {
   "cell_type": "markdown",
   "metadata": {},
   "source": [
    "### Activation functions\n",
    "\n",
    "So far we've only been looking at the softmax activation, but in general any function can be used as an activation function. The only requirement is that for a network to approximate a non-linear function, the activation functions must be non-linear. Here are a few more examples of common activation functions: Tanh (hyperbolic tangent), and ReLU (rectified linear unit).\n",
    "\n",
    "<img src=\"assets/activation.png\" width=700px>\n",
    "\n",
    "In practice, the ReLU function is used almost exclusively as the activation function for hidden layers."
   ]
  },
  {
   "cell_type": "markdown",
   "metadata": {},
   "source": [
    "### Your Turn to Build a Network\n",
    "\n",
    "<img src=\"assets/mlp_mnist.png\" width=600px>\n",
    "\n",
    "> **Exercise:** Create a network with 784 input units, a hidden layer with 128 units and a ReLU activation, then a hidden layer with 64 units and a ReLU activation, and finally an output layer with a softmax activation as shown above. You can use a ReLU activation with the `nn.ReLU` module or `F.relu` function."
   ]
  },
  {
   "cell_type": "code",
   "execution_count": 13,
   "metadata": {
    "collapsed": true,
    "scrolled": true
   },
   "outputs": [
    {
     "data": {
      "text/plain": [
       "Network(\n",
       "  (fc1): Linear(in_features=784, out_features=128, bias=True)\n",
       "  (fc2): Linear(in_features=128, out_features=64, bias=True)\n",
       "  (fc3): Linear(in_features=64, out_features=10, bias=True)\n",
       ")"
      ]
     },
     "execution_count": 13,
     "metadata": {},
     "output_type": "execute_result"
    }
   ],
   "source": [
    "## Your solution here\n",
    "\n",
    "class Network(nn.Module):\n",
    "    def __init__(self):\n",
    "        super().__init__()\n",
    "        # Defining the layers, 128, 64, 10 units each\n",
    "        self.fc1 = nn.Linear(784, 128)\n",
    "        self.fc2 = nn.Linear(128, 64)\n",
    "        # Output layer, 10 units - one for each digit\n",
    "        self.fc3 = nn.Linear(64, 10)\n",
    "        \n",
    "    def forward(self, x):\n",
    "        ''' Forward pass through the network, returns the output logits '''\n",
    "        \n",
    "        x = self.fc1(x)\n",
    "        x = F.relu(x)\n",
    "        x = self.fc2(x)\n",
    "        x = F.relu(x)\n",
    "        x = self.fc3(x)\n",
    "        x = F.softmax(x, dim=1)\n",
    "        \n",
    "        return x\n",
    "\n",
    "model = Network()\n",
    "model"
   ]
  },
  {
   "cell_type": "markdown",
   "metadata": {},
   "source": [
    "### Initializing weights and biases\n",
    "\n",
    "The weights and such are automatically initialized for you, but it's possible to customize how they are initialized. The weights and biases are tensors attached to the layer you defined, you can get them with `model.fc1.weight` for instance."
   ]
  },
  {
   "cell_type": "code",
   "execution_count": 14,
   "metadata": {
    "collapsed": true
   },
   "outputs": [
    {
     "name": "stdout",
     "output_type": "stream",
     "text": [
      "Parameter containing:\n",
      "tensor([[-0.0128, -0.0075,  0.0321,  ...,  0.0222, -0.0247, -0.0207],\n",
      "        [-0.0066,  0.0193,  0.0347,  ..., -0.0093, -0.0210, -0.0302],\n",
      "        [-0.0049,  0.0064,  0.0202,  ...,  0.0139,  0.0027,  0.0198],\n",
      "        ...,\n",
      "        [-0.0077,  0.0132,  0.0331,  ...,  0.0188,  0.0295,  0.0187],\n",
      "        [ 0.0058,  0.0182,  0.0315,  ...,  0.0081,  0.0161,  0.0298],\n",
      "        [ 0.0115, -0.0115, -0.0089,  ..., -0.0104, -0.0044, -0.0205]],\n",
      "       requires_grad=True)\n",
      "Parameter containing:\n",
      "tensor([ 3.0411e-02, -6.5283e-03,  2.3537e-02,  3.3066e-03,  2.4170e-02,\n",
      "         2.4832e-02,  8.8063e-03,  4.9890e-03, -2.5042e-02, -1.1193e-02,\n",
      "        -1.0937e-02, -1.0326e-02,  8.4329e-05,  2.5047e-02,  2.0781e-02,\n",
      "        -1.8442e-04,  1.8353e-02,  3.3188e-02, -2.1118e-03, -2.3317e-02,\n",
      "         2.3243e-02,  3.2726e-02, -1.3616e-02, -5.8990e-03,  1.0391e-02,\n",
      "         2.7866e-02,  1.6652e-02, -1.8864e-02, -2.8121e-02, -2.2760e-02,\n",
      "         1.8656e-02,  6.6502e-03, -6.2665e-03, -1.5177e-03,  2.1978e-02,\n",
      "         2.7456e-02,  3.5472e-02,  1.8939e-02,  7.0772e-04,  1.8972e-02,\n",
      "         5.8628e-03,  6.0301e-03, -3.1227e-02,  5.0371e-03, -2.8413e-02,\n",
      "        -2.9060e-02,  4.5907e-03,  2.7932e-02, -2.7039e-02, -2.0541e-02,\n",
      "         2.1559e-02, -8.0153e-03, -3.2286e-02,  2.1536e-02, -3.5163e-02,\n",
      "        -1.5966e-02,  3.2571e-02, -1.7132e-02, -4.9220e-04,  8.0495e-03,\n",
      "         2.0288e-02,  2.2035e-02,  1.7322e-03,  2.7876e-03, -5.4762e-03,\n",
      "        -5.9804e-04, -3.5268e-02,  2.0471e-02,  2.2202e-03,  1.0724e-02,\n",
      "        -2.1986e-02, -6.1842e-03,  2.6319e-02, -4.7826e-03,  3.1783e-02,\n",
      "         2.2833e-02, -1.9432e-02, -3.9763e-03,  1.6561e-02,  8.2361e-03,\n",
      "        -4.0206e-03,  1.7664e-02, -2.2618e-02, -2.4877e-02, -2.5321e-02,\n",
      "         1.6956e-02,  3.2610e-02, -2.3863e-02, -1.9160e-02, -2.1289e-02,\n",
      "        -4.0487e-03, -3.1471e-02,  1.6565e-02,  2.9871e-03,  3.6036e-03,\n",
      "        -2.9284e-02,  3.0132e-02, -2.9064e-02,  1.6171e-02, -2.3638e-02,\n",
      "         1.6047e-02,  3.4185e-02,  8.3162e-03,  1.3846e-02, -9.0106e-03,\n",
      "         3.3213e-03,  1.2325e-03,  7.3291e-03, -2.6527e-02, -2.1258e-02,\n",
      "         2.6663e-02, -1.0169e-02,  3.0882e-02,  6.7990e-03, -1.2728e-02,\n",
      "         8.4033e-03, -3.3196e-02, -3.2572e-02,  3.4433e-02,  5.0152e-03,\n",
      "         1.5257e-02,  1.2252e-02,  1.0482e-02, -5.9604e-03, -1.6831e-02,\n",
      "        -3.3543e-02,  3.1456e-02,  1.7707e-02], requires_grad=True)\n"
     ]
    }
   ],
   "source": [
    "print(model.fc1.weight)\n",
    "print(model.fc1.bias)"
   ]
  },
  {
   "cell_type": "markdown",
   "metadata": {},
   "source": [
    "For custom initialization, we want to modify these tensors in place. These are actually autograd *Variables*, so we need to get back the actual tensors with `model.fc1.weight.data`. Once we have the tensors, we can fill them with zeros (for biases) or random normal values."
   ]
  },
  {
   "cell_type": "code",
   "execution_count": 15,
   "metadata": {
    "collapsed": true
   },
   "outputs": [
    {
     "data": {
      "text/plain": [
       "tensor([0., 0., 0., 0., 0., 0., 0., 0., 0., 0., 0., 0., 0., 0., 0., 0., 0., 0., 0., 0., 0., 0., 0., 0.,\n",
       "        0., 0., 0., 0., 0., 0., 0., 0., 0., 0., 0., 0., 0., 0., 0., 0., 0., 0., 0., 0., 0., 0., 0., 0.,\n",
       "        0., 0., 0., 0., 0., 0., 0., 0., 0., 0., 0., 0., 0., 0., 0., 0., 0., 0., 0., 0., 0., 0., 0., 0.,\n",
       "        0., 0., 0., 0., 0., 0., 0., 0., 0., 0., 0., 0., 0., 0., 0., 0., 0., 0., 0., 0., 0., 0., 0., 0.,\n",
       "        0., 0., 0., 0., 0., 0., 0., 0., 0., 0., 0., 0., 0., 0., 0., 0., 0., 0., 0., 0., 0., 0., 0., 0.,\n",
       "        0., 0., 0., 0., 0., 0., 0., 0.])"
      ]
     },
     "execution_count": 15,
     "metadata": {},
     "output_type": "execute_result"
    }
   ],
   "source": [
    "# Set biases to all zeros\n",
    "model.fc1.bias.data.fill_(0)"
   ]
  },
  {
   "cell_type": "code",
   "execution_count": 16,
   "metadata": {
    "collapsed": true
   },
   "outputs": [
    {
     "data": {
      "text/plain": [
       "tensor([[ 0.0301, -0.0043,  0.0201,  ..., -0.0136,  0.0010, -0.0184],\n",
       "        [ 0.0053, -0.0068, -0.0054,  ...,  0.0038,  0.0108,  0.0050],\n",
       "        [ 0.0035, -0.0068,  0.0005,  ..., -0.0106,  0.0035,  0.0061],\n",
       "        ...,\n",
       "        [-0.0036, -0.0020, -0.0007,  ...,  0.0017,  0.0295, -0.0072],\n",
       "        [ 0.0081,  0.0108,  0.0244,  ...,  0.0021,  0.0061, -0.0028],\n",
       "        [-0.0029, -0.0129, -0.0067,  ...,  0.0116, -0.0038,  0.0091]])"
      ]
     },
     "execution_count": 16,
     "metadata": {},
     "output_type": "execute_result"
    }
   ],
   "source": [
    "# sample from random normal with standard dev = 0.01\n",
    "model.fc1.weight.data.normal_(std=0.01)"
   ]
  },
  {
   "cell_type": "markdown",
   "metadata": {},
   "source": [
    "### Forward pass\n",
    "\n",
    "Now that we have a network, let's see what happens when we pass in an image."
   ]
  },
  {
   "cell_type": "code",
   "execution_count": 17,
   "metadata": {
    "collapsed": true
   },
   "outputs": [
    {
     "data": {
      "image/png": "[encoded data removed]",
      "text/plain": [
       "<Figure size 432x648 with 2 Axes>"
      ]
     },
     "metadata": {
      "image/png": {
       "height": 226,
       "width": 423
      },
      "needs_background": "light"
     },
     "output_type": "display_data"
    }
   ],
   "source": [
    "# Grab some data \n",
    "dataiter = iter(trainloader)\n",
    "images, labels = dataiter.next()\n",
    "\n",
    "# Resize images into a 1D vector, new shape is (batch size, color channels, image pixels) \n",
    "images.resize_(64, 1, 784)\n",
    "# or images.resize_(images.shape[0], 1, 784) to automatically get batch size\n",
    "\n",
    "# Forward pass through the network\n",
    "img_idx = 0\n",
    "ps = model.forward(images[img_idx,:])\n",
    "\n",
    "img = images[img_idx]\n",
    "helper.view_classify(img.view(1, 28, 28), ps)"
   ]
  },
  {
   "cell_type": "markdown",
   "metadata": {},
   "source": [
    "As you can see above, our network has basically no idea what this digit is. It's because we haven't trained it yet, all the weights are random!\n",
    "\n",
    "### Using `nn.Sequential`\n",
    "\n",
    "PyTorch provides a convenient way to build networks like this where a tensor is passed sequentially through operations, `nn.Sequential` ([documentation](https://pytorch.org/docs/master/nn.html#torch.nn.Sequential)). Using this to build the equivalent network:"
   ]
  },
  {
   "cell_type": "code",
   "execution_count": 18,
   "metadata": {
    "collapsed": true
   },
   "outputs": [
    {
     "name": "stdout",
     "output_type": "stream",
     "text": [
      "Sequential(\n",
      "  (0): Linear(in_features=784, out_features=128, bias=True)\n",
      "  (1): ReLU()\n",
      "  (2): Linear(in_features=128, out_features=64, bias=True)\n",
      "  (3): ReLU()\n",
      "  (4): Linear(in_features=64, out_features=10, bias=True)\n",
      "  (5): Softmax()\n",
      ")\n"
     ]
    },
    {
     "data": {
      "image/png": "[encoded data removed]",
      "text/plain": [
       "<Figure size 432x648 with 2 Axes>"
      ]
     },
     "metadata": {
      "image/png": {
       "height": 226,
       "width": 423
      },
      "needs_background": "light"
     },
     "output_type": "display_data"
    }
   ],
   "source": [
    "# Hyperparameters for our network\n",
    "input_size = 784\n",
    "hidden_sizes = [128, 64]\n",
    "output_size = 10\n",
    "\n",
    "# Build a feed-forward network\n",
    "model = nn.Sequential(nn.Linear(input_size, hidden_sizes[0]),\n",
    "                      nn.ReLU(),\n",
    "                      nn.Linear(hidden_sizes[0], hidden_sizes[1]),\n",
    "                      nn.ReLU(),\n",
    "                      nn.Linear(hidden_sizes[1], output_size),\n",
    "                      nn.Softmax(dim=1))\n",
    "print(model)\n",
    "\n",
    "# Forward pass through the network and display output\n",
    "images, labels = next(iter(trainloader))\n",
    "images.resize_(images.shape[0], 1, 784)\n",
    "ps = model.forward(images[0,:])\n",
    "helper.view_classify(images[0].view(1, 28, 28), ps)"
   ]
  },
  {
   "cell_type": "markdown",
   "metadata": {},
   "source": [
    "Here our model is the same as before: 784 input units, a hidden layer with 128 units, ReLU activation, 64 unit hidden layer, another ReLU, then the output layer with 10 units, and the softmax output.\n",
    "\n",
    "The operations are availble by passing in the appropriate index. For example, if you want to get first Linear operation and look at the weights, you'd use `model[0]`."
   ]
  },
  {
   "cell_type": "code",
   "execution_count": 19,
   "metadata": {
    "collapsed": true
   },
   "outputs": [
    {
     "name": "stdout",
     "output_type": "stream",
     "text": [
      "Linear(in_features=784, out_features=128, bias=True)\n"
     ]
    },
    {
     "data": {
      "text/plain": [
       "Parameter containing:\n",
       "tensor([[ 0.0061, -0.0234,  0.0146,  ..., -0.0015,  0.0112, -0.0111],\n",
       "        [ 0.0044, -0.0279,  0.0165,  ..., -0.0271,  0.0313,  0.0280],\n",
       "        [ 0.0269, -0.0315,  0.0169,  ...,  0.0247,  0.0277, -0.0235],\n",
       "        ...,\n",
       "        [-0.0038,  0.0345, -0.0214,  ...,  0.0036, -0.0015,  0.0194],\n",
       "        [-0.0173,  0.0321,  0.0351,  ..., -0.0186,  0.0049,  0.0066],\n",
       "        [ 0.0217, -0.0002,  0.0213,  ...,  0.0152, -0.0160, -0.0056]],\n",
       "       requires_grad=True)"
      ]
     },
     "execution_count": 19,
     "metadata": {},
     "output_type": "execute_result"
    }
   ],
   "source": [
    "print(model[0])\n",
    "model[0].weight"
   ]
  },
  {
   "cell_type": "markdown",
   "metadata": {},
   "source": [
    "You can also pass in an `OrderedDict` to name the individual layers and operations, instead of using incremental integers. Note that dictionary keys must be unique, so _each operation must have a different name_."
   ]
  },
  {
   "cell_type": "code",
   "execution_count": 20,
   "metadata": {
    "collapsed": true
   },
   "outputs": [
    {
     "data": {
      "text/plain": [
       "Sequential(\n",
       "  (fc1): Linear(in_features=784, out_features=128, bias=True)\n",
       "  (relu1): ReLU()\n",
       "  (fc2): Linear(in_features=128, out_features=64, bias=True)\n",
       "  (relu2): ReLU()\n",
       "  (output): Linear(in_features=64, out_features=10, bias=True)\n",
       "  (softmax): Softmax()\n",
       ")"
      ]
     },
     "execution_count": 20,
     "metadata": {},
     "output_type": "execute_result"
    }
   ],
   "source": [
    "from collections import OrderedDict\n",
    "model = nn.Sequential(OrderedDict([\n",
    "                      ('fc1', nn.Linear(input_size, hidden_sizes[0])),\n",
    "                      ('relu1', nn.ReLU()),\n",
    "                      ('fc2', nn.Linear(hidden_sizes[0], hidden_sizes[1])),\n",
    "                      ('relu2', nn.ReLU()),\n",
    "                      ('output', nn.Linear(hidden_sizes[1], output_size)),\n",
    "                      ('softmax', nn.Softmax(dim=1))]))\n",
    "model"
   ]
  },
  {
   "cell_type": "markdown",
   "metadata": {},
   "source": [
    "Now you can access layers either by integer or the name"
   ]
  },
  {
   "cell_type": "code",
   "execution_count": 21,
   "metadata": {
    "collapsed": true
   },
   "outputs": [
    {
     "name": "stdout",
     "output_type": "stream",
     "text": [
      "Linear(in_features=784, out_features=128, bias=True)\n",
      "Linear(in_features=784, out_features=128, bias=True)\n"
     ]
    }
   ],
   "source": [
    "print(model[0])\n",
    "print(model.fc1)"
   ]
  },
  {
   "cell_type": "markdown",
   "metadata": {},
   "source": [
    "In the next notebook, we'll see how we can train a neural network to accuractly predict the numbers appearing in the MNIST images."
   ]
  }
 ],
 "metadata": {
  "kernelspec": {
   "display_name": "Python 3",
   "language": "python",
   "name": "python3"
  },
  "language_info": {
   "codemirror_mode": {
    "name": "ipython",
    "version": 3
   },
   "file_extension": ".py",
   "mimetype": "text/x-python",
   "name": "python",
   "nbconvert_exporter": "python",
   "pygments_lexer": "ipython3",
   "version": "3.7.1"
  }
 },
 "nbformat": 4,
 "nbformat_minor": 2
}
