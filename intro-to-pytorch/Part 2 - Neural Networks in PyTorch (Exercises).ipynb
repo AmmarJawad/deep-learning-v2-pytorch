{
 "cells": [
  {
   "cell_type": "markdown",
   "metadata": {},
   "source": [
    "# Neural networks with PyTorch\n",
    "\n",
    "Deep learning networks tend to be massive with dozens or hundreds of layers, that's where the term \"deep\" comes from. You can build one of these deep networks using only weight matrices as we did in the previous notebook, but in general it's very cumbersome and difficult to implement. PyTorch has a nice module `nn` that provides a nice way to efficiently build large neural networks."
   ]
  },
  {
   "cell_type": "code",
<<<<<<< HEAD
   "execution_count": 2,
   "metadata": {
    "collapsed": true
   },
=======
   "execution_count": 1,
   "metadata": {},
>>>>>>> 26ae2b333e26bbb11d14dbbc11641f13ab9fbed8
   "outputs": [],
   "source": [
    "# Import necessary packages\n",
    "\n",
    "%matplotlib inline\n",
    "%config InlineBackend.figure_format = 'retina'\n",
    "\n",
    "import numpy as np\n",
    "import torch\n",
    "\n",
    "import helper\n",
    "\n",
    "import matplotlib.pyplot as plt"
   ]
  },
  {
   "cell_type": "markdown",
   "metadata": {},
   "source": [
    "\n",
    "Now we're going to build a larger network that can solve a (formerly) difficult problem, identifying text in an image. Here we'll use the MNIST dataset which consists of greyscale handwritten digits. Each image is 28x28 pixels, you can see a sample below\n",
    "\n",
    "<img src='assets/mnist.png'>\n",
    "\n",
    "Our goal is to build a neural network that can take one of these images and predict the digit in the image.\n",
    "\n",
    "First up, we need to get our dataset. This is provided through the `torchvision` package. The code below will download the MNIST dataset, then create training and test datasets for us. Don't worry too much about the details here, you'll learn more about this later."
   ]
  },
  {
   "cell_type": "code",
<<<<<<< HEAD
   "execution_count": 3,
   "metadata": {
    "collapsed": true
   },
   "outputs": [
    {
     "name": "stdout",
     "output_type": "stream",
     "text": [
      "Downloading http://yann.lecun.com/exdb/mnist/train-images-idx3-ubyte.gz\n",
      "Downloading http://yann.lecun.com/exdb/mnist/train-labels-idx1-ubyte.gz\n",
      "Downloading http://yann.lecun.com/exdb/mnist/t10k-images-idx3-ubyte.gz\n",
      "Downloading http://yann.lecun.com/exdb/mnist/t10k-labels-idx1-ubyte.gz\n",
      "Processing...\n",
      "Done!\n"
     ]
    }
   ],
=======
   "execution_count": 2,
   "metadata": {},
   "outputs": [],
>>>>>>> 26ae2b333e26bbb11d14dbbc11641f13ab9fbed8
   "source": [
    "### Run this cell\n",
    "\n",
    "from torchvision import datasets, transforms\n",
    "\n",
    "# Define a transform to normalize the data\n",
    "transform = transforms.Compose([transforms.ToTensor(),\n",
    "                              transforms.Normalize((0.5,), (0.5,)),\n",
    "                              ])\n",
    "\n",
    "# Download and load the training data\n",
    "trainset = datasets.MNIST('~/.pytorch/MNIST_data/', download=True, train=True, transform=transform)\n",
    "trainloader = torch.utils.data.DataLoader(trainset, batch_size=64, shuffle=True)"
   ]
  },
  {
   "cell_type": "markdown",
   "metadata": {},
   "source": [
    "We have the training data loaded into `trainloader` and we make that an iterator with `iter(trainloader)`. Later, we'll use this to loop through the dataset for training, like\n",
    "\n",
    "```python\n",
    "for image, label in trainloader:\n",
    "    ## do things with images and labels\n",
    "```\n",
    "\n",
    "You'll notice I created the `trainloader` with a batch size of 64, and `shuffle=True`. The batch size is the number of images we get in one iteration from the data loader and pass through our network, often called a *batch*. And `shuffle=True` tells it to shuffle the dataset every time we start going through the data loader again. But here I'm just grabbing the first batch so we can check out the data. We can see below that `images` is just a tensor with size `(64, 1, 28, 28)`. So, 64 images per batch, 1 color channel, and 28x28 images."
   ]
  },
  {
   "cell_type": "code",
<<<<<<< HEAD
   "execution_count": 4,
   "metadata": {
    "collapsed": true
   },
=======
   "execution_count": 3,
   "metadata": {},
>>>>>>> 26ae2b333e26bbb11d14dbbc11641f13ab9fbed8
   "outputs": [
    {
     "name": "stdout",
     "output_type": "stream",
     "text": [
      "<class 'torch.Tensor'>\n",
      "torch.Size([64, 1, 28, 28])\n",
      "torch.Size([64])\n"
     ]
    }
   ],
   "source": [
    "dataiter = iter(trainloader)\n",
    "images, labels = dataiter.next()\n",
    "print(type(images))\n",
    "print(images.shape)\n",
    "print(labels.shape)"
   ]
  },
  {
   "cell_type": "markdown",
   "metadata": {},
   "source": [
    "This is what one of the images looks like. "
   ]
  },
  {
   "cell_type": "code",
<<<<<<< HEAD
   "execution_count": 5,
   "metadata": {
    "collapsed": true
   },
   "outputs": [
    {
     "data": {
      "image/png": "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\n",
=======
   "execution_count": 4,
   "metadata": {},
   "outputs": [
    {
     "data": {
      "image/png": "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\n",
>>>>>>> 26ae2b333e26bbb11d14dbbc11641f13ab9fbed8
      "text/plain": [
       "<Figure size 432x288 with 1 Axes>"
      ]
     },
     "metadata": {
      "image/png": {
       "height": 250,
       "width": 253
      },
      "needs_background": "light"
     },
     "output_type": "display_data"
    }
   ],
   "source": [
    "plt.imshow(images[1].numpy().squeeze(), cmap='Greys_r');"
   ]
  },
  {
   "cell_type": "markdown",
   "metadata": {},
   "source": [
    "First, let's try to build a simple network for this dataset using weight matrices and matrix multiplications. Then, we'll see how to do it using PyTorch's `nn` module which provides a much more convenient and powerful method for defining network architectures.\n",
    "\n",
    "The networks you've seen so far are called *fully-connected* or *dense* networks. Each unit in one layer is connected to each unit in the next layer. In fully-connected networks, the input to each layer must be a one-dimensional vector (which can be stacked into a 2D tensor as a batch of multiple examples). However, our images are 28x28 2D tensors, so we need to convert them into 1D vectors. Thinking about sizes, we need to convert the batch of images with shape `(64, 1, 28, 28)` to a have a shape of `(64, 784)`, 784 is 28 times 28. This is typically called *flattening*, we flattened the 2D images into 1D vectors.\n",
    "\n",
    "Previously you built a network with one output unit. Here we need 10 output units, one for each digit. We want our network to predict the digit shown in an image, so what we'll do is calculate probabilities that the image is of any one digit or class. This ends up being a discrete probability distribution over the classes (digits) that tells us the most likely class for the image. That means we need 10 output units for the 10 classes (digits). We'll see how to convert the network output into a probability distribution next.\n",
    "\n",
    "> **Exercise:** Flatten the batch of images `images`. Then build a multi-layer network with 784 input units, 256 hidden units, and 10 output units using random tensors for the weights and biases. For now, use a sigmoid activation for the hidden layer. Leave the output layer without an activation, we'll add one that gives us a probability distribution next."
   ]
  },
  {
   "cell_type": "code",
<<<<<<< HEAD
   "execution_count": 13,
=======
   "execution_count": 7,
>>>>>>> 26ae2b333e26bbb11d14dbbc11641f13ab9fbed8
   "metadata": {
    "collapsed": true
   },
   "outputs": [
    {
     "name": "stdout",
     "output_type": "stream",
     "text": [
<<<<<<< HEAD
      "torch.Size([64, 10])\n",
      "tensor([[2.1973e-05, 1.0000e+00, 8.5052e-01, 2.3881e-08, 9.4420e-09, 2.0204e-06,\n",
      "         1.1653e-04, 4.8896e-04, 8.1141e-01, 2.5253e-10],\n",
      "        [7.5520e-06, 9.8193e-01, 7.3327e-03, 4.8276e-03, 2.2745e-08, 1.7956e-05,\n",
      "         1.0997e-04, 9.9985e-01, 9.9632e-01, 6.6319e-06],\n",
      "        [1.0271e-06, 9.9998e-01, 9.7238e-01, 2.0283e-07, 1.6219e-05, 7.8667e-05,\n",
      "         5.7961e-06, 2.4884e-03, 9.9473e-01, 1.9318e-06],\n",
      "        [1.4846e-08, 1.0000e+00, 3.9913e-02, 4.8767e-08, 8.2004e-08, 6.8691e-02,\n",
      "         5.8302e-06, 9.9844e-01, 9.9999e-01, 2.8259e-06],\n",
      "        [1.4018e-07, 1.0000e+00, 5.9310e-01, 2.2968e-08, 1.9840e-07, 1.0827e-01,\n",
      "         3.9611e-08, 4.5413e-02, 9.9986e-01, 1.9364e-08],\n",
      "        [2.4627e-11, 9.9985e-01, 2.5005e-04, 9.7648e-08, 2.6399e-11, 3.2869e-03,\n",
      "         3.2928e-07, 7.7380e-01, 1.0000e+00, 4.8150e-05],\n",
      "        [4.8289e-06, 9.9307e-01, 1.4759e-02, 1.1358e-05, 8.1304e-08, 9.7947e-01,\n",
      "         5.0251e-07, 1.4376e-01, 9.9935e-01, 2.5819e-04],\n",
      "        [3.9039e-02, 9.9419e-01, 7.1506e-02, 2.4565e-07, 3.3150e-09, 5.4651e-07,\n",
      "         8.1708e-04, 6.4236e-01, 8.4705e-01, 9.9539e-11],\n",
      "        [1.0895e-10, 4.5248e-02, 8.2437e-01, 5.5552e-07, 5.2806e-07, 9.2165e-01,\n",
      "         5.8244e-01, 4.4923e-04, 4.6705e-01, 1.1955e-07],\n",
      "        [2.6235e-05, 9.9999e-01, 9.0362e-01, 4.4994e-09, 2.8081e-07, 9.5986e-01,\n",
      "         5.3221e-05, 9.9124e-01, 1.7629e-01, 1.8697e-08],\n",
      "        [3.2201e-07, 1.0000e+00, 5.5111e-01, 3.9461e-10, 5.4042e-11, 2.8859e-04,\n",
      "         4.1333e-05, 9.9659e-01, 1.0000e+00, 1.0978e-07],\n",
      "        [5.8510e-05, 9.9955e-01, 1.0377e-02, 1.6596e-03, 1.5109e-04, 5.3350e-01,\n",
      "         7.5226e-04, 3.0650e-03, 1.0000e+00, 4.7335e-05],\n",
      "        [2.2400e-10, 9.7883e-01, 8.4488e-01, 3.6779e-06, 1.7077e-05, 4.1382e-06,\n",
      "         9.4810e-01, 6.4015e-01, 9.9976e-01, 2.2640e-03],\n",
      "        [3.3977e-12, 1.0000e+00, 6.1714e-07, 4.4460e-04, 1.8860e-06, 9.5919e-01,\n",
      "         2.9325e-04, 9.9717e-01, 9.9999e-01, 3.9684e-04],\n",
      "        [2.6032e-07, 5.5299e-01, 4.5966e-02, 4.2100e-05, 2.3710e-05, 5.7284e-07,\n",
      "         1.2910e-03, 8.2552e-01, 5.5140e-01, 3.7733e-08],\n",
      "        [1.7819e-07, 1.0000e+00, 1.7010e-01, 4.9786e-08, 4.4802e-07, 9.4191e-01,\n",
      "         3.8331e-08, 9.8921e-01, 2.3763e-01, 1.9305e-07],\n",
      "        [1.3489e-05, 9.9999e-01, 6.4625e-01, 2.0397e-05, 8.7514e-11, 6.7164e-07,\n",
      "         1.0612e-04, 3.5335e-02, 9.4999e-01, 9.3167e-09],\n",
      "        [9.1809e-12, 1.0000e+00, 9.0165e-04, 2.9634e-10, 1.1141e-07, 9.5281e-01,\n",
      "         8.8884e-07, 4.6318e-01, 9.9138e-01, 7.8856e-09],\n",
      "        [3.9367e-04, 9.0690e-01, 6.2075e-01, 1.6767e-06, 5.1249e-06, 2.8614e-03,\n",
      "         2.8238e-07, 2.7077e-01, 1.0000e+00, 1.6582e-08],\n",
      "        [5.1737e-06, 9.9892e-01, 9.9975e-01, 3.5727e-03, 1.1756e-05, 8.8303e-05,\n",
      "         6.7820e-03, 7.7290e-02, 9.9583e-01, 5.8466e-05],\n",
      "        [1.6002e-07, 9.9917e-01, 6.2747e-01, 4.0016e-07, 1.3100e-06, 7.0900e-03,\n",
      "         3.1108e-07, 3.3976e-03, 9.9942e-01, 1.2380e-06],\n",
      "        [9.6375e-05, 1.0000e+00, 2.5434e-03, 1.0347e-08, 1.2748e-13, 1.7938e-06,\n",
      "         1.9725e-05, 3.4381e-01, 9.4855e-01, 3.0686e-08],\n",
      "        [2.0254e-07, 9.9147e-01, 9.9996e-01, 4.1620e-09, 4.2748e-04, 4.7022e-05,\n",
      "         3.3239e-05, 9.6958e-01, 7.6911e-01, 1.4232e-07],\n",
      "        [2.6260e-05, 9.9986e-01, 2.6675e-03, 4.5499e-09, 1.2556e-05, 2.9547e-03,\n",
      "         2.6779e-07, 4.8735e-01, 1.1237e-01, 1.9347e-08],\n",
      "        [7.2017e-07, 9.9999e-01, 6.9628e-04, 8.2481e-08, 1.6453e-09, 3.0167e-06,\n",
      "         1.0060e-06, 3.5306e-01, 9.7861e-01, 3.1350e-07],\n",
      "        [6.5446e-12, 9.9996e-01, 1.6193e-08, 5.1708e-06, 1.1509e-08, 7.6305e-03,\n",
      "         1.3435e-04, 8.6534e-03, 9.9829e-01, 8.8668e-04],\n",
      "        [5.3462e-07, 9.9999e-01, 7.3850e-03, 2.4230e-05, 1.3956e-07, 2.7193e-02,\n",
      "         3.4961e-04, 9.9935e-01, 8.0675e-01, 4.0182e-04],\n",
      "        [5.9131e-10, 9.9985e-01, 1.8776e-02, 1.0191e-10, 1.8815e-07, 1.1213e-03,\n",
      "         5.9040e-04, 8.6150e-01, 9.9920e-01, 8.9442e-07],\n",
      "        [1.4721e-10, 9.9998e-01, 9.9971e-01, 3.4595e-11, 1.1499e-08, 8.9356e-01,\n",
      "         8.6780e-07, 1.1746e-06, 1.0000e+00, 3.6911e-08],\n",
      "        [3.6644e-08, 9.9918e-01, 8.1656e-01, 3.4572e-05, 2.9071e-04, 7.5582e-02,\n",
      "         2.8768e-08, 1.6114e-07, 9.9965e-01, 6.9326e-10],\n",
      "        [1.9453e-09, 1.0000e+00, 9.8932e-01, 2.3524e-07, 2.8448e-07, 5.5018e-03,\n",
      "         2.1362e-03, 4.6852e-03, 9.9819e-01, 1.1050e-05],\n",
      "        [1.3584e-05, 9.2334e-01, 2.4425e-04, 5.4812e-08, 1.1854e-05, 1.6572e-04,\n",
      "         1.0548e-05, 5.2851e-04, 1.2799e-03, 1.1674e-04],\n",
      "        [6.1993e-09, 9.9855e-01, 5.9938e-01, 2.4111e-06, 6.9260e-06, 2.9553e-02,\n",
      "         5.5061e-04, 7.0842e-01, 7.8021e-01, 4.7596e-05],\n",
      "        [2.6517e-13, 9.9997e-01, 5.2024e-03, 3.1167e-08, 2.0618e-07, 3.5578e-05,\n",
      "         3.3947e-06, 2.5844e-02, 9.7463e-01, 1.3438e-05],\n",
      "        [3.0387e-09, 6.8573e-01, 5.8120e-05, 1.5459e-04, 9.6316e-04, 2.0199e-04,\n",
      "         5.3976e-01, 2.2346e-04, 9.9589e-01, 1.4897e-03],\n",
      "        [5.2829e-12, 9.1672e-01, 1.7887e-04, 7.5499e-09, 4.3780e-09, 2.9897e-02,\n",
      "         2.0153e-07, 9.8493e-01, 9.9965e-01, 5.4739e-06],\n",
      "        [5.3269e-06, 1.0000e+00, 9.5691e-01, 5.5885e-07, 2.7803e-03, 8.9432e-03,\n",
      "         7.9114e-07, 3.1117e-01, 7.6583e-01, 4.2964e-09],\n",
      "        [1.7933e-08, 9.9310e-01, 1.3199e-03, 3.6549e-07, 2.3225e-07, 2.6495e-07,\n",
      "         1.9652e-02, 9.8887e-01, 9.9999e-01, 1.5047e-06],\n",
      "        [1.5555e-08, 1.0000e+00, 7.3973e-01, 1.0660e-05, 2.4499e-04, 2.4626e-05,\n",
      "         1.3181e-07, 9.9617e-01, 9.9922e-01, 1.1332e-09],\n",
      "        [6.5483e-05, 6.8498e-01, 6.8779e-01, 9.9946e-01, 9.5506e-11, 1.9412e-07,\n",
      "         9.3692e-01, 3.3413e-03, 9.9426e-01, 1.6732e-07],\n",
      "        [9.5359e-08, 9.8075e-01, 3.4753e-03, 5.1809e-07, 2.5083e-07, 7.8129e-01,\n",
      "         1.3498e-01, 2.0752e-03, 5.2518e-01, 8.8944e-04],\n",
      "        [1.3082e-06, 9.9999e-01, 9.1469e-05, 3.8858e-05, 1.9152e-08, 3.8890e-05,\n",
      "         4.8421e-06, 9.9992e-01, 9.6133e-01, 5.7439e-07],\n",
      "        [7.7464e-07, 4.1826e-01, 1.4458e-04, 3.8880e-08, 2.1392e-07, 6.0088e-01,\n",
      "         8.4735e-08, 1.2399e-04, 6.1055e-01, 2.1367e-05],\n",
      "        [1.4706e-07, 1.0000e+00, 9.9501e-01, 9.5531e-09, 6.1460e-11, 1.6943e-04,\n",
      "         3.8070e-06, 9.9916e-01, 9.8383e-01, 3.5722e-06],\n",
      "        [6.1788e-09, 1.0000e+00, 2.2756e-01, 2.4008e-06, 1.4356e-07, 4.0240e-04,\n",
      "         9.7251e-09, 9.9995e-01, 9.9810e-01, 3.6319e-04],\n",
      "        [7.2714e-11, 9.9993e-01, 7.8723e-02, 4.3052e-05, 9.6069e-12, 3.7518e-02,\n",
      "         1.8269e-06, 3.0477e-01, 3.1454e-02, 3.5489e-09],\n",
      "        [1.0452e-03, 9.9920e-01, 9.9958e-01, 1.1379e-06, 1.8128e-04, 1.3231e-01,\n",
      "         2.4676e-09, 1.7162e-01, 9.9999e-01, 3.5662e-06],\n",
      "        [5.6751e-09, 9.9205e-01, 2.5745e-03, 6.8772e-05, 2.1781e-14, 3.2827e-09,\n",
      "         2.6553e-04, 6.0720e-02, 1.0000e+00, 4.0245e-11],\n",
      "        [5.2751e-09, 9.9771e-01, 9.9219e-01, 1.1845e-07, 4.1464e-08, 5.3861e-02,\n",
      "         4.7496e-07, 3.3453e-01, 9.6913e-01, 4.7251e-09],\n",
      "        [1.2816e-10, 9.9996e-01, 1.5380e-05, 5.9100e-02, 5.0183e-04, 5.3577e-01,\n",
      "         3.5432e-05, 9.9953e-01, 9.4981e-01, 1.2593e-03],\n",
      "        [7.3764e-11, 1.0000e+00, 1.4165e-01, 7.4091e-11, 3.6770e-08, 9.1813e-01,\n",
      "         7.7752e-06, 2.4055e-03, 9.9921e-01, 1.5968e-06],\n",
      "        [7.1547e-05, 3.3298e-01, 8.7966e-01, 2.0750e-08, 1.2113e-08, 1.4133e-05,\n",
      "         1.2163e-03, 1.3339e-03, 9.9991e-01, 1.0525e-02],\n",
      "        [1.1825e-06, 9.9987e-01, 9.8561e-01, 2.4452e-06, 9.1535e-06, 2.6673e-01,\n",
      "         4.2365e-09, 1.9120e-06, 1.0000e+00, 2.1879e-08],\n",
      "        [1.2598e-04, 1.0000e+00, 5.8493e-05, 2.1497e-06, 1.3819e-06, 4.0603e-01,\n",
      "         5.2596e-06, 4.8939e-02, 9.9703e-01, 5.5134e-06],\n",
      "        [7.7690e-08, 1.0000e+00, 4.8286e-04, 2.6334e-03, 2.4949e-08, 1.0345e-09,\n",
      "         3.2991e-04, 9.9933e-01, 3.5276e-01, 2.6513e-05],\n",
      "        [3.3199e-06, 9.1154e-01, 1.2258e-03, 5.1390e-01, 6.9284e-09, 4.8096e-06,\n",
      "         2.3411e-03, 8.7383e-02, 9.9893e-01, 1.0403e-11],\n",
      "        [1.2460e-05, 7.5348e-02, 4.4676e-01, 1.1545e-05, 1.3672e-03, 3.1932e-07,\n",
      "         1.0715e-01, 9.9915e-01, 7.8083e-01, 1.8129e-05],\n",
      "        [1.3793e-08, 9.4769e-01, 7.1763e-02, 4.5044e-09, 2.1127e-04, 4.8313e-04,\n",
      "         6.3354e-06, 7.6028e-01, 9.9821e-01, 9.1221e-07],\n",
      "        [6.5070e-11, 1.0000e+00, 9.2338e-01, 1.7553e-07, 1.7853e-10, 1.8489e-02,\n",
      "         3.0303e-02, 6.0544e-03, 9.7096e-01, 3.2956e-07],\n",
      "        [5.4821e-09, 9.9206e-01, 2.6183e-01, 3.8179e-04, 2.0131e-02, 6.4742e-03,\n",
      "         1.2375e-06, 9.7067e-01, 2.7396e-01, 2.2299e-06],\n",
      "        [3.6815e-08, 5.5337e-01, 6.4970e-03, 4.5456e-06, 9.4724e-07, 3.5392e-08,\n",
      "         1.3124e-03, 1.2812e-04, 9.9438e-01, 8.5508e-05],\n",
      "        [1.9031e-12, 9.9999e-01, 6.9579e-05, 1.3394e-05, 5.6505e-07, 9.5147e-02,\n",
      "         6.6796e-03, 9.9769e-01, 9.9969e-01, 2.0019e-05],\n",
      "        [9.4258e-11, 9.9841e-01, 5.3268e-04, 4.1722e-04, 7.7725e-08, 8.5805e-02,\n",
      "         3.0658e-06, 2.6858e-02, 9.8716e-01, 1.4449e-03],\n",
      "        [9.6452e-08, 1.0000e+00, 1.3431e-03, 1.5023e-04, 2.2247e-08, 1.2180e-01,\n",
      "         1.9607e-06, 9.9980e-01, 9.9744e-01, 5.4991e-07]])\n"
=======
      "tensor([[ 3.6998e+00, -9.8198e+00,  4.3861e+00,  6.2475e+00,  1.2901e+00,\n",
      "          7.4253e+00, -1.8461e+01, -2.4226e+00, -2.3527e+00, -8.0499e+00],\n",
      "        [-4.1545e+00, -3.9629e-01,  6.9119e-01,  1.3942e+01,  8.9729e+00,\n",
      "          2.5766e+00, -2.5426e+01,  5.1785e+00, -2.0050e+00, -6.3462e+00],\n",
      "        [ 3.6020e+00, -2.4238e+00, -2.8198e+00,  8.9667e+00,  7.5020e+00,\n",
      "         -3.5948e+00, -2.1513e+01,  1.2661e+01, -8.4048e+00, -1.7512e+01],\n",
      "        [ 8.5062e+00,  1.7079e+00, -7.5313e+00, -9.8142e-01, -4.1942e+00,\n",
      "         -3.6472e+00, -2.3235e+01,  4.1980e+00, -1.6049e+00, -2.1777e+00],\n",
      "        [ 7.3493e+00, -1.0458e+01, -9.7045e+00, -2.6669e-01,  6.3352e+00,\n",
      "          9.4671e+00, -2.1308e+01,  2.9303e+00, -6.6296e+00, -8.0301e+00],\n",
      "        [ 5.1447e+00, -5.5700e+00, -7.8038e+00,  1.9371e+01, -2.9022e+00,\n",
      "          1.0190e+01, -2.2946e+01, -1.2831e+00, -3.7082e+00, -1.2447e+01],\n",
      "        [ 4.5827e+00, -7.7141e+00, -2.5913e+00,  1.0364e+01, -1.3103e+00,\n",
      "         -8.7842e-02, -2.9812e+01,  6.8395e+00, -1.1024e+01, -4.9602e+00],\n",
      "        [ 4.9387e+00, -1.0886e+01,  1.0376e+01,  7.2744e+00, -1.1076e+00,\n",
      "          1.0981e+01, -2.6186e+01,  1.2081e+01, -2.1465e+00, -7.2576e+00],\n",
      "        [-8.1489e+00,  6.5624e+00, -4.2438e+00,  7.7735e+00, -2.9591e-01,\n",
      "         -1.6609e+00, -2.8450e+01,  9.7865e+00, -1.0833e+01, -5.3314e+00],\n",
      "        [ 7.6769e+00, -3.0573e+00,  5.7805e-01,  1.3501e+01,  4.2240e+00,\n",
      "         -1.4056e-01, -2.3859e+01,  4.4695e+00,  1.3801e+01, -1.1082e+01],\n",
      "        [-6.4448e+00, -1.1935e+01, -4.5124e-01,  8.6861e+00,  1.1825e+00,\n",
      "         -3.7721e-02, -3.3355e+01,  8.7640e+00, -2.4640e+00, -4.5808e+00],\n",
      "        [ 1.1276e+00, -3.2467e+00,  2.1400e-01,  9.4523e+00,  4.2385e+00,\n",
      "          3.4546e+00, -2.7755e+01,  4.5574e+00, -3.4624e+00, -1.3110e+01],\n",
      "        [ 7.8543e+00, -3.1574e+00, -1.8670e+00,  9.0574e+00, -9.0098e-01,\n",
      "          2.5588e+00, -2.7834e+01,  4.0207e+00, -6.8264e+00, -1.0630e+01],\n",
      "        [ 1.6255e+00, -1.2366e+01,  4.7201e-01,  1.1015e+01,  7.9239e+00,\n",
      "          8.6734e+00, -2.7358e+01,  6.8844e+00, -2.0215e+00, -1.1458e+00],\n",
      "        [ 6.8625e+00, -1.4541e+01, -9.1439e+00, -9.5800e-01,  3.8918e-01,\n",
      "          1.0265e+01, -1.4602e+01,  8.2258e+00, -9.1236e+00, -4.2187e+00],\n",
      "        [ 9.7826e-01,  1.2917e+00,  1.1989e+01,  8.5849e+00,  5.6479e+00,\n",
      "          8.7171e+00, -2.8649e+01,  1.1336e+01, -1.1334e+00, -7.5100e+00],\n",
      "        [ 1.1494e+01, -6.2883e+00,  2.5006e+00,  9.1097e+00,  2.0683e+00,\n",
      "          7.0025e+00, -2.7587e+01,  2.4578e+00, -2.7651e-01, -1.6912e+01],\n",
      "        [ 9.8678e+00, -6.9565e+00, -1.1151e+01,  1.0082e+01, -1.4111e+00,\n",
      "         -2.1467e+00, -3.1333e+01,  1.1532e-01, -5.7773e+00, -6.2946e+00],\n",
      "        [-2.5710e+00,  7.8105e-01, -2.0852e+00,  7.2221e+00,  2.2432e+00,\n",
      "          3.1297e-01, -3.4741e+01,  9.3905e+00, -4.4963e+00, -1.1752e+01],\n",
      "        [-7.6999e+00, -1.2044e+01, -9.7546e-01,  4.6009e+00,  1.2827e+01,\n",
      "          2.8728e+00, -2.1699e+01,  1.1903e+01, -1.1325e+01, -3.6723e+00],\n",
      "        [ 3.3962e+00, -4.3302e+00,  4.5462e+00,  9.5863e+00,  5.9109e+00,\n",
      "          1.0011e+01, -2.4960e+01,  1.0707e+01, -7.6598e+00, -4.5766e+00],\n",
      "        [ 1.8527e+00, -4.6720e+00, -1.9644e+00,  1.3794e+01, -2.4360e+00,\n",
      "          4.1371e+00, -2.2683e+01,  1.0220e+00, -1.3476e+01, -9.8675e+00],\n",
      "        [-3.1169e+00, -5.8595e-01, -4.3272e+00,  1.0269e+01,  2.1931e-01,\n",
      "          2.4333e+00, -2.7213e+01, -2.4704e+00, -6.5923e+00, -1.3251e+01],\n",
      "        [ 6.1412e+00, -1.1204e+01, -1.1560e+01,  6.7561e+00, -1.0438e+00,\n",
      "          4.6270e+00, -2.5812e+01, -7.0839e+00, -1.0330e+01, -1.3483e+01],\n",
      "        [ 4.7521e+00, -1.3974e+00,  1.6133e+00,  2.1291e+01,  6.8614e-01,\n",
      "          6.9804e+00, -2.6369e+01,  3.6799e+00,  3.7476e+00, -9.6267e+00],\n",
      "        [ 3.1608e+00, -6.8921e+00, -1.6245e+00,  1.0197e+01, -7.9619e-01,\n",
      "          8.4594e+00, -2.8004e+01,  1.0310e+01,  6.8674e-02, -7.7392e+00],\n",
      "        [-2.2436e+00, -1.2187e+01, -7.2205e+00,  7.3852e+00, -2.1831e+00,\n",
      "          1.3489e+00, -2.7035e+01,  1.2244e+01, -2.1124e+01, -1.2264e+01],\n",
      "        [ 4.5761e+00, -4.4461e-01,  1.5041e+00,  1.3478e+01,  5.1948e+00,\n",
      "          8.7530e+00, -2.5741e+01,  9.5037e+00, -8.8486e+00, -9.1622e+00],\n",
      "        [-2.1051e+00, -5.2305e+00, -5.0658e+00,  1.4395e+01,  8.4123e+00,\n",
      "          9.0810e+00, -2.3640e+01,  3.7463e+00, -7.0913e+00, -1.2558e+01],\n",
      "        [ 5.1053e+00, -1.2521e+01, -1.5971e+00,  9.5659e+00, -5.7309e-01,\n",
      "          5.9184e+00, -2.4426e+01,  2.2177e+00, -7.9639e+00, -1.0674e+01],\n",
      "        [ 9.5614e+00, -8.6265e+00, -1.4646e+00,  2.2733e+01,  6.5127e+00,\n",
      "          3.6508e+00, -2.5117e+01,  2.0789e+00, -9.7956e+00, -3.8870e+00],\n",
      "        [ 1.0047e+01, -1.3651e+01, -2.3050e+00,  6.9136e+00,  4.1181e-01,\n",
      "          4.8468e+00, -2.5977e+01, -1.9509e+00, -5.9299e+00, -8.2796e+00],\n",
      "        [ 8.0383e-01, -3.4989e+00, -1.2906e+00,  1.9532e+01,  5.0241e+00,\n",
      "          1.8368e+00, -3.4089e+01,  8.9626e+00, -6.2355e+00, -1.7977e+01],\n",
      "        [ 2.7555e+00, -1.1202e+01, -1.9277e+00,  1.0737e+01,  7.9953e+00,\n",
      "          3.9314e-01, -2.8639e+01, -1.4071e-01, -8.5206e-01, -1.1499e+01],\n",
      "        [-7.8976e-01, -4.3029e+00,  3.6401e+00,  9.9809e+00, -2.5966e+00,\n",
      "          1.8813e+00, -1.6308e+01,  2.9106e+00, -9.3448e+00, -1.6376e+01],\n",
      "        [ 3.3297e+00, -7.1267e+00,  1.3224e+01,  7.6364e-01,  8.5573e+00,\n",
      "          2.4243e+00, -1.5463e+01,  7.2179e+00, -7.0853e+00, -6.6206e+00],\n",
      "        [ 8.3367e+00, -1.1757e+01, -3.2934e+00,  1.0123e+01,  1.2273e+00,\n",
      "          9.4005e+00, -2.5277e+01,  6.9330e+00,  4.2919e+00,  2.2376e+00],\n",
      "        [-4.8882e+00,  9.7513e-01, -1.1132e+00,  9.2045e+00,  8.8711e+00,\n",
      "          1.4434e+01, -2.6204e+01,  1.4967e-01,  2.3267e+00, -1.9994e+01],\n",
      "        [-7.7442e-01, -1.1448e+01, -1.2962e+00,  1.0965e+01, -4.3636e-01,\n",
      "          2.2786e+00, -3.6678e+01,  8.0834e+00, -3.0131e-01, -7.2704e+00],\n",
      "        [ 9.2789e+00, -1.1513e+01, -5.7889e+00,  3.8799e+00,  5.1054e+00,\n",
      "          6.5286e+00, -2.6526e+01,  6.8858e+00, -9.7651e+00, -7.4241e+00],\n",
      "        [-3.2370e-01, -7.2236e+00,  3.2710e+00,  1.5790e+01,  2.9275e+00,\n",
      "          2.6203e+00, -2.5050e+01,  4.2125e+00, -5.3183e+00, -1.3138e+01],\n",
      "        [ 3.6555e+00, -1.9504e+00,  5.8989e+00,  1.0609e+01,  9.4213e+00,\n",
      "          3.4912e+00, -1.6023e+01,  1.2010e+01, -8.4520e+00, -2.1254e+01],\n",
      "        [-3.4974e+00, -6.2867e+00, -2.2414e+00,  8.4123e+00,  1.0301e+01,\n",
      "          1.0997e+01, -2.6313e+01,  9.7290e+00, -6.1396e+00, -9.7564e+00],\n",
      "        [ 8.7612e+00, -8.3738e+00, -6.3987e+00,  1.7015e+01,  1.5858e+00,\n",
      "          3.7791e+00, -2.0726e+01,  1.8311e+00, -1.4604e+00, -1.2691e+01],\n",
      "        [ 6.2755e+00, -1.0980e+01,  4.5335e-01,  1.3507e+01, -6.0533e+00,\n",
      "          7.8173e+00, -1.8110e+01,  2.1909e+00, -6.1258e+00, -1.7567e+00],\n",
      "        [ 1.3202e+01, -1.5202e+00,  2.1349e+00,  1.3559e+01,  2.9874e+00,\n",
      "         -5.3738e+00, -3.3748e+01,  7.7040e+00, -9.3592e+00, -2.9276e+00],\n",
      "        [ 8.5246e+00, -5.3070e+00, -1.6510e-01,  1.9958e+00, -4.0514e+00,\n",
      "          4.7612e+00, -2.0513e+01, -2.7025e+00,  1.1852e+00, -1.1824e+01],\n",
      "        [ 6.8549e+00, -8.6678e+00,  1.4327e+00,  1.4841e+01,  4.3738e+00,\n",
      "          1.3631e+00, -2.3675e+01,  5.3251e-01, -3.3207e+00, -1.9316e+01],\n",
      "        [-2.8165e+00, -1.6274e+01,  8.7968e+00,  5.6114e+00,  1.4825e+01,\n",
      "          3.5823e+00, -1.8101e+01,  2.2832e+00, -1.0198e+01, -9.0461e+00],\n",
      "        [ 9.7118e+00, -9.4619e+00, -8.0165e+00,  1.1485e+01,  3.6413e+00,\n",
      "          9.2516e+00, -2.5590e+01, -5.1080e-01, -1.1277e+01, -1.0408e+01],\n",
      "        [ 1.1663e+01, -3.9243e+00,  9.5506e+00,  1.3405e+01, -7.8335e-01,\n",
      "          7.5463e-01, -1.8190e+01,  4.6860e+00, -1.3260e+00, -4.3036e+00],\n",
      "        [ 3.4560e+00, -1.7289e+00,  2.0708e+00,  1.2604e+01,  1.6396e+01,\n",
      "          1.0211e+01, -2.3500e+01,  5.9730e+00, -6.7264e+00, -1.1593e+01],\n",
      "        [ 8.3013e+00, -4.5146e+00, -5.7440e+00,  7.9264e+00,  3.5194e+00,\n",
      "          4.3556e+00, -2.4385e+01,  1.3111e+01, -3.6419e+00, -1.2854e+01],\n",
      "        [ 5.3271e+00, -1.4690e+01,  5.9279e+00,  1.7102e+01,  7.0803e+00,\n",
      "          5.0879e+00, -2.4271e+01, -5.2940e-01, -4.6393e+00, -7.5932e+00],\n",
      "        [ 9.0947e-01, -6.4769e+00, -1.4079e+00, -5.8267e+00,  6.0522e+00,\n",
      "          5.8354e+00, -1.5868e+01,  7.5050e+00, -6.5643e+00, -1.5303e+01],\n",
      "        [ 7.9006e+00, -4.8860e+00, -5.6602e+00,  1.5246e+01,  6.3074e+00,\n",
      "          8.1700e+00, -2.6597e+01,  2.5594e+00, -3.0619e+00, -1.3119e+01],\n",
      "        [ 4.9226e+00, -7.3833e+00, -6.7624e-01,  5.3616e+00,  2.5198e+00,\n",
      "          6.6746e+00, -3.0519e+01,  6.3826e+00, -6.3318e+00, -1.0138e+01],\n",
      "        [ 2.9781e+00, -7.9974e+00, -2.8823e+00,  4.0731e+00,  3.8618e+00,\n",
      "          5.4809e+00, -2.4318e+01,  3.9256e+00,  2.7902e+00, -8.4974e+00],\n",
      "        [-8.9313e-03, -4.8104e+00,  5.1075e+00,  1.6322e+01,  1.4025e+00,\n",
      "          2.0470e+00, -2.3016e+01, -4.4780e+00, -3.8806e+00, -1.8188e+01],\n",
      "        [ 2.6104e+00, -1.2034e+01,  1.7747e+00,  3.0012e+00, -5.7029e+00,\n",
      "          1.5807e+01, -1.7490e+01,  6.9251e+00, -4.1645e-01,  1.4696e+00],\n",
      "        [ 6.4593e+00, -6.3406e+00,  3.2160e+00,  1.7569e+01,  3.0137e+00,\n",
      "          6.8498e+00, -2.6917e+01,  4.6239e+00,  9.8532e+00, -9.4656e+00],\n",
      "        [ 1.4143e+01, -1.5579e+01,  7.3248e-01,  7.6368e+00, -7.4681e+00,\n",
      "          1.0740e+01, -2.4727e+01, -1.0585e+01, -7.2891e+00, -6.6063e+00],\n",
      "        [ 5.3694e+00, -8.7551e+00, -5.0179e+00,  1.0615e+01,  3.1789e+00,\n",
      "         -3.6418e+00, -3.0438e+01,  1.3797e+00,  5.1980e-01, -1.0980e+01],\n",
      "        [ 1.1271e+00, -1.6701e+00, -2.8528e+00,  8.5344e+00,  1.2332e+00,\n",
      "          1.7139e+00, -2.3619e+01,  8.9984e+00, -2.1839e+01, -2.5640e+00]])\n"
>>>>>>> 26ae2b333e26bbb11d14dbbc11641f13ab9fbed8
     ]
    }
   ],
   "source": [
    "## Your solution\n",
    "\n",
<<<<<<< HEAD
    "def sigmoid_activation(x):\n",
    "    return 1/(1 + torch.exp(-x))\n",
    "\n",
    "inputs = images.view(images.shape[0], -1)\n",
    "w1 = torch.randn(784, 256)\n",
    "b1 = torch.randn(256)\n",
    "w2 = torch.randn(256, 10)\n",
    "b2 = torch.randn(10)\n",
    "\n",
    "h = sigmoid_activation(torch.mm(inputs, w1) + b1)\n",
    "out = sigmoid_activation(torch.mm(h, w2) + b2)\n",
    "print (out.shape)\n",
    "print (out)"
=======
    "def activation(x):\n",
    "    return 1/(1+torch.exp(-x))\n",
    "\n",
    "# Flatten the input images\n",
    "inputs = images.view(images.shape[0], -1)\n",
    "\n",
    "# Create parameters\n",
    "w1 = torch.randn(784, 256)\n",
    "b1 = torch.randn(256)\n",
    "\n",
    "w2 = torch.randn(256, 10)\n",
    "b2 = torch.randn(10)\n",
    "\n",
    "h = activation(torch.mm(inputs, w1) + b1)\n",
    "\n",
    "out = torch.mm(h, w2) + b2\n",
    "print(out)"
>>>>>>> 26ae2b333e26bbb11d14dbbc11641f13ab9fbed8
   ]
  },
  {
   "cell_type": "markdown",
   "metadata": {},
   "source": [
    "Now we have 10 outputs for our network. We want to pass in an image to our network and get out a probability distribution over the classes that tells us the likely class(es) the image belongs to. Something that looks like this:\n",
    "<img src='assets/image_distribution.png' width=500px>\n",
    "\n",
    "Here we see that the probability for each class is roughly the same. This is representing an untrained network, it hasn't seen any data yet so it just returns a uniform distribution with equal probabilities for each class.\n",
    "\n",
    "To calculate this probability distribution, we often use the [**softmax** function](https://en.wikipedia.org/wiki/Softmax_function). Mathematically this looks like\n",
    "\n",
    "$$\n",
    "\\Large \\sigma(x_i) = \\cfrac{e^{x_i}}{\\sum_k^K{e^{x_k}}}\n",
    "$$\n",
    "\n",
    "What this does is squish each input $x_i$ between 0 and 1 and normalizes the values to give you a proper probability distribution where the probabilites sum up to one.\n",
    "\n",
    "> **Exercise:** Implement a function `softmax` that performs the softmax calculation and returns probability distributions for each example in the batch. Note that you'll need to pay attention to the shapes when doing this. If you have a tensor `a` with shape `(64, 10)` and a tensor `b` with shape `(64,)`, doing `a/b` will give you an error because PyTorch will try to do the division across the columns (called broadcasting) but you'll get a size mismatch. The way to think about this is for each of the 64 examples, you only want to divide by one value, the sum in the denominator. So you need `b` to have a shape of `(64, 1)`. This way PyTorch will divide the 10 values in each row of `a` by the one value in each row of `b`. Pay attention to how you take the sum as well. You'll need to define the `dim` keyword in `torch.sum`. Setting `dim=0` takes the sum across the rows while `dim=1` takes the sum across the columns."
   ]
  },
  {
   "cell_type": "code",
<<<<<<< HEAD
   "execution_count": 14,
=======
   "execution_count": 8,
>>>>>>> 26ae2b333e26bbb11d14dbbc11641f13ab9fbed8
   "metadata": {
    "collapsed": true
   },
   "outputs": [
    {
     "name": "stdout",
     "output_type": "stream",
     "text": [
      "torch.Size([64, 10])\n",
      "tensor([1.0000, 1.0000, 1.0000, 1.0000, 1.0000, 1.0000, 1.0000, 1.0000, 1.0000,\n",
      "        1.0000, 1.0000, 1.0000, 1.0000, 1.0000, 1.0000, 1.0000, 1.0000, 1.0000,\n",
      "        1.0000, 1.0000, 1.0000, 1.0000, 1.0000, 1.0000, 1.0000, 1.0000, 1.0000,\n",
      "        1.0000, 1.0000, 1.0000, 1.0000, 1.0000, 1.0000, 1.0000, 1.0000, 1.0000,\n",
      "        1.0000, 1.0000, 1.0000, 1.0000, 1.0000, 1.0000, 1.0000, 1.0000, 1.0000,\n",
      "        1.0000, 1.0000, 1.0000, 1.0000, 1.0000, 1.0000, 1.0000, 1.0000, 1.0000,\n",
      "        1.0000, 1.0000, 1.0000, 1.0000, 1.0000, 1.0000, 1.0000, 1.0000, 1.0000,\n",
      "        1.0000])\n"
     ]
    }
   ],
   "source": [
    "def softmax(x):\n",
    "    ## TODO: Implement the softmax function here\n",
<<<<<<< HEAD
    "    return torch.exp(x) / torch.sum(torch.exp(x), dim=1).view(-1, 1)\n",
    "\n",
=======
    "    return torch.exp(x)/torch.sum(torch.exp(x), dim=1).view(-1, 1)\n",
    "       \n",
>>>>>>> 26ae2b333e26bbb11d14dbbc11641f13ab9fbed8
    "# Here, out should be the output of the network in the previous excercise with shape (64,10)\n",
    "probabilities = softmax(out)\n",
    "\n",
    "# Does it have the right shape? Should be (64, 10)\n",
    "print(probabilities.shape)\n",
    "# Does it sum to 1?\n",
    "print(probabilities.sum(dim=1))"
   ]
  },
  {
   "cell_type": "markdown",
   "metadata": {},
   "source": [
    "## Building networks with PyTorch\n",
    "\n",
    "PyTorch provides a module `nn` that makes building networks much simpler. Here I'll show you how to build the same one as above with 784 inputs, 256 hidden units, 10 output units and a softmax output."
   ]
  },
  {
   "cell_type": "code",
<<<<<<< HEAD
   "execution_count": 15,
=======
   "execution_count": 9,
>>>>>>> 26ae2b333e26bbb11d14dbbc11641f13ab9fbed8
   "metadata": {
    "collapsed": true
   },
   "outputs": [],
   "source": [
    "from torch import nn"
   ]
  },
  {
   "cell_type": "code",
<<<<<<< HEAD
   "execution_count": 16,
=======
   "execution_count": 10,
>>>>>>> 26ae2b333e26bbb11d14dbbc11641f13ab9fbed8
   "metadata": {
    "collapsed": true
   },
   "outputs": [],
   "source": [
    "class Network(nn.Module):\n",
    "    def __init__(self):\n",
    "        super().__init__()\n",
    "        \n",
    "        # Inputs to hidden layer linear transformation\n",
    "        self.hidden = nn.Linear(784, 256)\n",
    "        # Output layer, 10 units - one for each digit\n",
    "        self.output = nn.Linear(256, 10)\n",
    "        \n",
    "        # Define sigmoid activation and softmax output \n",
    "        self.sigmoid = nn.Sigmoid()\n",
    "        self.softmax = nn.Softmax(dim=1)\n",
    "        \n",
    "    def forward(self, x):\n",
    "        # Pass the input tensor through each of our operations\n",
    "        x = self.hidden(x)\n",
    "        x = self.sigmoid(x)\n",
    "        x = self.output(x)\n",
    "        x = self.softmax(x)\n",
    "        \n",
    "        return x"
   ]
  },
  {
   "cell_type": "markdown",
   "metadata": {},
   "source": [
    "Let's go through this bit by bit.\n",
    "\n",
    "```python\n",
    "class Network(nn.Module):\n",
    "```\n",
    "\n",
    "Here we're inheriting from `nn.Module`. Combined with `super().__init__()` this creates a class that tracks the architecture and provides a lot of useful methods and attributes. It is mandatory to inherit from `nn.Module` when you're creating a class for your network. The name of the class itself can be anything.\n",
    "\n",
    "```python\n",
    "self.hidden = nn.Linear(784, 256)\n",
    "```\n",
    "\n",
    "This line creates a module for a linear transformation, $x\\mathbf{W} + b$, with 784 inputs and 256 outputs and assigns it to `self.hidden`. The module automatically creates the weight and bias tensors which we'll use in the `forward` method. You can access the weight and bias tensors once the network (`net`) is created with `net.hidden.weight` and `net.hidden.bias`.\n",
    "\n",
    "```python\n",
    "self.output = nn.Linear(256, 10)\n",
    "```\n",
    "\n",
    "Similarly, this creates another linear transformation with 256 inputs and 10 outputs.\n",
    "\n",
    "```python\n",
    "self.sigmoid = nn.Sigmoid()\n",
    "self.softmax = nn.Softmax(dim=1)\n",
    "```\n",
    "\n",
    "Here I defined operations for the sigmoid activation and softmax output. Setting `dim=1` in `nn.Softmax(dim=1)` calculates softmax across the columns.\n",
    "\n",
    "```python\n",
    "def forward(self, x):\n",
    "```\n",
    "\n",
    "PyTorch networks created with `nn.Module` must have a `forward` method defined. It takes in a tensor `x` and passes it through the operations you defined in the `__init__` method.\n",
    "\n",
    "```python\n",
    "x = self.hidden(x)\n",
    "x = self.sigmoid(x)\n",
    "x = self.output(x)\n",
    "x = self.softmax(x)\n",
    "```\n",
    "\n",
    "Here the input tensor `x` is passed through each operation a reassigned to `x`. We can see that the input tensor goes through the hidden layer, then a sigmoid function, then the output layer, and finally the softmax function. It doesn't matter what you name the variables here, as long as the inputs and outputs of the operations match the network architecture you want to build. The order in which you define things in the `__init__` method doesn't matter, but you'll need to sequence the operations correctly in the `forward` method.\n",
    "\n",
    "Now we can create a `Network` object."
   ]
  },
  {
   "cell_type": "code",
<<<<<<< HEAD
   "execution_count": 17,
=======
   "execution_count": 11,
>>>>>>> 26ae2b333e26bbb11d14dbbc11641f13ab9fbed8
   "metadata": {
    "collapsed": true
   },
   "outputs": [
    {
     "data": {
      "text/plain": [
       "Network(\n",
       "  (hidden): Linear(in_features=784, out_features=256, bias=True)\n",
       "  (output): Linear(in_features=256, out_features=10, bias=True)\n",
       "  (sigmoid): Sigmoid()\n",
       "  (softmax): Softmax()\n",
       ")"
      ]
     },
<<<<<<< HEAD
     "execution_count": 17,
=======
     "execution_count": 11,
>>>>>>> 26ae2b333e26bbb11d14dbbc11641f13ab9fbed8
     "metadata": {},
     "output_type": "execute_result"
    }
   ],
   "source": [
    "# Create the network and look at it's text representation\n",
    "model = Network()\n",
    "model"
   ]
  },
  {
   "cell_type": "markdown",
   "metadata": {},
   "source": [
    "You can define the network somewhat more concisely and clearly using the `torch.nn.functional` module. This is the most common way you'll see networks defined as many operations are simple element-wise functions. We normally import this module as `F`, `import torch.nn.functional as F`."
   ]
  },
  {
   "cell_type": "code",
<<<<<<< HEAD
   "execution_count": 18,
=======
   "execution_count": 12,
>>>>>>> 26ae2b333e26bbb11d14dbbc11641f13ab9fbed8
   "metadata": {
    "collapsed": true
   },
   "outputs": [],
   "source": [
    "import torch.nn.functional as F\n",
    "\n",
    "class Network(nn.Module):\n",
    "    def __init__(self):\n",
    "        super().__init__()\n",
    "        # Inputs to hidden layer linear transformation\n",
    "        self.hidden = nn.Linear(784, 256)\n",
    "        # Output layer, 10 units - one for each digit\n",
    "        self.output = nn.Linear(256, 10)\n",
    "        \n",
    "    def forward(self, x):\n",
    "        # Hidden layer with sigmoid activation\n",
    "        x = F.sigmoid(self.hidden(x))\n",
    "        # Output layer with softmax activation\n",
    "        x = F.softmax(self.output(x), dim=1)\n",
    "        \n",
    "        return x"
   ]
  },
  {
   "cell_type": "markdown",
   "metadata": {},
   "source": [
    "### Activation functions\n",
    "\n",
    "So far we've only been looking at the softmax activation, but in general any function can be used as an activation function. The only requirement is that for a network to approximate a non-linear function, the activation functions must be non-linear. Here are a few more examples of common activation functions: Tanh (hyperbolic tangent), and ReLU (rectified linear unit).\n",
    "\n",
    "<img src=\"assets/activation.png\" width=700px>\n",
    "\n",
    "In practice, the ReLU function is used almost exclusively as the activation function for hidden layers."
   ]
  },
  {
   "cell_type": "markdown",
   "metadata": {},
   "source": [
    "### Your Turn to Build a Network\n",
    "\n",
    "<img src=\"assets/mlp_mnist.png\" width=600px>\n",
    "\n",
    "> **Exercise:** Create a network with 784 input units, a hidden layer with 128 units and a ReLU activation, then a hidden layer with 64 units and a ReLU activation, and finally an output layer with a softmax activation as shown above. You can use a ReLU activation with the `nn.ReLU` module or `F.relu` function."
   ]
  },
  {
   "cell_type": "code",
<<<<<<< HEAD
   "execution_count": 20,
=======
   "execution_count": 13,
>>>>>>> 26ae2b333e26bbb11d14dbbc11641f13ab9fbed8
   "metadata": {
    "collapsed": true,
    "scrolled": true
   },
   "outputs": [
    {
     "data": {
      "text/plain": [
       "Network(\n",
<<<<<<< HEAD
       "  (hidden1): Linear(in_features=784, out_features=128, bias=True)\n",
       "  (hidden2): Linear(in_features=128, out_features=64, bias=True)\n",
       "  (out): Linear(in_features=64, out_features=10, bias=True)\n",
       ")"
      ]
     },
     "execution_count": 20,
=======
       "  (fc1): Linear(in_features=784, out_features=128, bias=True)\n",
       "  (fc2): Linear(in_features=128, out_features=64, bias=True)\n",
       "  (fc3): Linear(in_features=64, out_features=10, bias=True)\n",
       ")"
      ]
     },
     "execution_count": 13,
>>>>>>> 26ae2b333e26bbb11d14dbbc11641f13ab9fbed8
     "metadata": {},
     "output_type": "execute_result"
    }
   ],
   "source": [
    "## Your solution here\n",
<<<<<<< HEAD
    "import torch.nn.functional as F\n",
=======
>>>>>>> 26ae2b333e26bbb11d14dbbc11641f13ab9fbed8
    "\n",
    "class Network(nn.Module):\n",
    "    def __init__(self):\n",
    "        super().__init__()\n",
<<<<<<< HEAD
    "        # Inputs to hidden layer linear transformation\n",
    "        self.hidden1 = nn.Linear(784, 128)\n",
    "        self.hidden2 = nn.Linear(128, 64)\n",
    "        \n",
    "        # Output layer, 10 units - one for each digit\n",
    "        self.out = nn.Linear(64, 10)\n",
    "        \n",
    "    def forward(self, x):\n",
    "        x = self.hidden1(x)\n",
    "        x = F.relu\n",
    "        x = self.hidden2(x)\n",
    "        x = F.relu\n",
    "        x = self.out(x)\n",
    "        x = F.softmax(x, dim=1)\n",
    "        \n",
    "        \n",
    "        return x\n",
    "\n",
    "nets = Network()\n",
    "nets"
=======
    "        # Defining the layers, 128, 64, 10 units each\n",
    "        self.fc1 = nn.Linear(784, 128)\n",
    "        self.fc2 = nn.Linear(128, 64)\n",
    "        # Output layer, 10 units - one for each digit\n",
    "        self.fc3 = nn.Linear(64, 10)\n",
    "        \n",
    "    def forward(self, x):\n",
    "        ''' Forward pass through the network, returns the output logits '''\n",
    "        \n",
    "        x = self.fc1(x)\n",
    "        x = F.relu(x)\n",
    "        x = self.fc2(x)\n",
    "        x = F.relu(x)\n",
    "        x = self.fc3(x)\n",
    "        x = F.softmax(x, dim=1)\n",
    "        \n",
    "        return x\n",
    "\n",
    "model = Network()\n",
    "model"
>>>>>>> 26ae2b333e26bbb11d14dbbc11641f13ab9fbed8
   ]
  },
  {
   "cell_type": "markdown",
   "metadata": {},
   "source": [
    "### Initializing weights and biases\n",
    "\n",
    "The weights and such are automatically initialized for you, but it's possible to customize how they are initialized. The weights and biases are tensors attached to the layer you defined, you can get them with `model.fc1.weight` for instance."
   ]
  },
  {
   "cell_type": "code",
<<<<<<< HEAD
   "execution_count": 23,
=======
   "execution_count": 14,
>>>>>>> 26ae2b333e26bbb11d14dbbc11641f13ab9fbed8
   "metadata": {
    "collapsed": true
   },
   "outputs": [
    {
     "name": "stdout",
     "output_type": "stream",
     "text": [
      "Parameter containing:\n",
<<<<<<< HEAD
      "tensor([[ 0.0313,  0.0033,  0.0050,  ..., -0.0129,  0.0252, -0.0350],\n",
      "        [-0.0085, -0.0122, -0.0121,  ...,  0.0348,  0.0036,  0.0007],\n",
      "        [ 0.0297,  0.0047,  0.0142,  ...,  0.0285,  0.0105,  0.0343],\n",
      "        ...,\n",
      "        [-0.0332, -0.0014, -0.0302,  ...,  0.0280, -0.0300, -0.0249],\n",
      "        [ 0.0311, -0.0149, -0.0165,  ..., -0.0331, -0.0256,  0.0349],\n",
      "        [ 0.0348, -0.0038,  0.0266,  ..., -0.0075,  0.0057,  0.0328]],\n",
      "       requires_grad=True)\n",
      "Parameter containing:\n",
      "tensor([ 0.0164,  0.0121,  0.0327,  0.0127, -0.0254,  0.0206,  0.0081, -0.0351,\n",
      "         0.0129,  0.0350,  0.0309,  0.0347,  0.0015, -0.0280,  0.0291, -0.0023,\n",
      "         0.0300, -0.0168, -0.0221, -0.0069, -0.0011, -0.0345,  0.0017,  0.0254,\n",
      "         0.0307,  0.0147, -0.0012,  0.0279, -0.0062, -0.0338, -0.0182, -0.0298,\n",
      "         0.0233,  0.0281, -0.0292, -0.0146,  0.0004, -0.0336, -0.0238,  0.0128,\n",
      "        -0.0306,  0.0135, -0.0326, -0.0178, -0.0354, -0.0041, -0.0048, -0.0023,\n",
      "        -0.0333,  0.0320,  0.0050,  0.0285,  0.0119,  0.0348, -0.0018, -0.0061,\n",
      "        -0.0088, -0.0061, -0.0097, -0.0111, -0.0228, -0.0140, -0.0216,  0.0158,\n",
      "         0.0326, -0.0250,  0.0231,  0.0188,  0.0096,  0.0003,  0.0069,  0.0293,\n",
      "         0.0286, -0.0225, -0.0113,  0.0299, -0.0238, -0.0204, -0.0330,  0.0283,\n",
      "         0.0090,  0.0231,  0.0247,  0.0193,  0.0255, -0.0333,  0.0318, -0.0167,\n",
      "        -0.0214, -0.0325, -0.0329, -0.0132, -0.0305, -0.0287, -0.0024,  0.0043,\n",
      "        -0.0081,  0.0116,  0.0117,  0.0025, -0.0007,  0.0198,  0.0073,  0.0262,\n",
      "         0.0140,  0.0071, -0.0087,  0.0045,  0.0009,  0.0192,  0.0108, -0.0274,\n",
      "         0.0128, -0.0050,  0.0033,  0.0285, -0.0352, -0.0230, -0.0149,  0.0053,\n",
      "        -0.0331, -0.0242,  0.0237, -0.0113,  0.0285, -0.0309, -0.0163,  0.0230],\n",
      "       requires_grad=True)\n"
=======
      "tensor([[-0.0128, -0.0075,  0.0321,  ...,  0.0222, -0.0247, -0.0207],\n",
      "        [-0.0066,  0.0193,  0.0347,  ..., -0.0093, -0.0210, -0.0302],\n",
      "        [-0.0049,  0.0064,  0.0202,  ...,  0.0139,  0.0027,  0.0198],\n",
      "        ...,\n",
      "        [-0.0077,  0.0132,  0.0331,  ...,  0.0188,  0.0295,  0.0187],\n",
      "        [ 0.0058,  0.0182,  0.0315,  ...,  0.0081,  0.0161,  0.0298],\n",
      "        [ 0.0115, -0.0115, -0.0089,  ..., -0.0104, -0.0044, -0.0205]],\n",
      "       requires_grad=True)\n",
      "Parameter containing:\n",
      "tensor([ 3.0411e-02, -6.5283e-03,  2.3537e-02,  3.3066e-03,  2.4170e-02,\n",
      "         2.4832e-02,  8.8063e-03,  4.9890e-03, -2.5042e-02, -1.1193e-02,\n",
      "        -1.0937e-02, -1.0326e-02,  8.4329e-05,  2.5047e-02,  2.0781e-02,\n",
      "        -1.8442e-04,  1.8353e-02,  3.3188e-02, -2.1118e-03, -2.3317e-02,\n",
      "         2.3243e-02,  3.2726e-02, -1.3616e-02, -5.8990e-03,  1.0391e-02,\n",
      "         2.7866e-02,  1.6652e-02, -1.8864e-02, -2.8121e-02, -2.2760e-02,\n",
      "         1.8656e-02,  6.6502e-03, -6.2665e-03, -1.5177e-03,  2.1978e-02,\n",
      "         2.7456e-02,  3.5472e-02,  1.8939e-02,  7.0772e-04,  1.8972e-02,\n",
      "         5.8628e-03,  6.0301e-03, -3.1227e-02,  5.0371e-03, -2.8413e-02,\n",
      "        -2.9060e-02,  4.5907e-03,  2.7932e-02, -2.7039e-02, -2.0541e-02,\n",
      "         2.1559e-02, -8.0153e-03, -3.2286e-02,  2.1536e-02, -3.5163e-02,\n",
      "        -1.5966e-02,  3.2571e-02, -1.7132e-02, -4.9220e-04,  8.0495e-03,\n",
      "         2.0288e-02,  2.2035e-02,  1.7322e-03,  2.7876e-03, -5.4762e-03,\n",
      "        -5.9804e-04, -3.5268e-02,  2.0471e-02,  2.2202e-03,  1.0724e-02,\n",
      "        -2.1986e-02, -6.1842e-03,  2.6319e-02, -4.7826e-03,  3.1783e-02,\n",
      "         2.2833e-02, -1.9432e-02, -3.9763e-03,  1.6561e-02,  8.2361e-03,\n",
      "        -4.0206e-03,  1.7664e-02, -2.2618e-02, -2.4877e-02, -2.5321e-02,\n",
      "         1.6956e-02,  3.2610e-02, -2.3863e-02, -1.9160e-02, -2.1289e-02,\n",
      "        -4.0487e-03, -3.1471e-02,  1.6565e-02,  2.9871e-03,  3.6036e-03,\n",
      "        -2.9284e-02,  3.0132e-02, -2.9064e-02,  1.6171e-02, -2.3638e-02,\n",
      "         1.6047e-02,  3.4185e-02,  8.3162e-03,  1.3846e-02, -9.0106e-03,\n",
      "         3.3213e-03,  1.2325e-03,  7.3291e-03, -2.6527e-02, -2.1258e-02,\n",
      "         2.6663e-02, -1.0169e-02,  3.0882e-02,  6.7990e-03, -1.2728e-02,\n",
      "         8.4033e-03, -3.3196e-02, -3.2572e-02,  3.4433e-02,  5.0152e-03,\n",
      "         1.5257e-02,  1.2252e-02,  1.0482e-02, -5.9604e-03, -1.6831e-02,\n",
      "        -3.3543e-02,  3.1456e-02,  1.7707e-02], requires_grad=True)\n"
>>>>>>> 26ae2b333e26bbb11d14dbbc11641f13ab9fbed8
     ]
    }
   ],
   "source": [
<<<<<<< HEAD
    "print(nets.hidden1.weight)\n",
    "print(nets.hidden1.bias)"
=======
    "print(model.fc1.weight)\n",
    "print(model.fc1.bias)"
>>>>>>> 26ae2b333e26bbb11d14dbbc11641f13ab9fbed8
   ]
  },
  {
   "cell_type": "markdown",
   "metadata": {},
   "source": [
    "For custom initialization, we want to modify these tensors in place. These are actually autograd *Variables*, so we need to get back the actual tensors with `model.fc1.weight.data`. Once we have the tensors, we can fill them with zeros (for biases) or random normal values."
   ]
  },
  {
   "cell_type": "code",
<<<<<<< HEAD
   "execution_count": 24,
=======
   "execution_count": 15,
>>>>>>> 26ae2b333e26bbb11d14dbbc11641f13ab9fbed8
   "metadata": {
    "collapsed": true
   },
   "outputs": [
    {
     "data": {
      "text/plain": [
<<<<<<< HEAD
       "tensor([0., 0., 0., 0., 0., 0., 0., 0., 0., 0., 0., 0., 0., 0., 0., 0., 0., 0.,\n",
       "        0., 0., 0., 0., 0., 0., 0., 0., 0., 0., 0., 0., 0., 0., 0., 0., 0., 0.,\n",
       "        0., 0., 0., 0., 0., 0., 0., 0., 0., 0., 0., 0., 0., 0., 0., 0., 0., 0.,\n",
       "        0., 0., 0., 0., 0., 0., 0., 0., 0., 0., 0., 0., 0., 0., 0., 0., 0., 0.,\n",
       "        0., 0., 0., 0., 0., 0., 0., 0., 0., 0., 0., 0., 0., 0., 0., 0., 0., 0.,\n",
       "        0., 0., 0., 0., 0., 0., 0., 0., 0., 0., 0., 0., 0., 0., 0., 0., 0., 0.,\n",
       "        0., 0., 0., 0., 0., 0., 0., 0., 0., 0., 0., 0., 0., 0., 0., 0., 0., 0.,\n",
       "        0., 0.])"
      ]
     },
     "execution_count": 24,
=======
       "tensor([0., 0., 0., 0., 0., 0., 0., 0., 0., 0., 0., 0., 0., 0., 0., 0., 0., 0., 0., 0., 0., 0., 0., 0.,\n",
       "        0., 0., 0., 0., 0., 0., 0., 0., 0., 0., 0., 0., 0., 0., 0., 0., 0., 0., 0., 0., 0., 0., 0., 0.,\n",
       "        0., 0., 0., 0., 0., 0., 0., 0., 0., 0., 0., 0., 0., 0., 0., 0., 0., 0., 0., 0., 0., 0., 0., 0.,\n",
       "        0., 0., 0., 0., 0., 0., 0., 0., 0., 0., 0., 0., 0., 0., 0., 0., 0., 0., 0., 0., 0., 0., 0., 0.,\n",
       "        0., 0., 0., 0., 0., 0., 0., 0., 0., 0., 0., 0., 0., 0., 0., 0., 0., 0., 0., 0., 0., 0., 0., 0.,\n",
       "        0., 0., 0., 0., 0., 0., 0., 0.])"
      ]
     },
     "execution_count": 15,
>>>>>>> 26ae2b333e26bbb11d14dbbc11641f13ab9fbed8
     "metadata": {},
     "output_type": "execute_result"
    }
   ],
   "source": [
    "# Set biases to all zeros\n",
    "nets.hidden1.bias.data.fill_(0)"
   ]
  },
  {
   "cell_type": "code",
<<<<<<< HEAD
   "execution_count": 25,
=======
   "execution_count": 16,
>>>>>>> 26ae2b333e26bbb11d14dbbc11641f13ab9fbed8
   "metadata": {
    "collapsed": true
   },
   "outputs": [
    {
     "data": {
      "text/plain": [
<<<<<<< HEAD
       "tensor([[ 0.0019,  0.0015, -0.0063,  ..., -0.0119, -0.0060, -0.0080],\n",
       "        [ 0.0025,  0.0066, -0.0161,  ...,  0.0005,  0.0080,  0.0076],\n",
       "        [-0.0192,  0.0065,  0.0116,  ..., -0.0023, -0.0061, -0.0033],\n",
       "        ...,\n",
       "        [-0.0035,  0.0018, -0.0040,  ...,  0.0028,  0.0035,  0.0028],\n",
       "        [ 0.0057, -0.0012, -0.0051,  ..., -0.0027, -0.0034, -0.0012],\n",
       "        [ 0.0158,  0.0047,  0.0152,  ...,  0.0096, -0.0108, -0.0045]])"
      ]
     },
     "execution_count": 25,
=======
       "tensor([[ 0.0301, -0.0043,  0.0201,  ..., -0.0136,  0.0010, -0.0184],\n",
       "        [ 0.0053, -0.0068, -0.0054,  ...,  0.0038,  0.0108,  0.0050],\n",
       "        [ 0.0035, -0.0068,  0.0005,  ..., -0.0106,  0.0035,  0.0061],\n",
       "        ...,\n",
       "        [-0.0036, -0.0020, -0.0007,  ...,  0.0017,  0.0295, -0.0072],\n",
       "        [ 0.0081,  0.0108,  0.0244,  ...,  0.0021,  0.0061, -0.0028],\n",
       "        [-0.0029, -0.0129, -0.0067,  ...,  0.0116, -0.0038,  0.0091]])"
      ]
     },
     "execution_count": 16,
>>>>>>> 26ae2b333e26bbb11d14dbbc11641f13ab9fbed8
     "metadata": {},
     "output_type": "execute_result"
    }
   ],
   "source": [
    "# sample from random normal with standard dev = 0.01\n",
    "nets.hidden1.weight.data.normal_(std=0.01)"
   ]
  },
  {
   "cell_type": "markdown",
   "metadata": {},
   "source": [
    "### Forward pass\n",
    "\n",
    "Now that we have a network, let's see what happens when we pass in an image."
   ]
  },
  {
   "cell_type": "code",
<<<<<<< HEAD
   "execution_count": 26,
=======
   "execution_count": 17,
>>>>>>> 26ae2b333e26bbb11d14dbbc11641f13ab9fbed8
   "metadata": {
    "collapsed": true
   },
   "outputs": [
    {
     "data": {
<<<<<<< HEAD
      "image/png": "iVBORw0KGgoAAAANSUhEUgAAA04AAAHECAYAAAAOFHoWAAAABHNCSVQICAgIfAhkiAAAAAlwSFlzAAAWJQAAFiUBSVIk8AAAADl0RVh0U29mdHdhcmUAbWF0cGxvdGxpYiB2ZXJzaW9uIDMuMC4xLCBodHRwOi8vbWF0cGxvdGxpYi5vcmcvDW2N/gAAIABJREFUeJzt3XmYZGV9L/Dvj1VEAQURReO4IRiMCG64gibGhGvEhcRrNKIxixpNjN4El0Q0muCNGjQmMUbRoCYuGPRG3CNuQaMZNAZlicuo4IKAso6IzHv/OKelabvnTPVUd3VVfz7PU8+ZqnPeU78609PT336XU621AAAAsLQdJl0AAADAWic4AQAADBCcAAAABghOAAAAAwQnAACAAYITAADAAMEJAABggOAEAAAwQHACAAAYIDgBAAAMEJwAAAAGCE4AAAADBCcAAIABghMAMDOqqvWPDZOuZb2Y1DXfnvetqjf2bY/f1vNW1bH96x9dXsVMO8EJAFhzquqGVfWUqvrXqvpGVV1VVVdW1deq6pSqelxV7TbpOldLVW2a9wP93OPaqrq4qj5RVc+sqhtOus71qg9Vx1fVIZOuhZWz06QLAACYr6oeluS1Sfab9/KVSbYk2dA/HpXkpVX1+NbaR1a7xgm6MskV/Z93SXLTJPfrH0+uqiNbaxdOqrgp8u0k5ya5aIQ2l/ZtvrHIvmOTPDDJpiSf387aWKP0OAEAa0ZVHZvkXelC07lJHp9kn9bajVpreyTZK8mjk3w0yS2TPGAylU7My1pr+/WPmybZJ8lLkrQkd04XOBnQWntOa+3A1tqrR2hzat/mN1ayNtYuwQkAWBOq6ueSvCbdzyfvTXK31tqbW2sXzx3TWru0tfbO1tqRSX4tyeWTqXZtaK1d3Fp7fpI39C89vKpuOcmaYFYJTgDAWvGSJLsmuSDJY1trm7d2cGvt7UlesS0nrqodq+rIqnplVW2squ9W1Y+q6ltVdWpVPWgrbXfo57Cc3s8puqaqvldVX6yqk6rqoYu0uW1V/V1VnVdVm/s5Wl+vqo9W1XOqap9tqXsE/zzvz4fOq+MniyBU1a5V9byq+kJVXd6/vteCuo+sqn+pqu/01+c7Q9dnQfuDq+qtfbsfVtU5VfUnVbXrEsffqKqOqaq3VNVZVfWD/np9uapeW1V3XKH3XXJxiK28x08tDjH3WrpheknyhgXz0Db1x53UPz9l4D1e2B93xrbWxeoxxwkAmLiq2j/JUf3TV7XWLt2Wdq21to1vcVCS+XOhrk7yoyS3SHJ0kqOr6nmttT9fpO2bkjx23vNLk+yRbpjcnfvH++d2VtWh6YYS3rh/6Zp0c5N+pn88MMnn5rcZgwvm/XmPRfbfIMnHk9yzr+eqhQdU1YuTPK9/2tJ9zn1z3fU5obX2nK3UcJ90QwV3T3JZkkpypyQvSvLLVfULrbUrFrQ5Nslfz3t+ebpf7N++fzy2qo5urX14zO87LpuTfDfdXLOd+/efH/i/129fl+SJSR5WVXvP70WdU1WV5An905NWqF62gx4nAGAtOCLdD7xJ8v9W4Pw/SvKOJA9LN39qt9bajZLcPMmfJLk2yYur6l7zG1XVA9KFpi1Jnplkj9baXumCyC3T/eD/yQXv9bJ0oek/khzaWtultXaTdD/Y3yPJielCyTj9zLw//2CR/U9LckCSxyS5Uf8ZNqQLdKmqx+S60PTqJPv2Nd8s1wWb46rqcVup4W+TfCnJz7XW9kx3DZ6YLkjcO4v3Dl7cn/8+Sfbq57HdIF3QfUu6a/ZPVbX7mN93LFprb2ut7Zdkrofo9+fNQduvtXaP/rgz+hp3SfLrS5zuwUluk+7v5G0rVTPLJzgBAGvBQf326nSLQoxVa+281tqvttbe01r77lxPVWvtwtbai5O8MF1w+90FTe/dbz/YWjuxtXZ536611r7dWvvH1tqzl2jz+621z82r4arW2n+21p7ZWvvUmD/ib829TZLPLrL/Rkl+rf9B/0d9PV9vrV3T93T8WX/cW1trT2+tXdQfc3Fr7Rm5bijgi6tqqZ8fr07y0Nbaf/dtf9Rae2OSp/b7f7OqbjO/QWvtn1trz2itfWqul7G/tuekWxjkw+nC26O38tlHft8JeV2/feIS+5/Ub0+Z+zpjbRGcAIC1YO9++/0Rht+N07/22/sueP2yfrvvVgLDQnNtbrHdVW1FVe1SVXeuqtelW5496YLP9xY5/AuttQ8ucapDktyh//OLlzjmhf32NumG+y3mNa21SxZ5/eQk56f7ufMRS7T9Kf3XwWn904V/Lyv2vivo5HQ9n4dU1d3m76iqPXNdjYbprVGCEwCwLlTVbv2NYj9aVRf2izy0fnL/XM/QwhXpPpzuh91Dk3y0uhvvDq1a995+e3JVnVBV966qncf0MV4wr+ark3wxyW/2+z6d63pZFtpaD9fcYhLfa619cbEDWmvn5rp5VIcudky6eV2Ltd2S5BNLta2qW1XVS/tFO35Q3Y195z7jX/WHbe2aL+t9V1s/r+ld/dOFvU6PTTdE8X9aax9f1cLYZoITALAWzE2Wv0k/dGysquoW6W5M+op0izPcLF3w+F66yf1zN0K93lya1tqXkzwl3XyZ+6dbKOKCqvpav2re9XoOev8n3ZyXGyf543Sh5bKq+khVPaWqdtuOj3JlX+93k3wrydlJ/iXdsLb7t9YWm9+UXLdIwWJu1m8v2MoxSdd7M//4hbbWfm7f9dpW1QPTfYY/Shdu9ky3QMTcZ5zrvdvaHKeR33eC5obrPbaqdpn3+twwvTeENUtwAgDWgrP77a7pVkQbtxPTLY7w1XTD2m7a31R3335y/72XathaOynJbZP8QZJ3pwt5G9LNh9pYVc9dcPzFSe6X5BeSvCpdb9YuSY5Mt5DBWVV1q2V+jvk3wN2/tXbn1tqj+vtd/Xgr7a7dhnMvunT3mPxUGO574d6cbv7Vh9PdzHi31tpec58xyR8u1X657zthH07ytXRDU38lSarqZ5PcPd3f0T9OrjSGCE4AwFrwsXQLGyT9D5Tj0v9m/+H9019vrf1La+37Cw67+dbO0S8o8crW2tHpei/umeTUdD+Y/1l1N++df3xrrX24tfb7rbVD0y1d/jtJLklyu1w3BG0tmOuN+pmtHpXMhb2leq+2Npxubr7X/LaH9+e8JMnDW2ufaK39cEG7rf69LPN9J6aftzU3h2luuN7cUMsPtNa+tfpVsa0EJwBg4lpr5+e6uUFPr6rF7kX0U7ZxWN8+ua435XNLHPPz2/J+yU9C0WeTHJPrFh+430Cb77fWXptkrnfqgVs7fpWd2W93r6pFF36oqgOS7L/g+IUW/Uz939H9F2k7F8TOa6391H2letvy9zLq+66ELXNvuw3HviFd79Iv9qv9zS3xblGINU5wAgDWiuenm3d0q3T37rnB1g6uql/NdUO5tuayXNebdZdFznOLJE9f4j12Wez1JGmtXZvuZrJJH8yqaoeq2mkrtWyef/wa8fkkX+7//Nwljjm+325K8pkljnlKVe21yOuPS3LrdOHiX+a9Pncvqzsu9nddVQ9JN7xxyKjvuxLm5mItVsf1tNYuSPK+JDumu1fVzdL1iK3E/csYI8EJAFgTWmufT3ej1pbkqCSf61exu+ncMVW1Z1U9sqpOT3eT0Btvw3mvSLfiXJKcVFWH9OfaoaoenG6Y4FI9BX9eVadU1dEL6rh5Vb0q3dynluRD/a49kny5qp5XVXepqh0XvNdL+uM+MHxFVkc/fOz5/dOHV9VfV9XeSVJVe/ef83/3+5/fr1a3mBskeX9VHdy33bmqnpDkNf3+17fWvjHv+H9PclW6+T4n9wF2bvXDJyV5Z65bNGRrRn3flTC3GuEj+6XFh8wtEjG3zPqbW2vXLHUwa8PWfiMCALCqWmuvr6qLk/x9kgPTrWKXqroiXUCZH5S+nuQj23jqZyY5PV2P0+eq6sp0v0DeLd0cmyfluqWi59sp3WISj+rruCxdyJpfx/Nba2fNe36bdPdDenGSa6rq8nSrxe3Y7/9qtq2nbNW01t5WVXdJ8rwkv5fkqVV1abq6537RfkJr7S1bOc1Tk/xDkv/u2+6WblGMpAuu1/vMrbUfVNVzkrwy3bDHY/p2u6e77p9PN3ztVQPlj/S+K+RNSZ6dbsjmRVV1YbreyPNba4sN4zwtybdz3Rwsw/SmgB4nAGBNaa29K90CCk9LN+/p/HQ/SO+UbqjYKenue3Onbb3nTWvtP9ItRvCuJN9PsnOSC9MFtEOS/NcSTf8qyTPSraZ3XrrQtGuSb6br8XpAa+3P5x1/WZL/lW4Vv8+kG4J143TLiH82XTA5pJ/Ttaa01p6f5MHpPutF6Va7uzjdELKfb609Z+AUZyS5V5K3pxty2ZKcm+RPkxzR9/wtfM9XJXlkrut92inJOUlekOQ+6ZYmHzLy+45ba+2cdKsovj/dEMT90gXoRVdP7FdAnLvp8mcXBG/WqJrMzbkBAGD9qqrzktwxyVNaa68ZOp7JE5wAAGAV9fPdPpyuJ/KWrbXLBpqwBhiqBwAAq6Sq9knyl/3Tk4Sm6aHHCQAAVlhVvSzJr6ab/7RzunlkP9tau3CihbHN9DgBAMDK2yfdfaU2J/lgkgcJTdNFjxMAAMAAPU4AAAADBCcAAIABghMAAMCAnSZdwEr5hR2OMXkLYI370JZ31KRrAIBtoccJAABgwMz2OAHASqqqryXZI8mmCZcCwNI2JLmstXbb7T2R4AQAy7PHbrvtdtODDjroppMuBIDFnX322dm8efNYziU4AcDybDrooINuunHjxknXAcASDjvssJx55pmbxnEuc5wAAAAGCE4AAAADBCcAAIABghMAAMAAwQkAAGCA4AQAADBAcAIAABggOAEAAAwQnAAAAAYITgAAAAMEJwAAgAGCEwAAwADBCQAAYIDgBAAAMGCnSRcAANPqrAsuzYbjTpt0Gdl0wlGTLgFg5ulxAgAAGCA4AQAADBCcAAAABghOAAAAAwQnAACAAYITAADAAMEJgJlVnSdV1aer6vKquqqqPldVz6iqHSddHwDTQ3ACYJb9Y5LXJ7ltkrcl+YckuyR5ZZK3VVVNsDYApogb4AIwk6rq6CSPT/K1JPdsrV3Uv75zkrcneVSSJyR546RqBGB66HECYFY9st++fC40JUlr7Zokf9I/ffqqVwXAVBKcAJhV+/Xbry6yb+61Q6tqr1WqB4ApJjgBMKvmepluu8i+283784GrUAsAU84cJwBm1XuS/O8kf1hVb22tXZIkVbVTkhfOO+4mWztJVW1cYpfABbCOCE4AzKq3Jnlckl9K8qWq+n9Jrkry80lun+R/ktwxybUTqxCAqSE4ATCTWmtbqupXkvx+utX1Hp/kmiRnpFtN79XpgtOFA+c5bLHX+56oQ8dZMwBrl+AEwMxqrf04ycv7x09U1W5JDkmyOckXJ1AaAFPG4hAArEePT3KDJG/vlycHgK0SnACYWVW1xyKv3SPJCUmuSPKiVS8KgKlkqB4As+xDVbU5yVlJLk/ys0l+OcnVSR7ZWlvsHk8A8FMEJwBm2SlJHpNudb3dknwryeuSnNBa2zTBugCYMoITADOrtfaXSf5y0nUAMP3McQIAABggOAEAAAwQnAAAAAYITgAAAAMEJwAAgAFW1QOAZTp4/z2z8YSjJl0GAKtAjxMAAMAAwQkAAGCA4AQAADBAcAIAABggOAEAAAywqh4ALNNZF1yaDcedNukyssnKfgArTo8TAADAAMEJAABggOAEAAAwQHACAAAYIDgBAAAMEJwAAAAGCE4AzLSqOqqqPlhV51fV5qr6alW9o6oOn3RtAEwPwQmAmVVVL03yniSHJnl/klcmOTPJw5P8e1U9boLlATBF3AAXgJlUVfsleXaS7yb5udbahfP2HZnkI0lelOTNk6kQgGmixwmAWXWbdP/P/cf80JQkrbXTk1ye5GaTKAyA6SM4ATCr/ifJj5Lcs6r2mb+jqh6Q5MZJPjyJwgCYPobqATCTWmuXVNUfJ3lFki9V1buSXJzk9kl+JcmHkvzOBEsEYIoITsBEfOUtdxu5zdlHvG7kNof+1dNHbnPLl50xchvWptbaiVW1KclJSX5r3q4vJ3njwiF8i6mqjUvsOnD7KwRgWhiqB8DMqqo/SnJKkjem62naPclhSb6a5C1V9X8nVx0A00SPEwAzqaqOSPLSJKe21v5w3q4zq+oRSc5L8qyqek1r7atLnae1dtgS59+YbplzANYBPU4AzKr/1W9PX7ijtXZVks+k+39w9HGjAKw7ghMAs2rXfrvUkuNzr/9oFWoBYMoJTgDMqk/029+uqv3n76iqX0py3yQ/TGI1EAAGmeMEwKw6Jd19mn4+ydlVdWqS7yQ5KN0wvkpyXGvt4smVCMC0EJwAmEmttS1V9ctJnpbkMUkekeSGSS5J8t4kr2qtfXCCJQIwRQQnAGZWa+2aJCf2DwBYNnOcAAAABghOAAAAAwQnAACAAYITAADAAItDANut7n7wyG1Ouc9rRm6zZRm/69n7Id8auU1eNnoTAGC2CU4AsEwH779nNp5w1KTLAGAVGKoHAAAwQHACAAAYIDgBAAAMEJwAAAAGCE4AAAADrKoHAMt01gWXZsNxp03kvTdZzQ9gVelxAgAAGCA4AQAADBCcAAAABghOAAAAAwQnAACAAVbVYyI2veTwkdvc4dVfG7nNj7/9nZHbMLqr99lt5DYH7bI6v7d5yH5nj9zmYxn98wAAs02PEwAzqaqOrao28Lh20nUCMB30OAEwqz6f5IVL7Lt/kgcled/qlQPANBOcAJhJrbXPpwtPP6WqPtX/8bWrVxEA08xQPQDWlao6OMm9k1yQ5LQJlwPAlBCcAFhvfqffvr61Zo4TANtEcAJg3aiq3ZI8LsmWJK+bcDkATBFznABYT341yV5JTmutfXNbGlTVxiV2HTi2qgBY8/Q4AbCe/Ha//fuJVgHA1NHjBMC6UFV3TnKfJOcnee+2tmutHbbE+TYmOXQ81QGw1ulxAmC9sCgEAMsmOAEw86rqBkken25RiNdPuBwAppDgBMB6cEySmyR577YuCgEA85njxHb7xgvuM3KbjU94xchtHne/h4/c5scPHLkJy/C9375q0iUs6Ts/2mMZra4Zex1M3NyiEK+daBUATC09TgDMtKo6KMn9MuKiEAAwnx4nAGZaa+3sJDXpOgCYbnqcAAAABghOAAAAAwQnAACAAYITAADAAMEJAABggFX1AGCZDt5/z2w84ahJlwHAKtDjBAAAMEBwAgAAGCA4AQAADBCcAAAABlgcguupXXcduc2dHvSVkdvsXDuO3OblG945cpun5n4jt1nvlvM1cIe9L1qBSsbj9LfeY+Q2t8wZK1AJADDNBCcAWKazLrg0G447bUXOvclqfQBriqF6AAAAAwQnAACAAYITAADAAMEJAABggOAEAAAwQHACAAAYIDgBMPOq6v5V9c6q+nZVXd1vP1hVvzzp2gCYDu7jBMBMq6rnJ/mzJBcleU+SbyfZJ8ndkhyR5L0TKw6AqSE4ATCzquqYdKHpw0ke2Vq7fMH+nSdSGABTx1A9AGZSVe2Q5KVJrkry2IWhKUlaa9esemEATCU9TgDMqvskuW2SU5J8v6qOSnJwkh8m+Uxr7VOTLA6A6SI4cT2bH3LXkdu8+w5/swKVMCk73uLmI7d52x3euQKV/LSrtozeObDXV65dgUqYEvfot99NcmaSu8zfWVUfT/Lo1tr3VrswAKaP4ATArNq33/5ukq8l+fkk/5HkNklenuQXk7wj3QIRS6qqjUvsOnAsVQIwFcxxAmBW7dhvK13P0r+11q5orX0xySOSnJ/kgVV1+MQqBGBq6HECYFZ9v99+tbX2X/N3tNY2V9UHkvxmknsmWXK+U2vtsMVe73uiDh1TrQCscXqcAJhV5/bbHyyxfy5Y7bYKtQAw5QQnAGbVx5P8OMkdq2qXRfYf3G83rVpFAEwtwQmAmdRauyjJ25LsmeRP5++rql9ItzjEpUnev/rVATBtzHECYJb9YZJ7JXleVT0gyWfSrar3iCTXJvmt1tpSQ/kA4CcEJwBmVmvtwqq6V5LnpwtL905yeZLTkvxFa+3Tk6wPgOkhOAEw01prl6TrefrDSdcCwPQyxwkAAGCA4AQAADBAcAIAABhgjhPX89JX/t2kS1jS5Vt2nnQJ68K5T9t/0iUs6ZItW0Zuc8NT/2MFKgEA1hs9TgAAAAP0OAHAMh28/57ZeMJRky4DgFWgxwkAAGCA4AQAADBAcAIAABggOAEAAAwQnAAAAAZYVQ8AlumsCy7NhuNOG/t5N1mpD2DN0eMEAAAwQHACAAAYIDgBAAAMEJwAAAAGWBxihl3ypMNHbnOnnc9YxjvtvIw2o3vMyc8cuc1tspzPMzvqbj87epv9N69AJQAA002PEwAAwADBCYCZVVWbqqot8fjOpOsDYHoYqgfArLs0yYmLvH7FahcCwPQSnACYdT9orR0/6SIAmG6G6gEAAAzQ4wTArNu1qh6X5GeSXJnkC0k+3lq7drJlATBNBCcAZt1+Sd604LWvVdUTW2sfm0RBAEwfwQmAWfaGJJ9I8sUklye5XZLfS/LbSd5XVYe31v5rayeoqo1L7DpwnIUCsLYJTgDMrNbaCxe8dFaS362qK5I8K8nxSR6x2nUBMH0EJwDWo9ekC04PGDqwtXbYYq/3PVGHjrkuANYoq+oBsB5d2G93n2gVAEwNwQmA9ejwfvvViVYBwNQwVG9K7HTrW43c5v8c908jt7nhDjuP3Ga1XH3rH43cZs9P7r0ClWy/HaqN3GZLq5Hb/MWt/37kNrfaadeR26yWG45+CbLjnQ8Yuc21Xzpv9Ddizamqn03y7dbaJQtev02SV/dP37zqhQEwlQQnAGbVMUmOq6rTk3wt3ap6t09yVJIbJHlvkpdNrjwApongBMCsOj3JnZLcLd3QvN2T/CDJJ9Pd1+lNrbXRu38BWJcEJwBmUn9zWze4BWAsLA4BAAAwQHACAAAYIDgBAAAMEJwAAAAGCE4AAAADrKoHAMt08P57ZuMJR026DABWgR4nAACAAYITAADAAEP1psSl99p/5DYP3/2iFahkcs75xb+bdAljs8MyfmexJVuW8U67LqPN2nXTHUf/PN/85X1GbnPLL503chsAYLbpcQIAABggOAEAAAwwVA8AlumsCy7NhuNOm3QZgzZZ+Q9gu+lxAgAAGCA4AQAADBCcAAAABghOAAAAAwQnAACAAYITAADAAMEJgHWlqh5fVa1/PHnS9QAwHQQnANaNqrp1kr9OcsWkawFgughOAKwLVVVJ3pDk4iSvmXA5AEyZnSZdANtmj/++eOQ2n/zhDUZu84Ab/GjkNoxu59px5DbXtBUoZMpsyZaR2+xyuQvHTzwjyYOSHNFvAWCb6XECYOZV1UFJTkjyytbaxyddDwDTR3ACYKZV1U5J3pTkG0meO+FyAJhShuoBMOv+NMndktyvtbZ51MZVtXGJXQduV1UATBU9TgDMrKq6Z7peppe31j416XoAmF56nACYSfOG6J2X5E+We57W2mFLnH9jkkOXe14AposeJwBm1Y2SHJDkoCQ/nHfT25bkBf0x/9C/duLEqgRgKuhxAmBWXZ3k9UvsOzTdvKdPJjk3iWF8AGyV4ATATOoXgnjyYvuq6vh0wekfW2uvW826AJhOhuoBAAAMEJwAAAAGCE4ArDutteNba2WYHgDbSnACAAAYYHGIKXHtuV8euc3TT/qdkdt85imvGLnNzrXjyG3Wu2va6G3+/KK7jNzmvy+75cht3njb94zcZrW+Bg5/8TNGbnOzv7dYGgCw/fQ4AQAADBCcAAAABghOAAAAA8xxAoBlOnj/PbPxhKMmXQYAq0CPEwAAwADBCQAAYIDgBAAAMEBwAgAAGCA4AQAADLCqHgAs01kXXJoNx5026TKSJJus7gewovQ4AQAADBCcAAAABhiqN8Nu/ZIzRm7z8E89beQ233jytSO3WY5bn7TjyG12uurHK1DJZOx07jdHbnPtxReN3OaQtzxl5DZfPOK1I7dZjlu8Z/RrMDtfAQDAJOlxAgAAGCA4AQAADBCcAAAABghOAMysqnppVf1bVX2zqjZX1SVV9bmqekFV7T3p+gCYHoITALPsmUl2T/KhJK9M8pZ0a4Ycn+QLVXXryZUGwDSxqh4As2yP1toPF75YVS9J8twkz0ny1FWvCoCpo8cJgJm1WGjqvb3f3nG1agFguglOAKxHD+u3X5hoFQBMDUP1AJh5VfXsJDdKsmeSuye5X7rQdMIk6wJgeghOAKwHz05y83nP35/k2Nba94YaVtXGJXYdOI7CAJgOhuoBMPNaa/u11irJfkkemeR2ST5XVYdOtjIApoUeJwDWjdbad5OcWlVnJjkvyclJDh5oc9hir/c9UYIXwDohOHE9O31kqREpS7vdR1agEH7Ktav0Plsu2WWV3gkmp7X29ar6UpJDqmqf1tpFk64JgLXNUD0A1qtb9tvV+r0EAFNMcAJgJlXVgVW13yKv79DfAHffJGe01r6/+tUBMG0M1QNgVj00yV9W1ceTfCXJxelW1ntgusUhvpPktyZXHgDTRHACYFZ9OMlrk9w3yV2T7JXkynSLQrwpyataa5dMrjwApongBMBMaq2dleRpk64DgNlgjhMAAMAAwQkAAGCA4AQAADBAcAIAABggOAEAAAywqh4ALNPB+++ZjSccNekyAFgFepwAAAAGCE4AAAADBCcAAIABghMAAMAAwQkAAGCAVfUAYJnOuuDSbDjutFV5r01W7wOYKD1OAAAAAwQnAACAAYITAADAAMEJAABggOAEAAAwQHACAAAYIDgBMJOqau+qenJVnVpVX66qzVV1aVV9sqp+s6r8HwjANnMfJwBm1TFJ/i7Jt5OcnuQbSW6e5JFJXpfkl6rqmNZam1yJAEwLwQmAWXVekl9Jclprbcvci1X13CSfSfKodCHqnZMpD4BpYpgCADOptfaR1tq/zg9N/evfSfKa/ukRq14YAFNJcAJgPbqm3/54olUAMDUEJwDWlaraKclv9E/fP8laAJge5jgBsN6ckOTgJO9trX1g6OCq2rh/2xr+AAAOfElEQVTErgPHWhUAa5oeJwDWjap6RpJnJTknyeMnXA4AU0SPEwDrQlU9Lckrk3wpyYNba5dsS7vW2mFLnG9jkkPHVyEAa5keJwBmXlX9QZJXJzkryZH9ynoAsM0EJwBmWlX9cZK/SvL5dKHpwgmXBMAUEpwAmFlV9SfpFoPYmG543kUTLgmAKWWOEwAzqaqekORFSa5N8okkz6iqhYdtaq29cZVLA2AKCU4AzKrb9tsdk/zBEsd8LMkbV6UaAKaaoXoAzKTW2vGttRp4HDHpOgGYDnqcgOs58DU/GL3RI8dfBwDAWqLHCQAAYIDgBAAAMEBwAgAAGCA4AQAADLA4BAAs08H775mNJxw16TIAWAV6nAAAAAYITgAAAAMEJwAAgAGCEwAAwADBCQAAYIBV9QBgmc664NJsOO60SZexqjZZRRBYp/Q4AQAADNDjBFxP/eDykduce821I7e50847jtwGAGBS9DgBAAAMEJwAAAAGCE4AAAADBCcAAIABghMAM6uqHl1Vf11Vn6iqy6qqVdWbJ10XANPHqnoAzLLnJ7lrkiuSnJ/kwMmWA8C00uMEwCx7ZpIDkuyR5CkTrgWAKabHCYCZ1Vo7fe7PVTXJUgCYcnqcAAAABghOAAAAAwzVA4CtqKqNS+yy0ATAOqLHCQAAYIAeJ+B6fnzBt0Zu84T/OnbkNp+++5tGbgOT0Fo7bLHX+56oQ1e5HAAmRI8TAADAAMEJAABggOAEAAAwwBwnAGZWVR2d5Oj+6X799vCqemP/54taa89e9cIAmDqCEwCz7JAkT1jw2u36R5J8PYngBMAgQ/UAmFmtteNba7WVx4ZJ1wjAdBCcAAAABghOAAAAAwQnAACAAYITAADAAMEJAABggOXIAWCZDt5/z2w84ahJlwHAKhCcgO125RdvMnqju4+/DgCAlWKoHgAAwADBCQAAYIDgBAAAMEBwAgAAGGBxCABYprMuuDQbjjttxd9nk5X7ACZOjxMAAMAAwQkAAGCA4AQAADBAcAIAABggOAEAAAwQnAAAAAYITgDMtKq6VVWdVFXfqqqrq2pTVZ1YVTeZdG0ATA/3cQK2222f+6mR2/zKc++xjHc6fxltWM+q6vZJzkiyb5J3JzknyT2T/H6Sh1bVfVtrF0+wRACmhB4nAGbZ36YLTc9orR3dWjuutfagJH+V5E5JXjLR6gCYGoITADOpqm6X5CFJNiX5mwW7X5DkyiSPr6rdV7k0AKaQ4ATArHpQv/1ga23L/B2ttcuT/HuSGya592oXBsD0EZwAmFV36rfnLbH/f/rtAatQCwBTzuIQAMyqPfvtpUvsn3t9r62dpKo2LrHrwOUUBcB00uMEwHpV/bZNtAoApoIeJwBm1VyP0p5L7N9jwXGLaq0dttjrfU/UocsrDYBpo8cJgFl1br9dag7THfvtUnOgAOAnBCcAZtXp/fYhVXW9/++q6sZJ7ptkc5JPr3ZhAEwfwQmAmdRa+0qSDybZkORpC3a/MMnuSU5urV25yqUBMIXMcQJglj01yRlJXlVVD05ydpJ7JTky3RC9502wNgCmiB4nAGZW3+t09yRvTBeYnpXk9kleleTw1trFk6sOgGmixwmAmdZa+2aSJ066DgCmmx4nAACAAYITAADAAMEJAABggOAEAAAwQHACAAAYYFU9AFimg/ffMxtPOGrSZQCwCvQ4AQAADBCcAAAABghOAAAAAwQnAACAAYITAADAAMEJAABggOAEAAAwQHACAAAYIDgBAAAMEJwAAAAGCE4AAAADBCcAAIABghMAAMAAwQkAAGDATpMuAACm1Iazzz47hx122KTrAGAJZ599dpJsGMe5BCcAWJ4bbd68+dozzzzzvyZdyIQd2G/PmWgVk+c6dFyHjuvQWQvXYUOSy8ZxIsEJAJbnrCRpra3rLqeq2pi4Dq5Dx3XouA6dWbsO5jgBAAAMEJwAAAAGzOxQvQ9teUdNugYAAGA26HECAAAYIDgBAAAMqNbapGsAAABY0/Q4AQAADBCcAAAABghOAAAAAwQnAACAAYITAADAAMEJAABggOAEAAAwQHACgF5V3aqqTqqqb1XV1VW1qapOrKqbjHiem/btNvXn+VZ/3lutVO3jtL3Xoap2r6pfr6p/qqpzqurKqrq8qv6zqp5VVbus9GcYh3F9PSw45wOq6tqqalX14nHWu1LGeR2q6i5VdXJVfbM/14VV9bGq+o2VqH2cxvj94X5V9e6+/Q+r6htV9d6qeuhK1T4uVfXoqvrrqvpEVV3Wfx2/eZnnGvu/r5XmBrgAkKSqbp/kjCT7Jnl3knOS3DPJkUnOTXLf1trF23CevfvzHJDkI0k+m+TAJA9PcmGSw1trX12JzzAO47gO/Q+A70tySZLTk3w5yU2TPCzJfv35H9xa++EKfYztNq6vhwXnvHGSLyTZJ8mNkryktfb8cdY9buO8DlV1bJLXJbkqyXuSbEqyV5KDk3yrtfaYMZc/NmP8/vCUJH+b5MokpyY5P8mtkjwyyQ2TPL+19pKV+AzjUFWfT3LXJFekq/3AJG9prT1uxPOM/d/XqmiteXh4eHh4rPtHkg8kaUmevuD1V/Svv2Ybz/P3/fGvWPD6M/rX3z/pz7rS1yHJIUl+PckuC16/cZKN/XmeNenPuhpfDwvanpQuTD63P8eLJ/05V+s6JLl3kh8n+XyS/RbZv/OkP+tKX4ckOyf5QZLNSe60YN9BSX6YLlTuOunPu5XPcGSSOyapJEf0n/3Nk/q6Wu2HHicA1r2qul2Sr6T7DfjtW2tb5u27cZJvp/tBYd/W2pVbOc/uSb6XZEuSW7TWLp+3b4f+PTb077Hmep3GdR0G3uOxSd6S5D2ttYdtd9ErYCWuQ1U9PMm7kjw+yU5J3pA13uM0zutQVR9Pcv8kd2mtnbViRa+AMX5/uHmS7yT5Qmvtrovs/0KSuyTZp63F3pYFquqIdD3KI/U4rcb3mZVijhMAJA/qtx+c/594kvTh59/TDaO598B5Dk+yW5J/nx+a+vNsSfLB/umR213xyhjXddiaa/rtj7fjHCttrNehqvZN8g9J3tVaW9Z8kAkZy3Xo5/bdP8l/JvliVR1ZVc/u57s9uP+lwlo2rq+HC9P9YuWAqrrj/B1VdUC6npzPT0No2k6r8X1mRaz1L1QAWA136rfnLbH/f/rtAat0nklZjfqf1G/fvx3nWGnjvg6vTfcz1+9uT1ETMK7rcI95x3+kf/xlkpcl+XCSz1fVHbajzpU2luvQumFeT0v3tbCxqv6xqv6iqk5ON4T1i0mOGUO9a93Ufp/cadIFAMAasGe/vXSJ/XOv77VK55mUFa2/qn4vyUPTzXM5aTnnWCVjuw5V9aR0C4P8Wmvtu2OobTWN6zrs229/NclF6RZC+LckN0vygnTDF0+rqru01n60/HJXzNi+Hlpr76iqbyX55yTzVxL8brrhm2tuCO8KmNrvk3qcAGBY9dvtnRg8rvNMyrLrr6pHJjkx3RyPR7XWrhlospZt03Woqg3pPvM7WmtvX+GaJmFbvx52nLd9cmvt1NbaZa21ryR5QrohfAckedTKlLnitvnfRVU9Ll0v2yfSLQhxw377b0leneStK1TjNFmz3ycFJwC47jecey6xf48Fx630eSZlReqvqqPT/UB4YZIj1uLCGAuM6zqclG4FtaeOo6gJGNd1+H6/vTrJe+fv6Ievvbt/es9RC1wlY7kO/Tymk9INyXt8a+2c1trm1to56XrdNiY5pl90YZZN7fdJwQkAuvuGJEuPqZ+byL3UmPxxn2dSxl5/VR2T5B3phiI9sLV27kCTtWBc1+HQdMPUvtffKLRVVUs3JCtJnte/9q7tK3fFjPvfxeULFwPozQWr3UaobTWN6zo8JN2S5B9bZFGELUk+3j89bDlFTpGp/T5pjhMAdEvqJslDqmqHRZbHvW+6noNPD5zn0/1x962qGy+yHPlDFrzfWjOu6zDX5rFJTk5yQZIjp6Cnac64rsPJ6YZiLXTHJA9IN9drY5LPbXfFK2Nc1+EL6eY27VNVN19krtfB/XbT9pe8IsZ1HXbttzdbYv/c62txntc4jfX7zGrS4wTAutfPtfhgunssPW3B7hcm2T3JyfPvKVJVB1bVgQvOc0WSN/XHH7/gPL/Xn/8DazVAjOs69K8/Id21+EaSB6zVz7yYMX49PKO19uSFj1zX43Ra/9rfrNiH2Q5jvA4/Tndj6CT5v/OXH6+quyQ5Nt3y9KeM+SOMxRj/XXyi3z66qn5u/o6qOiTJo9PN6/nI+KqfnKraub8Ot5//+nKu51rhBrgAkKT/z/2MdEOr3p3k7CT3SnfPpfOS3Gf+/VX6IVdprdWC8+zdn+eAdD8AfSbd5O+Hp5vjc5/+B4c1aRzXoaqOTDcBfod0czq+uchb/aC1duIKfYztNq6vhyXOfWym4Aa4yVj/Xdww3QII907Xw/bRdD0sj0o3RO9ZrbVXrPDHWbYxXoeTkjwxXa/SqUm+ni5AHJ1klyQnttaeucIfZ9n6+YpH90/3S/KL6VYCnAuFF7XWnt0fuyHJ15J8vbW2YcF5Rrqea4XgBAC9qrp1khelWzJ773R3sH9Xkhe21i5ZcOySPyhX1U3TLbN8dJJbJLk4yfuS/Glr7fyV/AzjsL3XYV4w2Jqf+mFqrRnX18Mi5z02UxKckrH+u7hhkj9K8pgkt03ywySfTfLy1tr7VvIzjMM4rkNVVbqVBI9NctckN05yWbow+Q+ttTW9ql5VHZ/ue9tSfvLvemvBqd+/zddzrRCcAAAABpjjBAAAMEBwAgAAGCA4AQAADBCcAAAABghOAAAAAwQnAACAAYITAADAAMEJAABggOAEAAAwQHACAAAYIDgBAAAMEJwAAAAGCE4AAAADBCcAAIABghMAAMAAwQkAAGCA4AQAADBAcAIAABggOAEAAAwQnAAAAAYITgAAAAP+P+wcthQmDhqGAAAAAElFTkSuQmCC\n",
=======
      "image/png": "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\n",
>>>>>>> 26ae2b333e26bbb11d14dbbc11641f13ab9fbed8
      "text/plain": [
       "<Figure size 432x648 with 2 Axes>"
      ]
     },
     "metadata": {
      "image/png": {
       "height": 226,
       "width": 423
      },
      "needs_background": "light"
     },
     "output_type": "display_data"
    }
   ],
   "source": [
    "# Grab some data \n",
    "dataiter = iter(trainloader)\n",
    "images, labels = dataiter.next()\n",
    "\n",
    "# Resize images into a 1D vector, new shape is (batch size, color channels, image pixels) \n",
    "images.resize_(64, 1, 784)\n",
    "# or images.resize_(images.shape[0], 1, 784) to automatically get batch size\n",
    "\n",
    "# Forward pass through the network\n",
    "img_idx = 0\n",
    "ps = model.forward(images[img_idx,:])\n",
    "\n",
    "img = images[img_idx]\n",
    "helper.view_classify(img.view(1, 28, 28), ps)"
   ]
  },
  {
   "cell_type": "markdown",
   "metadata": {},
   "source": [
    "As you can see above, our network has basically no idea what this digit is. It's because we haven't trained it yet, all the weights are random!\n",
    "\n",
    "### Using `nn.Sequential`\n",
    "\n",
    "PyTorch provides a convenient way to build networks like this where a tensor is passed sequentially through operations, `nn.Sequential` ([documentation](https://pytorch.org/docs/master/nn.html#torch.nn.Sequential)). Using this to build the equivalent network:"
   ]
  },
  {
   "cell_type": "code",
<<<<<<< HEAD
   "execution_count": 27,
=======
   "execution_count": 18,
>>>>>>> 26ae2b333e26bbb11d14dbbc11641f13ab9fbed8
   "metadata": {
    "collapsed": true
   },
   "outputs": [
    {
     "name": "stdout",
     "output_type": "stream",
     "text": [
      "Sequential(\n",
      "  (0): Linear(in_features=784, out_features=128, bias=True)\n",
      "  (1): ReLU()\n",
      "  (2): Linear(in_features=128, out_features=64, bias=True)\n",
      "  (3): ReLU()\n",
      "  (4): Linear(in_features=64, out_features=10, bias=True)\n",
      "  (5): Softmax()\n",
      ")\n"
     ]
    },
    {
     "data": {
<<<<<<< HEAD
      "image/png": "iVBORw0KGgoAAAANSUhEUgAAA04AAAHECAYAAAAOFHoWAAAABHNCSVQICAgIfAhkiAAAAAlwSFlzAAAWJQAAFiUBSVIk8AAAADl0RVh0U29mdHdhcmUAbWF0cGxvdGxpYiB2ZXJzaW9uIDMuMC4xLCBodHRwOi8vbWF0cGxvdGxpYi5vcmcvDW2N/gAAIABJREFUeJzt3XmYJWV5N/7vzabsCogoGkeNCAlGhLivqDEmxIgLxlclLtEkajRx+b1BJXGJ5sUYDS5JjAsa1MSFBE3EBReMRtwySBAFcRsXVBBQNgdEeH5/VLU0TffUnJ7Tffqc+Xyu61w1XVVP1X1qenrOt596nqrWWgAAAFjaNpMuAAAAYK0TnAAAAAYITgAAAAMEJwAAgAGCEwAAwADBCQAAYIDgBAAAMEBwAgAAGCA4AQAADBCcAAAABghOAAAAAwQnAACAAYITAADAAMEJAJgZVdX617pJ17K1mNQ135LzVtVb+7Yv2tzjVtUT+vWfWF7FTDvBCQBYc6pqp6p6alX9Z1V9p6p+WlWXV9W3quqEqnpcVe046TpXS1VtmPeBfu51dVVdWFWfqqpnVdVOk65za9WHqhdV1UGTroWVs92kCwAAmK+qHpLkDUn2mbf68iTXJFnXvx6R5OVVdWRr7eOrXeMEXZ7ksv7POyTZI8m9+teTq+rQ1tr5kypuivwgyVeTXDBCm4v7Nt9ZZNsTktw3yYYkp29hbaxRepwAgDWjqp6Q5L3pQtNXkxyZZK/W2i6ttd2S3CjJI5N8IsnNk9xnMpVOzN+21vbpX3sk2SvJy5K0JL+SLnAyoLX2vNba/q21143Q5sS+ze+vZG2sXYITALAmVNWvJXl9us8nH0hyp9ba21trF87t01q7uLX2b621Q5P8XpJLJ1Pt2tBau7C1dnSSt/SrHlpVN59kTTCrBCcAYK14WZIbJDk3yWNaaxs3tXNr7d1JXrU5B66qbavq0Kp6dVWtr6rzqupnVfX9qjqxqu6/ibbb9GNYTunHFF1VVT+qqi9X1XFV9eBF2ty6qv6xqs6pqo39GK1vV9Unqup5VbXX5tQ9gn+d9+eD59Xxi0kQquoGVfWCqjqjqi7t199oQd2HVtW/V9UP++vzw6Hrs6D9gVX1zr7dFVV1dlX9RVXdYIn9d6mqI6rqHVV1ZlX9pL9eX6+qN1TV7VbovEtODrGJc1xvcoi5delu00uStywYh7ah3++4/usTBs7x4n6/Uze3LlaPMU4AwMRV1b5JDuu/fE1r7eLNaddaa5t5igOSzB8LdWWSnyW5WZLDkxxeVS9orf31Im3fluQx876+OMlu6W6T+5X+9aG5jVV1cLpbCXftV12VbmzSL/Wv+yb54vw2Y3DuvD/vtsj2Gyb5ZJK79PX8dOEOVfXSJC/ov2zp3ufeufb6HNNae94marhHulsFd05ySZJKcvskL0ny21X1G621yxa0eUKS1877+tJ0v9i/bf96TFUd3lr76JjPOy4bk5yXbqzZ9v355wf+H/XLNyV5YpKHVNWe83tR51RVJXl8/+VxK1QvW0CPEwCwFtwv3QfeJPmPFTj+z5K8J8lD0o2f2rG1tkuSmyb5iyRXJ3lpVd11fqOquk+60HRNkmcl2a21dqN0QeTm6T74//eCc/1tutD0uSQHt9Z2aK3dON0H+zsnOTZdKBmnX5r3558ssv3pSfZL8ugku/TvYV26QJeqenSuDU2vS7J3X/NNcm2wOaqqHreJGv4hyVeS/Fprbfd01+CJ6YLE3bJ47+CF/fHvkeRG/Ti2G6YLuu9Id83+pap2HvN5x6K19q7W2j5J5nqI/nTeGLR9Wmt37vc7ta9xhySPXeJwD0hyq3R/J+9aqZpZPsEJAFgLDuiXV6abFGKsWmvntNYe1Vp7f2vtvLmeqtba+a21lyZ5cbrg9scLmt6tX57cWju2tXZp36611n7QWvvn1tpzl2jzp621L86r4aettf9prT2rtfaZMb/Fp8ydJskXFtm+S5Lf6z/o/6yv59uttav6no6/6vd7Z2vtGa21C/p9LmytPTPX3gr40qpa6vPjlUke3Fr7Ut/2Z621tyZ5Wr/9D6rqVvMbtNb+tbX2zNbaZ+Z6Gftre3a6iUE+mi68PXIT733k807Im/rlE5fY/qR+ecLc9xlri+AEAKwFe/bLH49w+904/We/vOeC9Zf0y703ERgWmmtzsy2uahOqaoeq+pWqelO66dmTLvj8aJHdz2itnbzEoQ5K8sv9n1+6xD4v7pe3Sne732Je31q7aJH1xyf5XrrPnQ9bou319N8HJ/VfLvx7WbHzrqDj0/V8HlRVd5q/oap2z7U1uk1vjRKcAICtQlXt2D8o9hNVdX4/yUPrB/fP9QwtnJHuo+k+7B6c5BPVPXh3aNa6D/TL46vqmKq6W1VtP6a38cJ5NV+Z5MtJ/qDf9tlc28uy0KZ6uOYmk/hRa+3Li+3QWvtqrh1HdfBi+6Qb17VY22uSfGqptlV1i6p6eT9px0+qe7Dv3Hv8u363TV3zZZ13tfXjmt7bf7mw1+kx6W5R/Fpr7ZOrWhibTXACANaCucHyN+5vHRurqrpZugeTvird5Aw3SRc8fpRucP/cg1CvM5amtfb1JE9NN17m3ukmiji3qr7Vz5p3nZ6D3v+XbszLrkn+PF1ouaSqPl5VT62qHbfgrVze13teku8nOSvJv6e7re3erbXFxjcl105SsJib9MtzN7FP0vXezN9/oU21n9t2nbZVdd907+H/pgs3u6ebIGLuPc713m1qjNPI552gudv1HlNVO8xbP3eb3lvCmiU4AQBrwVn98gbpZkQbt2PTTY7wzXS3te3RP1R3735w/92WathaOy7JrZP8WZL3pQt569KNh1pfVc9fsP+FSe6V5DeSvCZdb9YOSQ5NN5HBmVV1i2W+j/kPwN23tfYrrbVH9M+7+vkm2l29GcdedOruMbleGO574d6ebvzVR9M9zHjH1tqN5t5jkmcv1X65552wjyb5VrpbU383SarqV5P8erq/o3+eXGkMEZwAgLXgv9JNbJD0HyjHpf/N/kP7Lx/bWvv31tqPF+x2000do59Q4tWttcPT9V7cJcmJ6T6Y/1V1D++dv39rrX20tfanrbWD001d/kdJLkpym1x7C9paMNcb9Uub3CuZC3tL9V5t6na6ufFe89vevT/mRUke2lr7VGvtigXtNvn3sszzTkw/bmtuDNPc7Xpzt1p+uLX2/dWvis0lOAEAE9da+16uHRv0jKpa7FlE17OZt/XtlWt7U764xD4P3JzzJb8IRV9IckSunXzgXgNtftxae0OSud6p+25q/1V2Wr/cuaoWnfihqvZLsu+C/Rda9D31f0f3XqTtXBA7p7V2vedK9Tbn72XU866Ea+ZOuxn7viVd79Jv9rP9zU3xblKINU5wAgDWiqPTjTu6Rbpn99xwUztX1aNy7a1cm3JJru3NusMix7lZkmcscY4dFlufJK21q9M9TDbpg1lVbVNV222ilo3z918jTk/y9f7Pz19inxf1yw1JPr/EPk+tqhstsv5xSW6ZLlz8+7z1c8+yut1if9dV9aB0tzcOGfW8K2FuLNZidVxHa+3cJB9Msm26Z1XdJF2P2Eo8v4wxEpwAgDWhtXZ6uge1tiSHJfliP4vdHnP7VNXuVfXwqjol3UNCd92M416Wbsa5JDmuqg7qj7VNVT0g3W2CS/UU/HVVnVBVhy+o46ZV9Zp0Y59ako/0m3ZL8vWqekFV3aGqtl1wrpf1+314+Iqsjv72saP7Lx9aVa+tqj2TpKr27N/n/+m3H93PVreYGyb5UFUd2Lfdvqoen+T1/fY3t9a+M2//Tyf5abrxPsf3AXZu9sMnJfm3XDtpyKaMet6VMDcb4cP7qcWHzE0SMTfN+ttba1cttTNrw6Z+IwIAsKpaa2+uqguT/FOS/dPNYpequixdQJkflL6d5OObeehnJTklXY/TF6vq8nS/QN4x3RibJ+XaqaLn2y7dZBKP6Ou4JF3Iml/H0a21M+d9fat0z0N6aZKrqurSdLPFbdtv/2Y2r6ds1bTW3lVVd0jygiR/kuRpVXVxurrnftF+TGvtHZs4zNOSvDHJl/q2O6abFCPpgut13nNr7SdV9bwkr0532+MRfbud013309PdvvaagfJHOu8KeVuS56a7ZfOCqjo/XW/k91pri93GeVKSH+TaMVhu05sCepwAgDWltfbedBMoPD3duKfvpfsgvV26W8VOSPfcm9tv7jNvWmufSzcZwXuT/DjJ9knOTxfQDkryv0s0/bskz0w3m9456ULTDZJ8N12P131aa389b/9LkvxOuln8Pp/uFqxd000j/oV0weSgfkzXmtJaOzrJA9K91wvSzXZ3YbpbyB7YWnvewCFOTXLXJO9Od8tlS/LVJH+Z5H59z9/Cc74mycNzbe/TdknOTvLCJPdINzX5kJHPO26ttbPTzaL4oXS3IO6TLkAvOntiPwPi3EOXv7AgeLNG1WQezg0AAFuvqjonye2SPLW19vqh/Zk8wQkAAFZRP97to+l6Im/eWrtkoAlrgFv1AABglVTVXkle0X95nNA0PfQ4AQDACquqv03yqHTjn7ZPN47sV1tr50+0MDabHicAAFh5e6V7rtTGJCcnub/QNF30OAEAAAzQ4wQAADBAcAIAABggOAEAAAzYbtIFrJTf2OYIg7cA1riPXPOemnQNALA59DgBAAAMmNkeJwBYSVX1rSS7Jdkw4VIAWNq6JJe01m69pQcSnABgeXbbcccd9zjggAP2mHQhACzurLPOysaNG8dyLMEJAJZnwwEHHLDH+vXrJ10HAEs45JBDctppp20Yx7GMcQIAABggOAEAAAwQnAAAAAYITgAAAAMEJwAAgAGCEwAAwADBCQAAYIDgBAAAMEBwAgAAGCA4AQAADBCcAAAABghOAAAAAwQnAACAAYITAADAgO0mXQAATKszz7046446aVXPueGYw1b1fAB09DgBAAAMEJwAAAAGCE4AAAADBCcAAIABghMAAMAAwQkAAGCA4ATAzKrOk6rqs1V1aVX9tKq+WFXPrKptJ10fANNDcAJglv1zkjcnuXWSdyV5Y5Idkrw6ybuqqiZYGwBTxANwAZhJVXV4kiOTfCvJXVprF/Trt0/y7iSPSPL4JG+dVI0ATA89TgDMqof3y1fOhaYkaa1dleQv+i+fsepVATCVBCcAZtU+/fKbi2ybW3dwVd1oleoBYIoJTgDMqrleplsvsu028/68/yrUAsCUM8YJgFn1/iT/J8mzq+qdrbWLkqSqtkvy4nn73XhTB6mq9UtsErgAtiKCEwCz6p1JHpfkt5J8par+I8lPkzwwyW2TfC3J7ZJcPbEKAZgaghMAM6m1dk1V/W6SP003u96RSa5Kcmq62fRely44nT9wnEMWW9/3RB08zpoBWLsEJwBmVmvt50le2b9+oap2THJQko1JvjyB0gCYMiaHAGBrdGSSGyZ5dz89OQBskuAEwMyqqt0WWXfnJMckuSzJS1a9KACmklv1AJhlH6mqjUnOTHJpkl9N8ttJrkzy8NbaYs94AoDrEZwAmGUnJHl0utn1dkzy/SRvSnJMa23DBOsCYMoITgDMrNbaK5K8YtJ1ADD9jHECAAAYIDgBAAAMEJwAAAAGCE4AAAADBCcAAIABZtUDgGU6cN/ds/6YwyZdBgCrQI8TAADAAMEJAABggOAEAAAwQHACAAAYIDgBAAAMMKseACzTmedenHVHnbTq591gJj+AVafHCQAAYIDgBAAAMEBwAgAAGCA4AQAADBCcAAAABghOAAAAAwQnAGZaVR1WVSdX1feqamNVfbOq3lNVd590bQBMD8EJgJlVVS9P8v4kByf5UJJXJzktyUOTfLqqHjfB8gCYIh6AC8BMqqp9kjw3yXlJfq21dv68bYcm+XiSlyR5+2QqBGCa6HECYFbdKt3/c5+bH5qSpLV2SpJLk9xkEoUBMH0EJwBm1deS/CzJXapqr/kbquo+SXZN8tFJFAbA9HGrHgAzqbV2UVX9eZJXJflKVb03yYVJbpvkd5N8JMkfTbBEAKaI4MQW22bXXUdu8/ODfnnkNhfcYceR21z1wItHblOf2X3kNvt8duNI+2//lW+PfI6rL7xo5DawtWutHVtVG5Icl+Qp8zZ9PclbF97Ct5iqWr/Epv23vEIApoVb9QCYWVX1f5OckOSt6Xqadk5ySJJvJnlHVf3N5KoDYJrocQJgJlXV/ZK8PMmJrbVnz9t0WlU9LMk5SZ5TVa9vrX1zqeO01g5Z4vjr001zDsBWQI8TALPqd/rlKQs3tNZ+muTz6f4fvNNqFgXAdBKcAJhVN+iXS005Prf+Z6tQCwBTTnACYFZ9ql/+YVXtO39DVf1WknsmuSLJqatdGADTxxgnAGbVCeme0/TAJGdV1YlJfpjkgHS38VWSo1prF06uRACmheAEwExqrV1TVb+d5OlJHp3kYUl2SnJRkg8keU1r7eQJlgjAFBGcAJhZrbWrkhzbvwBg2YxxAgAAGCA4AQAADBCcAAAABghOAAAAA0wOwXVss9NOI7f5xhtvPXKbL937DSO3WS3b3HX03ydck2tG2v8vz7/zyOc49a/uOnKbnf79cyO3AQDg+gQnAFimA/fdPeuPOWzSZQCwCtyqBwAAMEBwAgAAGCA4AQAADBCcAAAABghOAAAAA8yqBwDLdOa5F2fdUSdNuowkyQaz+wGsKD1OAAAAAwQnAACAAYITAADAAMEJAABggOAEAAAwwKx6XMc3jr7jyG2+dO/XrEAls+0le39h5DZnvfJzI7d51KOeMnKbWz/6jJHbAADMOj1OAMykqnpCVbWB19WTrhOA6aDHCYBZdXqSFy+x7d5J7p/kg6tXDgDTTHACYCa11k5PF56up6o+0//xDatXEQDTzK16AGxVqurAJHdLcm6SkyZcDgBTQnACYGvzR/3yza01Y5wA2CyCEwBbjaraMcnjklyT5E0TLgeAKWKMEwBbk0cluVGSk1pr392cBlW1folN+4+tKgDWPD1OAGxN/rBf/tNEqwBg6uhxAmCrUFW/kuQeSb6X5AOb2661dsgSx1uf5ODxVAfAWqfHCYCthUkhAFg2wQmAmVdVN0xyZLpJId484XIAmEKCEwBbgyOS3DjJBzZ3UggAmM8YJ67jbod+eVXOc68vPnbkNjd+2Y4jt9n++xeN3CZVIze56mY3Hmn/J731P0Y+x8N2OX/kNl+69+i/WP/d3HnkNjAF5iaFeMNEqwBgaulxAmCmVdUBSe6VESeFAID59DgBMNNaa2clGb0rGQDm0eMEAAAwQHACAAAYIDgBAAAMEJwAAAAGCE4AAAADzKoHAMt04L67Z/0xh026DABWgR4nAACAAYITAADAAMEJAABggOAEAAAwwOQQXMe3/uaAkdvc5VYHjtxmn2NPHbnNcvx8Vc6S1IbvjLT/8Q9/0MjnuMl/nDBym/vc8Gcjt8nHbjF6mwd8b/Q2AABTRHACgGU689yLs+6okyZdxvVsMNMfwNi5VQ8AAGCA4AQAADBAcAIAABggOAEAAAwQnAAAAAYITgAAAAMEJwBmXlXdu6r+rap+UFVX9suTq+q3J10bANPBc5wAmGlVdXSSv0pyQZL3J/lBkr2S3CnJ/ZJ8YGLFATA1BCcAZlZVHZEuNH00ycNba5cu2L79RAoDYOq4VQ+AmVRV2yR5eZKfJnnMwtCUJK21q1a9MACmkh4nAGbVPZLcOskJSX5cVYclOTDJFUk+31r7zCSLA2C6CE5cx04nfm70NitQx6y7+stfHbnNP37/0JHb3Os2Hxy5zV/d5sSR27x4n98Zuc3Pf3jeyG1gRHful+clOS3JHeZvrKpPJnlka+1Hq10YANNHcAJgVu3dL/84ybeSPDDJ55LcKskrk/xmkvekmyBiSVW1folN+4+lSgCmgjFOAMyqbftlpetZ+lhr7bLW2peTPCzJ95Lct6ruPrEKAZgaepwAmFU/7pffbK397/wNrbWNVfXhJH+Q5C5Jlhzv1Fo7ZLH1fU/UwWOqFYA1To8TALNqbjDhT5bYPhesdlyFWgCYcoITALPqk0l+nuR2VbXDItsP7JcbVq0iAKaW4ATATGqtXZDkXUl2T/KX87dV1W+kmxzi4iQfWv3qAJg2xjgBMMueneSuSV5QVfdJ8vl0s+o9LMnVSZ7SWlvqVj4A+AXBCYCZ1Vo7v6rumuTodGHpbkkuTXJSkv/XWvvsJOsDYHoITgDMtNbaRel6np496VoAmF7GOAEAAAwQnAAAAAYITgAAAAOMcYIp8fX37Dd6oz//4MhN7rTD6L9POfeI247c5qavPW/kNgAAk6LHCQAAYIAeJwBYpgP33T3rjzls0mUAsAr0OAEAAAwQnAAAAAYITgAAAAMEJwAAgAGCEwAAwACz6gHAMp157sVZd9RJky5jURvM9gcwVnqcAAAABghOAAAAAwQnAACAAYITAADAAMEJAABggOAEAAAwQHACYGZV1Yaqaku8fjjp+gCYHp7jBMCsuzjJsYusv2y1CwFgeglOAMy6n7TWXjTpIgCYbm7VAwAAGKDHCYBZd4OqelySX0pyeZIzknyytXb1ZMsCYJoITgDMun2SvG3Bum9V1RNba/81iYIAmD6CEwCz7C1JPpXky0kuTXKbJH+S5A+TfLCq7t5a+99NHaCq1i+xaf9xFgrA2iY4ATCzWmsvXrDqzCR/XFWXJXlOkhcledhq1wXA9BGcANgavT5dcLrP0I6ttUMWW9/3RB085roAWKPMqgfA1uj8frnzRKsAYGoITgBsje7eL7850SoAmBpu1QOu4wdXbxy5zV5nXrEClcCWqapfTfKD1tpFC9bfKsnr+i/fvuqFATCVBCcAZtURSY6qqlOSfCvdrHq3TXJYkhsm+UCSv51ceQBME8EJgFl1SpLbJ7lTulvzdk7ykyT/ne65Tm9rrbXJlQfANBGcAJhJ/cNtPeAWgLEwOQQAAMAAwQkAAGCA4AQAADBAcAIAABggOAEAAAwwqx4ALNOB++6e9cccNukyAFgFepwAAAAGCE4AAAAD3KoHU+Kn97hs5DbbLON3I6duvOXIbbY95bSR2wAATBM9TgAAAAMEJwAAgAFu1QOAZTrz3Iuz7qiTJnb+DWb0A1g1epwAAAAGCE4AAAADBCcAAIABghMAAMAAwQkAAGCA4AQAADBAcAJgq1JVR1ZV619PnnQ9AEwHwQmArUZV3TLJa5NcNulaAJgughMAW4WqqiRvSXJhktdPuBwApsx2ky4AtkbtngeN3Obdd/2nkdtcs4zfjbzwPY8euc26fGbkNjABz0xy/yT365cAsNn0OAEw86rqgCTHJHl1a+2Tk64HgOkjOAEw06pquyRvS/KdJM+fcDkATCm36gEw6/4yyZ2S3Ku1tnHUxlW1folN+29RVQBMFT1OAMysqrpLul6mV7bWDMYDYNn0OAEwk+bdondOkr9Y7nFaa4cscfz1SQ5e7nEBmC56nACYVbsk2S/JAUmumPfQ25bkhf0+b+zXHTuxKgGYCnqcAJhVVyZ58xLbDk437um/k3w1Mac+AJsmOAEwk/qJIJ682LaqelG64PTPrbU3rWZdAEwnt+oBAAAMEJwAAAAGCE4AbHVaay9qrZXb9ADYXIITAADAAJNDwAT84J47jdzmgB38ngMAYFJ8EgMAABggOAEAAAwQnAAAAAYY4wQAy3Tgvrtn/TGHTboMAFaBHicAAIABghMAAMAAwQkAAGCA4AQAADBAcAIAABhgVj0AWKYzz7046446adJlXMcGs/wBrAg9TgAAAAMEJwAAgAFu1WNq/OTIu4/c5sob18ht9jzzypHb/PjPLhtp/3+74ytGPkeyw8gt7vXFx47c5pf/6bsjt/n5yC0AAKaLHicAAIABghMAAMAAwQkAAGCA4ATAzKqql1fVx6rqu1W1saouqqovVtULq2rPSdcHwPQQnACYZc9KsnOSjyR5dZJ3pJvP5EVJzqiqW06uNACmiVn1AJhlu7XWrli4sqpeluT5SZ6X5GmrXhUAU0ePEwAza7HQ1Ht3v7zdatUCwHQTnADYGj2kX54x0SoAmBpu1QNg5lXVc5PskmT3JL+e5F7pQtMxk6wLgOkhOAGwNXhukpvO+/pDSZ7QWvvRUMOqWr/Epv3HURgA08GtegDMvNbaPq21SrJPkocnuU2SL1bVwZOtDIBpoccJgK1Ga+28JCdW1WlJzklyfJIDB9ocstj6vidK8ALYSghOTMRF799v5DYn3/GVI7fZaZvtR25z3tVXjtzmptveYMQWO4x8juXY9p17jNzm5989ZwUqgbWltfbtqvpKkoOqaq/W2gWTrgmAtc2tegBsrW7eL6+eaBUATAXBCYCZVFX7V9U+i6zfpn8A7t5JTm2t/Xj1qwNg2rhVD4BZ9eAkr6iqTyb5RpIL082sd990k0P8MMlTJlceANNEcAJgVn00yRuS3DPJHZPcKMnl6SaFeFuS17TWLppceQBME8EJgJnUWjszydMnXQcAs8EYJwAAgAGCEwAAwADBCQAAYIDgBAAAMEBwAgAAGGBWPQBYpgP33T3rjzls0mUAsAr0OAEAAAzQ48REXHL6niO3+eGBo5/nl7cZ/XcDv7TdLiO3uapdPXKb1fCpl//9yG22/5ttR27z4LNH/437V8/Zd+Q2q2WbjaN/39z2hCtGbvO1I3cYuc3t9zt35DbLudb7/fHnR24DALNMjxMAAMAAwQkAAGCA4AQAADDAGCcAWKYzz7046446adJlXMcGs/wBrAg9TgAAAAMEJwAAgAGCEwAAwADBCQAAYIDgBAAAMEBwAgAAGCA4ATCTqmrPqnpyVZ1YVV+vqo1VdXFV/XdV/UFV+T8QgM3mOU4AzKojkvxjkh8kOSXJd5LcNMnDk7wpyW9V1RGttTa5EgGYFoITE7Hu6M+M3ObZ737SyG1+cN89Rm6zHLsc9sOR9v/YHd61QpVsuauW8RHyfbd/7+iNbj96k9WyzTI646951DUrUMn1veni24zcZuOr9l2BSqbCOUl+N8lJrbVf/AVV1fOTfD7JI9KFqH+bTHkATBO3KQAwk1prH2+t/ef80NSv/2GS1/df3m/VCwNgKglOAGyS1509AAAO80lEQVSNruqXP59oFQBMDcEJgK1KVW2X5Pf7Lz80yVoAmB7GOAGwtTkmyYFJPtBa+/DQzlW1folN+4+1KgDWND1OAGw1quqZSZ6T5OwkR064HACmiB4nALYKVfX0JK9O8pUkD2itXbQ57VprhyxxvPVJDh5fhQCsZXqcAJh5VfVnSV6X5Mwkh/Yz6wHAZhOcAJhpVfXnSf4uyenpQtP5Ey4JgCkkOAEws6rqL9JNBrE+3e15F0y4JACmlDFOAMykqnp8kpckuTrJp5I8s6oW7rahtfbWVS4NgCkkOAEwq27dL7dN8mdL7PNfSd66KtUAMNXcqgfATGqtvai1VgOv+026TgCmgx4npsY1Z5w9cpubnrEChSxi23/ZY6T97/+AZ6xQJddVTxp9DPxeO14+cptrcr3bnwYdsNvok5q9ZO8vjNxmOY74+m+P3GY51+Bb77/NyG1uedzo/w5ueOHnR24DAFyXHicAAIABghMAAMAAwQkAAGCA4AQAADDA5BAAsEwH7rt71h9z2KTLAGAV6HECAAAYIDgBAAAMEJwAAAAGCE4AAAADBCcAAIABZtUDgGU689yLs+6ok1b9vBvM5Aew6vQ4AQAADNDjBGNw9YUXjbT/Lu/+7ApVssC7R2+ycfxVLOpLe+4xcpuH7P+UFajk+urTp6/KeW6eH47c5uoVqAMAGKbHCQAAYIDgBAAAMEBwAgAAGCA4AQAADBCcAJhZVfXIqnptVX2qqi6pqlZVb590XQBMH7PqATDLjk5yxySXJflekv0nWw4A00qPEwCz7FlJ9kuyW5KnTrgWAKaYHicAZlZr7ZS5P1fVJEsBYMrpcQIAABggOAEAAAxwqx4AbEJVrV9ik4kmALYiepwAAAAG6HECJuLqCy8auU19evQ2sKVaa4cstr7viTp4lcsBYEL0OAEAAAwQnAAAAAYITgAAAAOMcQJgZlXV4UkO77/cp1/evare2v/5gtbac1e9MACmjuAEwCw7KMnjF6y7Tf9Kkm8nEZwAGORWPQBmVmvtRa212sRr3aRrBGA6CE4AAAADBCcAAIABghMAAMAAwQkAAGCA4AQAADDAdOQAsEwH7rt71h9z2KTLAGAV6HECAAAYIDgBAAAMEJwAAAAGCE4AAAADBCcAAIABZtUDgGU689yLs+6ok1blXBvM3gcwUXqcAAAABghOAAAAAwQnAACAAYITAADAAMEJAABggOAEAAAwQHACYKZV1S2q6riq+n5VXVlVG6rq2Kq68aRrA2B6eI4TADOrqm6b5NQkeyd5X5Kzk9wlyZ8meXBV3bO1duEESwRgSuhxAmCW/UO60PTM1trhrbWjWmv3T/J3SW6f5GUTrQ6AqSE4ATCTquo2SR6UZEOSv1+w+YVJLk9yZFXtvMqlATCFBCcAZtX9++XJrbVr5m9orV2a5NNJdkpyt9UuDIDpIzgBMKtu3y/PWWL71/rlfqtQCwBTzuQQAMyq3fvlxUtsn1t/o00dpKrWL7Fp/+UUBcB00uMEwNaq+mWbaBUATAU9TgDMqrkepd2X2L7bgv0W1Vo7ZLH1fU/UwcsrDYBpo8cJgFn11X651Bim2/XLpcZAAcAvCE4AzKpT+uWDquo6/99V1a5J7plkY5LPrnZhAEwfwQmAmdRa+0aSk5OsS/L0BZtfnGTnJMe31i5f5dIAmELGOAEwy56W5NQkr6mqByQ5K8ldkxya7ha9F0ywNgCmiB4nAGZW3+v060nemi4wPSfJbZO8JsndW2sXTq46AKaJHicAZlpr7btJnjjpOgCYbnqcAAAABghOAAAAAwQnAACAAYITAADAAMEJAABggFn1AGCZDtx396w/5rBJlwHAKtDjBAAAMEBwAgAAGCA4AQAADBCcAAAABghOAAAAAwQnAACAAYITAADAAMEJAABggOAEAAAwQHACAAAYIDgBAAAMEJwAAAAGCE4AAAADBCcAAIAB2026AACYUuvOOuusHHLIIZOuA4AlnHXWWUmybhzHEpwAYHl22bhx49WnnXba/066kAnbv1+ePdEqJs916LgOHdehsxauw7okl4zjQIITACzPmUnSWtuqu5yqan3iOrgOHdeh4zp0Zu06GOMEAAAwQHACAAAYMLO36n3kmvfUpGsAAABmgx4nAACAAYITAADAgGqtTboGAACANU2PEwAAwADBCQAAYIDgBAAAMEBwAgAAGCA4AQAADBCcAAAABghOAAAAAwQnAOhV1S2q6riq+n5VXVlVG6rq2Kq68YjH2aNvt6E/zvf7495ipWofpy29DlW1c1U9tqr+parOrqrLq+rSqvqfqnpOVe2w0u9hHMb1/bDgmPepqqurqlXVS8dZ70oZ53WoqjtU1fFV9d3+WOdX1X9V1e+vRO3jNMafD/eqqvf17a+oqu9U1Qeq6sErVfu4VNUjq+q1VfWpqrqk/z5++zKPNfZ/XyvNA3ABIElV3TbJqUn2TvK+JGcnuUuSQ5N8Nck9W2sXbsZx9uyPs1+Sjyf5QpL9kzw0yflJ7t5a++ZKvIdxGMd16D8AfjDJRUlOSfL1JHskeUiSffrjP6C1dsUKvY0tNq7vhwXH3DXJGUn2SrJLkpe11o4eZ93jNs7rUFVPSPKmJD9N8v4kG5LcKMmBSb7fWnv0mMsfmzH+fHhqkn9IcnmSE5N8L8ktkjw8yU5Jjm6tvWwl3sM4VNXpSe6Y5LJ0te+f5B2ttceNeJyx//taFa01Ly8vLy+vrf6V5MNJWpJnLFj/qn796zfzOP/U7/+qBeuf2a//0KTf60pfhyQHJXlskh0WrN81yfr+OM+Z9Htdje+HBW2PSxcmn98f46WTfp+rdR2S3C3Jz5OcnmSfRbZvP+n3utLXIcn2SX6SZGOS2y/YdkCSK9KFyhtM+v1u4j0cmuR2SSrJ/fr3/vZJfV+t9kuPEwBbvaq6TZJvpPsN+G1ba9fM27Zrkh+k+6Cwd2vt8k0cZ+ckP0pyTZKbtdYunbdtm/4c6/pzrLlep3Fdh4FzPCbJO5K8v7X2kC0uegWsxHWoqocmeW+SI5Nsl+QtWeM9TuO8DlX1yST3TnKH1tqZK1b0Chjjz4ebJvlhkjNaa3dcZPsZSe6QZK+2FntbFqiq+6XrUR6px2k1fs6sFGOcACC5f788ef5/4knSh59Pp7uN5m4Dx7l7kh2TfHp+aOqPc02Sk/svD93iilfGuK7DplzVL3++BcdYaWO9DlW1d5I3Jnlva21Z40EmZCzXoR/bd+8k/5Pky1V1aFU9tx/v9oD+lwpr2bi+H85P94uV/arqdvM3VNV+6XpyTp+G0LSFVuPnzIpY69+oALAabt8vz1li+9f65X6rdJxJWY36n9QvP7QFx1hp474Ob0j3meuPt6SoCRjXdbjzvP0/3r9ekeRvk3w0yelV9ctbUOdKG8t1aN1tXk9P972wvqr+uar+X1Udn+4W1i8nOWIM9a51U/tzcrtJFwAAa8Du/fLiJbbPrb/RKh1nUla0/qr6kyQPTjfO5bjlHGOVjO06VNWT0k0M8nuttfPGUNtqGtd12LtfPirJBekmQvhYkpskeWG62xdPqqo7tNZ+tvxyV8zYvh9aa++pqu8n+dck82cSPC/d7Ztr7hbeFTC1Pyf1OAHAsOqXWzoweFzHmZRl119VD09ybLoxHo9orV010GQt26zrUFXr0r3n97TW3r3CNU3C5n4/bDtv+eTW2omttUtaa99I8vh0t/Dtl+QRK1PmitvsfxdV9bh0vWyfSjchxE798mNJXpfknStU4zRZsz8nBScAuPY3nLsvsX23Bfut9HEmZUXqr6rD030gPD/J/dbixBgLjOs6HJduBrWnjaOoCRjXdfhxv7wyyQfmb+hvX3tf/+VdRi1wlYzlOvTjmI5Ld0veka21s1trG1trZ6frdVuf5Ih+0oVZNrU/JwUnAOieG5IsfU/93EDupe7JH/dxJmXs9VfVEUnek+5WpPu21r460GQtGNd1ODjdbWo/6h8U2qqqpbslK0le0K9775aVu2LG/e/i0oWTAfTmgtWOI9S2msZ1HR6Ubkry/1pkUoRrknyy//KQ5RQ5Rab256QxTgDQTambJA+qqm0WmR73nul6Dj47cJzP9vvds6p2XWQ68gctON9aM67rMNfmMUmOT3JukkOnoKdpzriuw/HpbsVa6HZJ7pNurNf6JF/c4opXxriuwxnpxjbtVVU3XWSs14H9csOWl7wixnUdbtAvb7LE9rn1a3Gc1ziN9efMatLjBMBWrx9rcXK6Zyw9fcHmFyfZOcnx858pUlX7V9X+C45zWZK39fu/aMFx/qQ//ofXaoAY13Xo1z8+3bX4TpL7rNX3vJgxfj88s7X25IWvXNvjdFK/7u9X7M1sgTFeh5+nezB0kvzN/OnHq+oOSZ6Qbnr6E8b8FsZijP8uPtUvH1lVvzZ/Q1UdlOSR6cb1fHx81U9OVW3fX4fbzl+/nOu5VngALgAk6f9zPzXdrVXvS3JWkrume+bSOUnuMf/5Kv0tV2mt1YLj7NkfZ790H4A+n27w90PTjfG5R//BYU0ax3WoqkPTDYDfJt2Yju8ucqqftNaOXaG3scXG9f2wxLGfkCl4AG4y1n8XO6WbAOFu6XrYPpGuh+UR6W7Re05r7VUr/HaWbYzX4bgkT0zXq3Rikm+nCxCHJ9khybGttWet8NtZtn684uH9l/sk+c10MwHOhcILWmvP7fddl+RbSb7dWlu34DgjXc+1QnACgF5V3TLJS9JNmb1nuifYvzfJi1trFy3Yd8kPylW1R7pplg9PcrMkFyb5YJK/bK19byXfwzhs6XWYFww25XofptaacX0/LHLcJ2RKglMy1n8XOyX5v0keneTWSa5I8oUkr2ytfXAl38M4jOM6VFWlm0nwCUnumGTXJJekC5NvbK2t6Vn1qupF6X62LeUX/643FZz67Zt9PdcKwQkAAGCAMU4AAAADBCcAAIABghMAAMAAwQkAAGCA4AQAADBAcAIAABggOAEAAAwQnAAAAAYITgAAAAMEJwAAgAGCEwAAwADBCQAAYIDgBAAAMEBwAgAAGCA4AQAADBCcAAAABghOAAAAAwQnAACAAYITAADAAMEJAABggOAEAAAw4P8H3efVuEdjPUQAAAAASUVORK5CYII=\n",
=======
      "image/png": "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\n",
>>>>>>> 26ae2b333e26bbb11d14dbbc11641f13ab9fbed8
      "text/plain": [
       "<Figure size 432x648 with 2 Axes>"
      ]
     },
     "metadata": {
      "image/png": {
       "height": 226,
       "width": 423
      },
      "needs_background": "light"
     },
     "output_type": "display_data"
    }
   ],
   "source": [
    "# Hyperparameters for our network\n",
    "input_size = 784\n",
    "hidden_sizes = [128, 64]\n",
    "output_size = 10\n",
    "\n",
    "# Build a feed-forward network\n",
    "model = nn.Sequential(nn.Linear(input_size, hidden_sizes[0]),\n",
    "                      nn.ReLU(),\n",
    "                      nn.Linear(hidden_sizes[0], hidden_sizes[1]),\n",
    "                      nn.ReLU(),\n",
    "                      nn.Linear(hidden_sizes[1], output_size),\n",
    "                      nn.Softmax(dim=1))\n",
    "print(model)\n",
    "\n",
    "# Forward pass through the network and display output\n",
    "images, labels = next(iter(trainloader))\n",
    "images.resize_(images.shape[0], 1, 784)\n",
    "ps = model.forward(images[0,:])\n",
    "helper.view_classify(images[0].view(1, 28, 28), ps)"
   ]
  },
  {
   "cell_type": "markdown",
   "metadata": {},
   "source": [
    "Here our model is the same as before: 784 input units, a hidden layer with 128 units, ReLU activation, 64 unit hidden layer, another ReLU, then the output layer with 10 units, and the softmax output.\n",
    "\n",
    "The operations are availble by passing in the appropriate index. For example, if you want to get first Linear operation and look at the weights, you'd use `model[0]`."
   ]
  },
  {
   "cell_type": "code",
<<<<<<< HEAD
   "execution_count": 28,
=======
   "execution_count": 19,
>>>>>>> 26ae2b333e26bbb11d14dbbc11641f13ab9fbed8
   "metadata": {
    "collapsed": true
   },
   "outputs": [
    {
     "name": "stdout",
     "output_type": "stream",
     "text": [
      "Linear(in_features=784, out_features=128, bias=True)\n"
     ]
    },
    {
     "data": {
      "text/plain": [
       "Parameter containing:\n",
<<<<<<< HEAD
       "tensor([[ 0.0080, -0.0108,  0.0247,  ...,  0.0097,  0.0135,  0.0040],\n",
       "        [ 0.0349, -0.0216,  0.0349,  ...,  0.0120, -0.0187, -0.0111],\n",
       "        [ 0.0357, -0.0316,  0.0300,  ..., -0.0021, -0.0191, -0.0015],\n",
       "        ...,\n",
       "        [ 0.0204, -0.0191, -0.0310,  ..., -0.0113, -0.0065,  0.0282],\n",
       "        [ 0.0189, -0.0331,  0.0214,  ..., -0.0225,  0.0284, -0.0172],\n",
       "        [ 0.0019, -0.0261, -0.0004,  ..., -0.0219,  0.0250,  0.0269]],\n",
       "       requires_grad=True)"
      ]
     },
     "execution_count": 28,
=======
       "tensor([[ 0.0061, -0.0234,  0.0146,  ..., -0.0015,  0.0112, -0.0111],\n",
       "        [ 0.0044, -0.0279,  0.0165,  ..., -0.0271,  0.0313,  0.0280],\n",
       "        [ 0.0269, -0.0315,  0.0169,  ...,  0.0247,  0.0277, -0.0235],\n",
       "        ...,\n",
       "        [-0.0038,  0.0345, -0.0214,  ...,  0.0036, -0.0015,  0.0194],\n",
       "        [-0.0173,  0.0321,  0.0351,  ..., -0.0186,  0.0049,  0.0066],\n",
       "        [ 0.0217, -0.0002,  0.0213,  ...,  0.0152, -0.0160, -0.0056]],\n",
       "       requires_grad=True)"
      ]
     },
     "execution_count": 19,
>>>>>>> 26ae2b333e26bbb11d14dbbc11641f13ab9fbed8
     "metadata": {},
     "output_type": "execute_result"
    }
   ],
   "source": [
    "print(model[0])\n",
    "model[0].weight"
   ]
  },
  {
   "cell_type": "markdown",
   "metadata": {},
   "source": [
    "You can also pass in an `OrderedDict` to name the individual layers and operations, instead of using incremental integers. Note that dictionary keys must be unique, so _each operation must have a different name_."
   ]
  },
  {
   "cell_type": "code",
<<<<<<< HEAD
   "execution_count": 29,
=======
   "execution_count": 20,
>>>>>>> 26ae2b333e26bbb11d14dbbc11641f13ab9fbed8
   "metadata": {
    "collapsed": true
   },
   "outputs": [
    {
     "data": {
      "text/plain": [
       "Sequential(\n",
       "  (fc1): Linear(in_features=784, out_features=128, bias=True)\n",
       "  (relu1): ReLU()\n",
       "  (fc2): Linear(in_features=128, out_features=64, bias=True)\n",
       "  (relu2): ReLU()\n",
       "  (output): Linear(in_features=64, out_features=10, bias=True)\n",
       "  (softmax): Softmax()\n",
       ")"
      ]
     },
<<<<<<< HEAD
     "execution_count": 29,
=======
     "execution_count": 20,
>>>>>>> 26ae2b333e26bbb11d14dbbc11641f13ab9fbed8
     "metadata": {},
     "output_type": "execute_result"
    }
   ],
   "source": [
    "from collections import OrderedDict\n",
    "model = nn.Sequential(OrderedDict([\n",
    "                      ('fc1', nn.Linear(input_size, hidden_sizes[0])),\n",
    "                      ('relu1', nn.ReLU()),\n",
    "                      ('fc2', nn.Linear(hidden_sizes[0], hidden_sizes[1])),\n",
    "                      ('relu2', nn.ReLU()),\n",
    "                      ('output', nn.Linear(hidden_sizes[1], output_size)),\n",
    "                      ('softmax', nn.Softmax(dim=1))]))\n",
    "model"
   ]
  },
  {
   "cell_type": "markdown",
   "metadata": {},
   "source": [
    "Now you can access layers either by integer or the name"
   ]
  },
  {
   "cell_type": "code",
<<<<<<< HEAD
   "execution_count": 30,
=======
   "execution_count": 21,
>>>>>>> 26ae2b333e26bbb11d14dbbc11641f13ab9fbed8
   "metadata": {
    "collapsed": true
   },
   "outputs": [
    {
     "name": "stdout",
     "output_type": "stream",
     "text": [
      "Linear(in_features=784, out_features=128, bias=True)\n",
      "Linear(in_features=784, out_features=128, bias=True)\n"
     ]
    }
   ],
   "source": [
    "print(model[0])\n",
    "print(model.fc1)"
   ]
  },
  {
   "cell_type": "markdown",
   "metadata": {},
   "source": [
    "In the next notebook, we'll see how we can train a neural network to accuractly predict the numbers appearing in the MNIST images."
   ]
  }
 ],
 "metadata": {
  "kernelspec": {
   "display_name": "Python 3",
   "language": "python",
   "name": "python3"
  },
  "language_info": {
   "codemirror_mode": {
    "name": "ipython",
    "version": 3
   },
   "file_extension": ".py",
   "mimetype": "text/x-python",
   "name": "python",
   "nbconvert_exporter": "python",
   "pygments_lexer": "ipython3",
<<<<<<< HEAD
   "version": "3.6.7"
=======
   "version": "3.7.1"
>>>>>>> 26ae2b333e26bbb11d14dbbc11641f13ab9fbed8
  }
 },
 "nbformat": 4,
 "nbformat_minor": 2
}
